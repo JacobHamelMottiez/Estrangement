{
 "cells": [
  {
   "cell_type": "markdown",
   "metadata": {},
   "source": [
    "# How to fetch articles and references from Scopus with journal names?"
   ]
  },
  {
   "cell_type": "markdown",
   "metadata": {},
   "source": [
    "## Philosophy corpus"
   ]
  },
  {
   "cell_type": "markdown",
   "metadata": {},
   "source": [
    "This code is to get articles and their references via Scopus API using Pybibliometrics package. Jacob Hamel-Mottiez is responsible for this file. "
   ]
  },
  {
   "cell_type": "code",
   "execution_count": 1,
   "metadata": {},
   "outputs": [],
   "source": [
    "PATH_TO_DATA = r'C:/Users/jacob/OneDrive - Université Laval/biophilo/Data/pybiblio'\n",
    "import pandas as pd\n",
    "import numpy as np\n",
    "import pybliometrics\n",
    "from pybliometrics.scopus import AbstractRetrieval\n",
    "from pybliometrics.scopus import ScopusSearch\n",
    "from tqdm import tqdm\n",
    "import sys\n",
    "import contextlib\n",
    "import io"
   ]
  },
  {
   "cell_type": "markdown",
   "metadata": {},
   "source": [
    "### The philosophy of science journals we will work with"
   ]
  },
  {
   "cell_type": "markdown",
   "metadata": {},
   "source": [
    "As you see, we will both work with generalist journals of philosophy of science as well as more specialized journals in philosophy of biology. The \"\\\" are important. They make sure we get the exact journal name and not an other one that would have all the words of the first.\n",
    "\n",
    "Be careful with the journal \"Studies in history and Philosophy of Science\". As Wikipedia states : \n",
    "\n",
    "\"**Studies in History and Philosophy of Science**_ is a series of three [peer-reviewed](https://en.wikipedia.org/wiki/Peer-review \"Peer-review\") [academic journals](https://en.wikipedia.org/wiki/Academic_journal \"Academic journal\") published by [Elsevier](https://en.wikipedia.org/wiki/Elsevier \"Elsevier\"). It was established in 1970 as a single journal, and was split into two sections–_**Studies in History and Philosophy of Science Part A**_ and _**Studies in History and Philosophy of Science Part B: Studies in History and Philosophy of Modern Physics**_–in 1995. In 1998, a third section, _**Studies in History and Philosophy of Science Part C: Studies in History and Philosophy of Biological and Biomedical Sciences**_, was created.[[1]](https://en.wikipedia.org/wiki/Studies_in_History_and_Philosophy_of_Science#cite_note-1)[[2]](https://en.wikipedia.org/wiki/Studies_in_History_and_Philosophy_of_Science#cite_note-2) In January 2021, all three sections were merged back into Part A, _Studies in History and Philosophy of Science.\""
   ]
  },
  {
   "cell_type": "code",
   "execution_count": 2,
   "metadata": {},
   "outputs": [],
   "source": [
    "general_philo_of_science =[\n",
    "# GENERAL PHILOSOPHY OF SCIENCE JOURNALS \n",
    "  #r\"\\\"PHILOSOPHY OF SCIENCE\\\"\",\n",
    "  #r\"\\\"BRITISH_JOURNAL_FOR_THE_PHILOSOPHY_OF_SCIENCE\\\"\", \n",
    "  #r\"\\\"SYNTHESE\\\"\", \n",
    "  #r\"\\\"ERKENNTNIS\\\"\", \n",
    "  #r\"\\\"EUROPEAN JOURNAL FOR THE PHILOSOPHY OF SCIENCE\\\"\", \n",
    "  #r\"\\\"INTERNATIONAL STUDIES IN THE PHILOSOPHY OF SCIENCE\\\"\", \n",
    "  #r\"\\\"JOURNAL FOR GENERAL PHILOSOPHY OF SCIENCE\\\"\", \n",
    "  #r\"\\\"FOUNDATIONS OF SCIENCE\\\"\",\n",
    "  #r\"\\\"STUDIES IN HISTORY AND PHILOSOPHY OF SCIENCE\\\"\"\n",
    "]\n",
    "\n",
    "specialized_philo_bio_journals = [\n",
    "# SPECIALIZED PHILOSOPHY OF BIOLOGY JOURNALS\n",
    "  #r\"\\\"BIOLOGY & PHILOSOPHY\\\"\",\n",
    "  #r\"\\\"BIOLOGY AND PHILOSOPHY\\\"\",\n",
    "  r\"\\\"BIOLOGICAL THEORY\\\"\",\n",
    "  #r\"\\\"STUDIES IN HISTORY AND PHILOSOPHY OF SCIENCE PART C\\\"\",\n",
    "  #r\"\\\"HISTORY AND PHILOSOPHY OF THE LIFE SCIENCES\\\"\",\n",
    "  #r\"\\\"ACTA BIOTHEORETICA\\\"\",\n",
    "  #r\"\\\"BEHAVIORAL AND BRAIN SCIENCES\\\"\",\n",
    "  #r\"\\\"BIOESSAYS\\\"\",\n",
    "  #r\"\\\"BIOSEMIOTICS\\\"\",\n",
    "]"
   ]
  },
  {
   "cell_type": "markdown",
   "metadata": {},
   "source": [
    "This part is to simplify file saving and loading in the future. "
   ]
  },
  {
   "cell_type": "code",
   "execution_count": 3,
   "metadata": {},
   "outputs": [],
   "source": [
    "for_name_general_philo_of_science =[\n",
    "    \n",
    "# GENERAL PHILOSOPHY OF SCIENCE JOURNALS    \n",
    "  #\"PHILOSOPHY_OF_SCIENCE\",\n",
    "  #\"THE_BRITISH_JOURNAL_FOR_THE_PHILOSOPHY_OF_SCIENCE\", \n",
    "  #\"SYNTHESE\", \n",
    "  #\"ERKENNTNIS\", \n",
    "  #\"EUROPEAN_JOURNAL_FOR_THE_PHILOSOPHY_OF_SCIENCE\", \n",
    "  #\"INTERNATIONAL_STUDIES_IN_THE_PHILOSOPHY_OF_SCIENCE\", \n",
    "  #\"JOURNAL_FOR_GENERAL_PHILOSOPHY_OF_SCIENCE\", \n",
    "  #\"FOUNDATIONS_OF_SCIENCE\",\n",
    "  #\"STUDIES_IN_HISTORY_AND_PHILOSOPHY_OF_SCIENCE\"\n",
    "]\n",
    "for_name_specialized_philo_bio_journals = [\n",
    "# SPECIALIZED PHILOSOPHY OF BIOLOGY JOURNALS\n",
    "  #\"BIOLOGY_&_PHILOSOPHY\",\n",
    "  #\"BIOLOGY_AND_PHILOSOPHY\",\n",
    "  \"BIOLOGICAL_THEORY\",\n",
    "  #\"STUDIES_IN_HISTORY_AND_PHILOSOPHY_OF_SCIENCE_PART_C\",\n",
    "  #\"HISTORY_AND_PHILOSOPHY_OF_THE_LIFE_SCIENCES\"\n",
    "  #\"ACTA_BIOTHEORETICA\",\n",
    "  #\"BEHAVIORAL_AND_BRAIN_SCIENCES\",\n",
    "  #\"BIOESSAYS\",\n",
    "  #\"BIOSEMIOTICS\",\n",
    "]"
   ]
  },
  {
   "cell_type": "markdown",
   "metadata": {},
   "source": [
    "### Fetch Philosophy of Science (both general and specialized) Articles"
   ]
  },
  {
   "cell_type": "markdown",
   "metadata": {},
   "source": [
    "The main function to fetch articles is called \"ScopusSearch\". If possible, you should prioritize getting the \"FULL\" view if you want to get the maximum of information available. "
   ]
  },
  {
   "cell_type": "code",
   "execution_count": 21,
   "metadata": {},
   "outputs": [
    {
     "name": "stderr",
     "output_type": "stream",
     "text": [
      "<>:13: DeprecationWarning: invalid escape sequence '\\D'\n",
      "<>:13: DeprecationWarning: invalid escape sequence '\\D'\n",
      "C:\\Users\\jacob\\AppData\\Local\\Temp\\ipykernel_17660\\4291687250.py:13: DeprecationWarning: invalid escape sequence '\\D'\n",
      "  result_df.to_csv(\"C:\\\\Users\\\\jacob\\\\OneDrive - Université Laval\\\\biophilo\\Data\\\\\"+ for_name_specialized_philo_bio_journals[i] + \".csv\")\n"
     ]
    },
    {
     "name": "stdout",
     "output_type": "stream",
     "text": [
      "EXACTSRCTITLE(\\\"BIOLOGY & PHILOSOPHY\\\")\n",
      "EXACTSRCTITLE(\\\"BIOLOGY AND PHILOSOPHY\\\")\n",
      "EXACTSRCTITLE(\\\"BIOLOGICAL THEORY\\\")\n",
      "EXACTSRCTITLE(\\\"STUDIES IN HISTORY AND PHILOSOPHY OF SCIENCE PART C\\\")\n",
      "Downloading results for query \"EXACTSRCTITLE(\\\"STUDIES IN HISTORY AND PHILOSOPHY OF SCIENCE PART C\\\")\":\n"
     ]
    },
    {
     "name": "stderr",
     "output_type": "stream",
     "text": [
      "100%|██████████| 42/42 [00:29<00:00,  1.39it/s]\n"
     ]
    },
    {
     "name": "stdout",
     "output_type": "stream",
     "text": [
      "EXACTSRCTITLE(\\\"HISTORY AND PHILOSOPHY OF THE LIFE SCIENCES\\\")\n"
     ]
    }
   ],
   "source": [
    "pybliometrics.scopus.init()\n",
    "\n",
    "from pybliometrics.scopus import ScopusSearch\n",
    "article_list = pd.DataFrame()  # Initialize an empty DataFrame to store results\n",
    "\n",
    "for i in range(len(specialized_philo_bio_journals)):  \n",
    "    pybliometrics.scopus.init()\n",
    "    query = \"EXACTSRCTITLE(\" + specialized_philo_bio_journals[i] + \")\" \n",
    "    print(query)\n",
    "    s = ScopusSearch(query, verbose=True, subscriber = True, view = \"COMPLETE\")\n",
    "    result = s.results\n",
    "    result_df = pd.DataFrame(result)\n",
    "    result_df.to_csv(\"C:\\\\Users\\\\jacob\\\\OneDrive - Université Laval\\\\biophilo\\Data\\\\\"+ for_name_specialized_philo_bio_journals[i] + \".csv\")\n"
   ]
  },
  {
   "cell_type": "markdown",
   "metadata": {},
   "source": [
    "The journals have been selected on what Khelfaoui et al. (2021), Malaterre et al. (2021) and others have done. Kept only general journals and did not include journals that were specificaly about a speciality other than philosophy of biology. It is noteworthy to say that if there is a limitation of 40 references with RScopus package in R, this limitation is not found in Pybibliometrics. Moreover, another limitation with RScopus is that you cannot directly fetch more than 5000 entries. This problems doesn't appear neither with Pybibliometrics. If you still want to operate with RScopus, you can find a script [here](https://github.com/christopherBelter/scopusAPI) but some tweaking will be necessary (notably to add your insttoken if you have one)."
   ]
  },
  {
   "cell_type": "code",
   "execution_count": null,
   "metadata": {},
   "outputs": [
    {
     "ename": "OSError",
     "evalue": "[WinError 123] The filename, directory name, or volume label syntax is incorrect: 'C:\\\\\"BIOLOGICAL THEORY\\\\\"'",
     "output_type": "error",
     "traceback": [
      "\u001b[1;31m---------------------------------------------------------------------------\u001b[0m",
      "\u001b[1;31mOSError\u001b[0m                                   Traceback (most recent call last)",
      "Cell \u001b[1;32mIn[6], line 3\u001b[0m\n\u001b[0;32m      1\u001b[0m pybliometrics\u001b[38;5;241m.\u001b[39mscopus\u001b[38;5;241m.\u001b[39minit()\n\u001b[1;32m----> 3\u001b[0m s \u001b[38;5;241m=\u001b[39m \u001b[43mAbstractRetrieval\u001b[49m\u001b[43m(\u001b[49m\u001b[38;5;124;43mr\u001b[39;49m\u001b[38;5;124;43m\"\u001b[39;49m\u001b[38;5;130;43;01m\\\"\u001b[39;49;00m\u001b[38;5;124;43mBIOLOGICAL THEORY\u001b[39;49m\u001b[38;5;130;43;01m\\\"\u001b[39;49;00m\u001b[38;5;124;43m\"\u001b[39;49m\u001b[43m,\u001b[49m\u001b[43m \u001b[49m\u001b[43mid_type\u001b[49m\u001b[38;5;241;43m=\u001b[39;49m\u001b[38;5;124;43m\"\u001b[39;49m\u001b[38;5;124;43meid\u001b[39;49m\u001b[38;5;124;43m\"\u001b[39;49m\u001b[43m,\u001b[49m\u001b[43m \u001b[49m\u001b[43mview\u001b[49m\u001b[38;5;241;43m=\u001b[39;49m\u001b[38;5;124;43m\"\u001b[39;49m\u001b[38;5;124;43mFULL\u001b[39;49m\u001b[38;5;124;43m\"\u001b[39;49m\u001b[43m)\u001b[49m\n",
      "File \u001b[1;32mc:\\Users\\jacob\\anaconda3\\envs\\test\\Lib\\site-packages\\pybliometrics\\scopus\\abstract_retrieval.py:736\u001b[0m, in \u001b[0;36mAbstractRetrieval.__init__\u001b[1;34m(self, identifier, refresh, view, id_type, **kwds)\u001b[0m\n\u001b[0;32m    734\u001b[0m \u001b[38;5;28mself\u001b[39m\u001b[38;5;241m.\u001b[39m_view \u001b[38;5;241m=\u001b[39m view\n\u001b[0;32m    735\u001b[0m \u001b[38;5;28mself\u001b[39m\u001b[38;5;241m.\u001b[39m_refresh \u001b[38;5;241m=\u001b[39m refresh\n\u001b[1;32m--> 736\u001b[0m \u001b[43mRetrieval\u001b[49m\u001b[38;5;241;43m.\u001b[39;49m\u001b[38;5;21;43m__init__\u001b[39;49m\u001b[43m(\u001b[49m\u001b[38;5;28;43mself\u001b[39;49m\u001b[43m,\u001b[49m\u001b[43m \u001b[49m\u001b[43midentifier\u001b[49m\u001b[38;5;241;43m=\u001b[39;49m\u001b[43midentifier\u001b[49m\u001b[43m,\u001b[49m\u001b[43m \u001b[49m\u001b[43mid_type\u001b[49m\u001b[38;5;241;43m=\u001b[39;49m\u001b[43mid_type\u001b[49m\u001b[43m,\u001b[49m\n\u001b[0;32m    737\u001b[0m \u001b[43m                   \u001b[49m\u001b[43mapi\u001b[49m\u001b[38;5;241;43m=\u001b[39;49m\u001b[38;5;124;43m'\u001b[39;49m\u001b[38;5;124;43mAbstractRetrieval\u001b[39;49m\u001b[38;5;124;43m'\u001b[39;49m\u001b[43m,\u001b[49m\u001b[43m \u001b[49m\u001b[38;5;241;43m*\u001b[39;49m\u001b[38;5;241;43m*\u001b[39;49m\u001b[43mkwds\u001b[49m\u001b[43m)\u001b[49m\n\u001b[0;32m    738\u001b[0m \u001b[38;5;28;01mif\u001b[39;00m \u001b[38;5;28mself\u001b[39m\u001b[38;5;241m.\u001b[39m_view \u001b[38;5;129;01min\u001b[39;00m (\u001b[38;5;124m'\u001b[39m\u001b[38;5;124mMETA\u001b[39m\u001b[38;5;124m'\u001b[39m, \u001b[38;5;124m'\u001b[39m\u001b[38;5;124mMETA_ABS\u001b[39m\u001b[38;5;124m'\u001b[39m, \u001b[38;5;124m'\u001b[39m\u001b[38;5;124mREF\u001b[39m\u001b[38;5;124m'\u001b[39m, \u001b[38;5;124m'\u001b[39m\u001b[38;5;124mFULL\u001b[39m\u001b[38;5;124m'\u001b[39m):\n\u001b[0;32m    739\u001b[0m     \u001b[38;5;28mself\u001b[39m\u001b[38;5;241m.\u001b[39m_json \u001b[38;5;241m=\u001b[39m \u001b[38;5;28mself\u001b[39m\u001b[38;5;241m.\u001b[39m_json[\u001b[38;5;124m'\u001b[39m\u001b[38;5;124mabstracts-retrieval-response\u001b[39m\u001b[38;5;124m'\u001b[39m]\n",
      "File \u001b[1;32mc:\\Users\\jacob\\anaconda3\\envs\\test\\Lib\\site-packages\\pybliometrics\\scopus\\superclasses\\retrieval.py:54\u001b[0m, in \u001b[0;36mRetrieval.__init__\u001b[1;34m(self, identifier, api, id_type, **kwds)\u001b[0m\n\u001b[0;32m     52\u001b[0m \u001b[38;5;66;03m# Parse file contents\u001b[39;00m\n\u001b[0;32m     53\u001b[0m params \u001b[38;5;241m=\u001b[39m {\u001b[38;5;124m'\u001b[39m\u001b[38;5;124mview\u001b[39m\u001b[38;5;124m'\u001b[39m: \u001b[38;5;28mself\u001b[39m\u001b[38;5;241m.\u001b[39m_view, \u001b[38;5;241m*\u001b[39m\u001b[38;5;241m*\u001b[39mkwds}\n\u001b[1;32m---> 54\u001b[0m \u001b[43mBase\u001b[49m\u001b[38;5;241;43m.\u001b[39;49m\u001b[38;5;21;43m__init__\u001b[39;49m\u001b[43m(\u001b[49m\u001b[38;5;28;43mself\u001b[39;49m\u001b[43m,\u001b[49m\u001b[43m \u001b[49m\u001b[43mparams\u001b[49m\u001b[38;5;241;43m=\u001b[39;49m\u001b[43mparams\u001b[49m\u001b[43m,\u001b[49m\u001b[43m \u001b[49m\u001b[43murl\u001b[49m\u001b[38;5;241;43m=\u001b[39;49m\u001b[43murl\u001b[49m\u001b[43m,\u001b[49m\u001b[43m \u001b[49m\u001b[43mapi\u001b[49m\u001b[38;5;241;43m=\u001b[39;49m\u001b[43mapi\u001b[49m\u001b[43m)\u001b[49m\n",
      "File \u001b[1;32mc:\\Users\\jacob\\anaconda3\\envs\\test\\Lib\\site-packages\\pybliometrics\\scopus\\superclasses\\base.py:47\u001b[0m, in \u001b[0;36mBase.__init__\u001b[1;34m(self, params, url, api, download, verbose, *args, **kwds)\u001b[0m\n\u001b[0;32m     44\u001b[0m     \u001b[38;5;28;01mraise\u001b[39;00m \u001b[38;5;167;01mValueError\u001b[39;00m(msg)\n\u001b[0;32m     46\u001b[0m \u001b[38;5;66;03m# Compare age of file to test whether we refresh\u001b[39;00m\n\u001b[1;32m---> 47\u001b[0m \u001b[38;5;28mself\u001b[39m\u001b[38;5;241m.\u001b[39m_refresh, mod_ts \u001b[38;5;241m=\u001b[39m \u001b[43m_check_file_age\u001b[49m\u001b[43m(\u001b[49m\u001b[38;5;28;43mself\u001b[39;49m\u001b[43m)\u001b[49m\n\u001b[0;32m     49\u001b[0m \u001b[38;5;66;03m# Read or download, possibly with caching\u001b[39;00m\n\u001b[0;32m     50\u001b[0m fname \u001b[38;5;241m=\u001b[39m \u001b[38;5;28mself\u001b[39m\u001b[38;5;241m.\u001b[39m_cache_file_path\n",
      "File \u001b[1;32mc:\\Users\\jacob\\anaconda3\\envs\\test\\Lib\\site-packages\\pybliometrics\\scopus\\superclasses\\base.py:159\u001b[0m, in \u001b[0;36m_check_file_age\u001b[1;34m(self)\u001b[0m\n\u001b[0;32m    157\u001b[0m refresh \u001b[38;5;241m=\u001b[39m \u001b[38;5;28mself\u001b[39m\u001b[38;5;241m.\u001b[39m_refresh\n\u001b[0;32m    158\u001b[0m \u001b[38;5;28;01mtry\u001b[39;00m:\n\u001b[1;32m--> 159\u001b[0m     mod_ts \u001b[38;5;241m=\u001b[39m \u001b[38;5;28;43mself\u001b[39;49m\u001b[38;5;241;43m.\u001b[39;49m\u001b[43m_cache_file_path\u001b[49m\u001b[38;5;241;43m.\u001b[39;49m\u001b[43mstat\u001b[49m\u001b[43m(\u001b[49m\u001b[43m)\u001b[49m\u001b[38;5;241m.\u001b[39mst_mtime\n\u001b[0;32m    160\u001b[0m     \u001b[38;5;28;01mif\u001b[39;00m \u001b[38;5;129;01mnot\u001b[39;00m \u001b[38;5;28misinstance\u001b[39m(refresh, \u001b[38;5;28mbool\u001b[39m):\n\u001b[0;32m    161\u001b[0m         diff \u001b[38;5;241m=\u001b[39m time() \u001b[38;5;241m-\u001b[39m mod_ts\n",
      "File \u001b[1;32mc:\\Users\\jacob\\anaconda3\\envs\\test\\Lib\\pathlib.py:1013\u001b[0m, in \u001b[0;36mPath.stat\u001b[1;34m(self, follow_symlinks)\u001b[0m\n\u001b[0;32m   1008\u001b[0m \u001b[38;5;28;01mdef\u001b[39;00m\u001b[38;5;250m \u001b[39m\u001b[38;5;21mstat\u001b[39m(\u001b[38;5;28mself\u001b[39m, \u001b[38;5;241m*\u001b[39m, follow_symlinks\u001b[38;5;241m=\u001b[39m\u001b[38;5;28;01mTrue\u001b[39;00m):\n\u001b[0;32m   1009\u001b[0m \u001b[38;5;250m    \u001b[39m\u001b[38;5;124;03m\"\"\"\u001b[39;00m\n\u001b[0;32m   1010\u001b[0m \u001b[38;5;124;03m    Return the result of the stat() system call on this path, like\u001b[39;00m\n\u001b[0;32m   1011\u001b[0m \u001b[38;5;124;03m    os.stat() does.\u001b[39;00m\n\u001b[0;32m   1012\u001b[0m \u001b[38;5;124;03m    \"\"\"\u001b[39;00m\n\u001b[1;32m-> 1013\u001b[0m     \u001b[38;5;28;01mreturn\u001b[39;00m os\u001b[38;5;241m.\u001b[39mstat(\u001b[38;5;28mself\u001b[39m, follow_symlinks\u001b[38;5;241m=\u001b[39mfollow_symlinks)\n",
      "\u001b[1;31mOSError\u001b[0m: [WinError 123] The filename, directory name, or volume label syntax is incorrect: 'C:\\\\\"BIOLOGICAL THEORY\\\\\"'"
     ]
    }
   ],
   "source": []
  },
  {
   "cell_type": "markdown",
   "metadata": {},
   "source": [
    "### Fetch Philosophy of Science (both general and specialized) References"
   ]
  },
  {
   "cell_type": "markdown",
   "metadata": {},
   "source": [
    "This code chunk is simply to load the articles files precedently generated. We we will need them to find their references. "
   ]
  },
  {
   "cell_type": "code",
   "execution_count": 7,
   "metadata": {},
   "outputs": [],
   "source": [
    "import os\n",
    "\n",
    "\n",
    "for name in for_name_specialized_philo_bio_journals:\n",
    "    file_path = os.path.join(PATH_TO_DATA, f\"{name}.csv\")  # Assuming CSV format\n",
    "\n",
    "    if os.path.exists(file_path):  # Check if file exists\n",
    "        globals()[name] = pd.read_csv(file_path)  # Assign to a variable with the file name\n",
    "    else:\n",
    "        print(f\"Warning: {file_path} not found!\")"
   ]
  },
  {
   "cell_type": "markdown",
   "metadata": {},
   "source": [
    "We define a function called 'parse_abstract' that look for each eid of each articles and fetch the corresponding references. We use pandas function `append` instead of a for-loop because it seems that the former is quicker and less prone to errors. "
   ]
  },
  {
   "cell_type": "code",
   "execution_count": 8,
   "metadata": {},
   "outputs": [],
   "source": [
    "# Initialize a list to store reference data\n",
    "references_list = []\n",
    "\n",
    "def parse_abstract(eid):\n",
    "    with contextlib.redirect_stdout(io.StringIO()):  # Suppresses print output\n",
    "        try:\n",
    "            print(f\"Processing EID: {eid}\")\n",
    "            s = AbstractRetrieval(eid, id_type=\"eid\", view=\"FULL\")\n",
    "\n",
    "            if s.references:  # Ensure references exist\n",
    "                df = pd.DataFrame(s.references)\n",
    "                df['citing_eid'] = eid\n",
    "                references_list.append(df)  # Collect results\n",
    "            else:\n",
    "                print(f\"No references found for {eid}\")\n",
    "\n",
    "        except Exception as e:\n",
    "            print(f\"Error processing {eid}: {e}\")\n",
    "\n",
    "tqdm.pandas()  # Initializes tqdm for pandas"
   ]
  },
  {
   "cell_type": "code",
   "execution_count": null,
   "metadata": {},
   "outputs": [
    {
     "name": "stdout",
     "output_type": "stream",
     "text": [
      "Processing journal: BIOLOGICAL_THEORY\n"
     ]
    },
    {
     "name": "stderr",
     "output_type": "stream",
     "text": [
      "  0%|          | 0/714 [00:00<?, ?it/s]"
     ]
    },
    {
     "name": "stderr",
     "output_type": "stream",
     "text": [
      "100%|██████████| 714/714 [00:15<00:00, 45.91it/s]\n"
     ]
    },
    {
     "name": "stdout",
     "output_type": "stream",
     "text": [
      "Saved references: C:\\Users\\jacob\\OneDrive - Université Laval\\biophilo\\Data\\pybiblio\\BIOLOGICAL_THEORY_refs_pyblio.csv\n"
     ]
    }
   ],
   "source": [
    "references_list = []  # List to store extracted references\n",
    "pybliometrics.scopus.init()\n",
    "for name in for_name_specialized_philo_bio_journals:\n",
    "    if name in globals():  # Ensure the DataFrame exists\n",
    "        print(f\"Processing journal: {name}\")\n",
    "        \n",
    "        dfs = globals()[name]  # Fetch the actual DataFrame\n",
    "        \n",
    "        # Apply the function to extract references\n",
    "        df = dfs['eid'].progress_apply(parse_abstract)  \n",
    "        \n",
    "        # Ensure references_list has data before concatenating\n",
    "        if references_list:\n",
    "            references_df = pd.concat(references_list, ignore_index=True)\n",
    "        else:\n",
    "            references_df = pd.DataFrame(columns=['eid', 'citing_eid'])  # Placeholder for empty case\n",
    "\n",
    "        # Save only the extracted references, not the original articles\n",
    "        output_path = f\"C:\\\\Users\\\\jacob\\\\OneDrive - Université Laval\\\\biophilo\\\\Data\\\\pybiblio\\\\{name}_refs_pyblio.csv\"\n",
    "        references_df.to_csv(output_path, index=False)\n",
    "        \n",
    "        print(f\"Saved references: {output_path}\")\n",
    "        \n",
    "        # Clear the list for the next journal to avoid mixing references\n",
    "        references_list.clear()\n",
    "    else:\n",
    "        print(f\"Warning: No DataFrame found for {name}\")"
   ]
  },
  {
   "cell_type": "markdown",
   "metadata": {},
   "source": [
    "## Biology Corpus"
   ]
  },
  {
   "cell_type": "markdown",
   "metadata": {},
   "source": [
    "Once we have those journals, we also want to fetch the journals that philosophers of biology cite. \n",
    "\n",
    "For this we proceeded as follow : \n",
    "1. We took the mean citescore for each journal (mean of n.citations/n. of articles published through all the years). \n",
    "2. We weighted this citescore with the number of citations from our philosophy of biology corpus. \n",
    "3. We selected 31 journal in Biology ranging from general biology to more specific areas such as Evolution, Cell biology, Ecology, Molecular Biology. We do not pretend that this representation of biology is fully representative of biology itself, but we contend that it is representative of what philosophers consider *relevant* biology. "
   ]
  },
  {
   "cell_type": "code",
   "execution_count": 4,
   "metadata": {},
   "outputs": [],
   "source": [
    "biology_journals = [\n",
    "    #r\"\\\"JOURNAL OF THEORETICAL BIOLOGY\\\"\",\n",
    "    r\"\\\"EVOLUTION\\\"\",\n",
    "    r\"\\\"CELL\\\"\",\n",
    "    r\"\\\"PROCEEDINGS OF THE NATIONAL ACADEMY OF SCIENCES OF THE UNITED STATES OF AMERICA\\\"\",\n",
    "    r\"\\\"NATURE REVIEWS GENETICS\\\"\",\n",
    "    r\"\\\"GENETICS\\\"\",\n",
    "    r\"\\\"AMERICAN NATURALIST\\\"\",\n",
    "    r\"\\\"CURRENT BIOLOGY\\\"\",\n",
    "    r\"\\\"TRENDS IN COGNITIVE SCIENCES\\\"\",\n",
    "    r\"\\\"TRENDS IN ECOLOGY AND EVOLUTION\\\"\",\n",
    "    r\"\\\"JOURNAL OF EVOLUTIONARY BIOLOGY\\\"\",\n",
    "    r\"\\\"QUARTERLY REVIEW OF BIOLOGY\\\"\",\n",
    "    r\"\\\"BIOSCIENCE\\\"\",\n",
    "    r\"\\\"COGNITION\\\"\",\n",
    "    r\"\\\"PHILOSOPHICAL TRANSACTIONS OF THE ROYAL SOCIETY B: BIOLOGICAL SCIENCES\\\"\",\n",
    "    r\"\\\"NATURE GENETICS\\\"\",\n",
    "    r\"\\\"NEURON\\\"\",\n",
    "    r\"\\\"PLOS BIOLOGY\\\"\",\n",
    "    r\"\\\"SYSTEMATIC BIOLOGY\\\"\",\n",
    "    r\"\\\"ECOLOGY\\\"\",\n",
    "    r\"\\\"NATURE NEUROSCIENCE\\\"\",\n",
    "    r\"\\\"ANNALS OF THE NEW YORK ACADEMY OF SCIENCES\\\"\",\n",
    "    r\"\\\"JOURNAL OF MOLECULAR BIOLOGY\\\"\",\n",
    "    r\"\\\"NATURE REVIEWS MICROBIOLOGY\\\"\",\n",
    "    r\"\\\"NATURE REVIEWS NEUROSCIENCE\\\"\",\n",
    "    r\"\\\"BIOLOGICAL REVIEWS\\\"\",\n",
    "    r\"\\\"TRENDS IN MICROBIOLOGY\\\"\",\n",
    "    r\"\\\"JOURNAL OF NEUROSCIENCE\\\"\",\n",
    "    r\"\\\"MOLECULAR BIOLOGY AND EVOLUTION\\\"\",\n",
    "    r\"\\\"TRENDS IN GENETICS\\\"\",\n",
    "    r\"\\\"NATURE REVIEWS MOLECULAR CELL BIOLOGY\\\"\",\n",
    "    r\"\\\"GENOME BIOLOGY\\\"\",\n",
    "    r\"\\\"GENOME RESEARCH\\\"\",\n",
    "    r\"\\\"ANNUAL REVIEW OF MICROBIOLOGY\\\"\",\n",
    "    r\"\\\"ANNUAL REVIEW OF NEUROSCIENCE\\\"\",\n",
    "    r\"\\\"ECOLOGY LETTERS\\\"\",\n",
    "    r\"\\\"ANNUAL REVIEW OF ECOLOGY, EVOLUTION, AND SYSTEMATICS\\\"\",\n",
    "    r\"\\\"ANNUAL REVIEW OF GENETICS\\\"\",\n",
    "    r\"\\\"NATURE REVIEWS CANCER\\\"\",\n",
    "    r\"\\\"AMERICAN JOURNAL OF HUMAN GENETICS\\\"\",\n",
    "    r\"\\\"TRENDS IN NEUROSCIENCES\\\"\",\n",
    "    #r\"\\\"MICROBIOLOGY AND MOLECULAR BIOLOGY REVIEWS\\\"\",\n",
    "    #r\"\\\"TRENDS IN BIOCHEMICAL SCIENCES\\\"\",\n",
    "]\n",
    "\n",
    "\n",
    "for_name_biology_journals = [\n",
    "    #\"JOURNAL_OF_THEORETICAL_BIOLOGY\",\n",
    "    \"EVOLUTION\",\n",
    "    \"CELL\",\n",
    "    \"PROCEEDINGS_OF_THE_NATIONAL_ACADEMY_OF_SCIENCES_OF_THE_UNITED_STATES_OF_AMERICA\",\n",
    "    \"NATURE_REVIEWS_GENETICS\",\n",
    "    \"GENETICS\",\n",
    "    \"AMERICAN_NATURALIST\",\n",
    "    \"CURRENT_BIOLOGY\",\n",
    "    \"TRENDS_IN_COGNITIVE_SCIENCES\",\n",
    "    \"TRENDS_IN_ECOLOGY_AND_EVOLUTION\",\n",
    "    \"JOURNAL_OF_EVOLUTIONARY_BIOLOGY\",\n",
    "    \"QUARTERLY_REVIEW_OF_BIOLOGY\",\n",
    "    \"BIOSCIENCE\",\n",
    "    \"COGNITION\",\n",
    "    \"PHILOSOPHICAL_TRANSACTIONS_OF_THE_ROYAL_SOCIETY_B_BIOLOGICAL_SCIENCES\",\n",
    "    \"NATURE_GENETICS\",\n",
    "    \"NEURON\",\n",
    "    \"PLOS_BIOLOGY\",\n",
    "    \"SYSTEMATIC_BIOLOGY\",\n",
    "    \"ECOLOGY\",\n",
    "    \"NATURE_NEUROSCIENCE\",\n",
    "    \"ANNALS_OF_THE_NEW_YORK_ACADEMY_OF_SCIENCES\",\n",
    "    \"JOURNAL_OF_MOLECULAR_BIOLOGY\",\n",
    "    \"NATURE_REVIEWS_MICROBIOLOGY\",\n",
    "    \"NATURE_REVIEWS_NEUROSCIENCE\",\n",
    "    \"BIOLOGICAL_REVIEWS\",\n",
    "    \"TRENDS_IN_MICROBIOLOGY\",\n",
    "    \"JOURNAL_OF_NEUROSCIENCE\",\n",
    "    \"MOLECULAR_BIOLOGY_AND_EVOLUTION\",\n",
    "    \"TRENDS_IN_GENETICS\",\n",
    "    \"NATURE_REVIEWS_MOLECULAR_CELL_BIOLOGY\",\n",
    "    \"GENOME_BIOLOGY\",\n",
    "    \"GENOME_RESEARCH\",\n",
    "    \"ANNUAL_REVIEW_OF_MICROBIOLOGY\",\n",
    "    \"ANNUAL_REVIEW_OF_NEUROSCIENCE\",\n",
    "    \"ECOLOGY_LETTERS\",\n",
    "    \"ANNUAL_REVIEW_OF_ECOLOGY_EVOLUTION_AND_SYSTEMATICS\",\n",
    "    \"ANNUAL_REVIEW_OF_GENETICS\",\n",
    "    \"NATURE_REVIEWS_CANCER\",\n",
    "    \"AMERICAN_JOURNAL_OF_HUMAN_GENETICS\",\n",
    "    \"TRENDS_IN_NEUROSCIENCES\",\n",
    "    #\"MICROBIOLOGY_AND_MOLECULAR_BIOLOGY_REVIEWS\",\n",
    "    #\"TRENDS_IN_BIOCHEMICAL_SCIENCES\"\n",
    "]\n",
    "\n",
    "\n"
   ]
  },
  {
   "cell_type": "markdown",
   "metadata": {},
   "source": [
    "### Fetch Biology Articles"
   ]
  },
  {
   "cell_type": "code",
   "execution_count": 5,
   "metadata": {},
   "outputs": [
    {
     "name": "stderr",
     "output_type": "stream",
     "text": [
      "<>:10: DeprecationWarning: invalid escape sequence '\\D'\n",
      "<>:10: DeprecationWarning: invalid escape sequence '\\D'\n",
      "C:\\Users\\jacob\\AppData\\Local\\Temp\\ipykernel_55360\\319023575.py:10: DeprecationWarning: invalid escape sequence '\\D'\n",
      "  result_df.to_csv(\"C:\\\\Users\\\\jacob\\\\OneDrive - Université Laval\\\\biophilo\\Data\\\\pybiblio\"+ for_name_biology_journals[i] + \".csv\")\n"
     ]
    },
    {
     "name": "stdout",
     "output_type": "stream",
     "text": [
      "EXACTSRCTITLE(\\\"EVOLUTION\\\")\n",
      "Downloading results for query \"EXACTSRCTITLE(\\\"EVOLUTION\\\")\":\n"
     ]
    },
    {
     "name": "stderr",
     "output_type": "stream",
     "text": [
      "100%|██████████| 5268/5268 [1:07:15<00:00,  1.31it/s]\n"
     ]
    },
    {
     "name": "stdout",
     "output_type": "stream",
     "text": [
      "EXACTSRCTITLE(\\\"CELL\\\")\n",
      "Downloading results for query \"EXACTSRCTITLE(\\\"CELL\\\")\":\n"
     ]
    },
    {
     "name": "stderr",
     "output_type": "stream",
     "text": [
      "100%|██████████| 19097/19097 [3:52:25<00:00,  1.37it/s]  \n"
     ]
    },
    {
     "name": "stdout",
     "output_type": "stream",
     "text": [
      "EXACTSRCTITLE(\\\"PROCEEDINGS OF THE NATIONAL ACADEMY OF SCIENCES OF THE UNITED STATES OF AMERICA\\\")\n",
      "Downloading results for query \"EXACTSRCTITLE(\\\"PROCEEDINGS OF THE NATIONAL ACADEMY OF SCIENCES OF THE UNITED STATES OF AMERICA\\\")\":\n"
     ]
    },
    {
     "name": "stderr",
     "output_type": "stream",
     "text": [
      "100%|██████████| 6074/6074 [1:19:52<00:00,  1.27it/s]  \n"
     ]
    },
    {
     "name": "stdout",
     "output_type": "stream",
     "text": [
      "EXACTSRCTITLE(\\\"NATURE REVIEWS GENETICS\\\")\n",
      "Downloading results for query \"EXACTSRCTITLE(\\\"NATURE REVIEWS GENETICS\\\")\":\n"
     ]
    },
    {
     "name": "stderr",
     "output_type": "stream",
     "text": [
      "100%|██████████| 156/156 [02:33<00:00,  1.01it/s]\n"
     ]
    },
    {
     "name": "stdout",
     "output_type": "stream",
     "text": [
      "EXACTSRCTITLE(\\\"GENETICS\\\")\n",
      "Downloading results for query \"EXACTSRCTITLE(\\\"GENETICS\\\")\":\n"
     ]
    },
    {
     "name": "stderr",
     "output_type": "stream",
     "text": [
      "100%|██████████| 14011/14011 [2:51:36<00:00,  1.36it/s]  \n"
     ]
    },
    {
     "name": "stdout",
     "output_type": "stream",
     "text": [
      "EXACTSRCTITLE(\\\"AMERICAN NATURALIST\\\")\n",
      "Downloading results for query \"EXACTSRCTITLE(\\\"AMERICAN NATURALIST\\\")\":\n"
     ]
    },
    {
     "name": "stderr",
     "output_type": "stream",
     "text": [
      "100%|██████████| 306/306 [05:15<00:00,  1.03s/it]\n"
     ]
    },
    {
     "name": "stdout",
     "output_type": "stream",
     "text": [
      "EXACTSRCTITLE(\\\"CURRENT BIOLOGY\\\")\n",
      "Downloading results for query \"EXACTSRCTITLE(\\\"CURRENT BIOLOGY\\\")\":\n"
     ]
    },
    {
     "name": "stderr",
     "output_type": "stream",
     "text": [
      "100%|██████████| 896/896 [10:45<00:00,  1.39it/s]\n"
     ]
    },
    {
     "name": "stdout",
     "output_type": "stream",
     "text": [
      "EXACTSRCTITLE(\\\"TRENDS IN COGNITIVE SCIENCES\\\")\n",
      "Downloading results for query \"EXACTSRCTITLE(\\\"TRENDS IN COGNITIVE SCIENCES\\\")\":\n"
     ]
    },
    {
     "name": "stderr",
     "output_type": "stream",
     "text": [
      "100%|██████████| 128/128 [01:29<00:00,  1.42it/s]\n"
     ]
    },
    {
     "name": "stdout",
     "output_type": "stream",
     "text": [
      "EXACTSRCTITLE(\\\"TRENDS IN ECOLOGY AND EVOLUTION\\\")\n",
      "Downloading results for query \"EXACTSRCTITLE(\\\"TRENDS IN ECOLOGY AND EVOLUTION\\\")\":\n"
     ]
    },
    {
     "name": "stderr",
     "output_type": "stream",
     "text": [
      "100%|██████████| 200/200 [02:05<00:00,  1.59it/s]\n"
     ]
    },
    {
     "name": "stdout",
     "output_type": "stream",
     "text": [
      "EXACTSRCTITLE(\\\"JOURNAL OF EVOLUTIONARY BIOLOGY\\\")\n",
      "Downloading results for query \"EXACTSRCTITLE(\\\"JOURNAL OF EVOLUTIONARY BIOLOGY\\\")\":\n"
     ]
    },
    {
     "name": "stderr",
     "output_type": "stream",
     "text": [
      "100%|██████████| 212/212 [02:21<00:00,  1.49it/s]\n"
     ]
    },
    {
     "name": "stdout",
     "output_type": "stream",
     "text": [
      "EXACTSRCTITLE(\\\"QUARTERLY REVIEW OF BIOLOGY\\\")\n",
      "Downloading results for query \"EXACTSRCTITLE(\\\"QUARTERLY REVIEW OF BIOLOGY\\\")\":\n"
     ]
    },
    {
     "name": "stderr",
     "output_type": "stream",
     "text": [
      "100%|██████████| 29/29 [00:19<00:00,  1.44it/s]\n"
     ]
    },
    {
     "name": "stdout",
     "output_type": "stream",
     "text": [
      "EXACTSRCTITLE(\\\"BIOSCIENCE\\\")\n",
      "Downloading results for query \"EXACTSRCTITLE(\\\"BIOSCIENCE\\\")\":\n"
     ]
    },
    {
     "name": "stderr",
     "output_type": "stream",
     "text": [
      "100%|██████████| 2227/2227 [25:49<00:00,  1.44it/s] \n"
     ]
    },
    {
     "name": "stdout",
     "output_type": "stream",
     "text": [
      "EXACTSRCTITLE(\\\"COGNITION\\\")\n",
      "Downloading results for query \"EXACTSRCTITLE(\\\"COGNITION\\\")\":\n"
     ]
    },
    {
     "name": "stderr",
     "output_type": "stream",
     "text": [
      "100%|██████████| 2013/2013 [23:41<00:00,  1.41it/s]  \n"
     ]
    },
    {
     "name": "stdout",
     "output_type": "stream",
     "text": [
      "EXACTSRCTITLE(\\\"PHILOSOPHICAL TRANSACTIONS OF THE ROYAL SOCIETY B: BIOLOGICAL SCIENCES\\\")\n",
      "Downloading results for query \"EXACTSRCTITLE(\\\"PHILOSOPHICAL TRANSACTIONS OF THE ROYAL SOCIETY B: BIOLOGICAL SCIENCES\\\")\":\n"
     ]
    },
    {
     "name": "stderr",
     "output_type": "stream",
     "text": [
      "100%|██████████| 371/371 [04:47<00:00,  1.29it/s]\n"
     ]
    },
    {
     "name": "stdout",
     "output_type": "stream",
     "text": [
      "EXACTSRCTITLE(\\\"NATURE GENETICS\\\")\n",
      "Downloading results for query \"EXACTSRCTITLE(\\\"NATURE GENETICS\\\")\":\n"
     ]
    },
    {
     "name": "stderr",
     "output_type": "stream",
     "text": [
      "100%|██████████| 409/409 [06:07<00:00,  1.11it/s]\n"
     ]
    },
    {
     "name": "stdout",
     "output_type": "stream",
     "text": [
      "EXACTSRCTITLE(\\\"NEURON\\\")\n",
      "Downloading results for query \"EXACTSRCTITLE(\\\"NEURON\\\")\":\n"
     ]
    },
    {
     "name": "stderr",
     "output_type": "stream",
     "text": [
      "100%|██████████| 568/568 [07:27<00:00,  1.27it/s]\n"
     ]
    },
    {
     "name": "stdout",
     "output_type": "stream",
     "text": [
      "EXACTSRCTITLE(\\\"PLOS BIOLOGY\\\")\n",
      "Downloading results for query \"EXACTSRCTITLE(\\\"PLOS BIOLOGY\\\")\":\n"
     ]
    },
    {
     "name": "stderr",
     "output_type": "stream",
     "text": [
      "100%|██████████| 285/285 [03:46<00:00,  1.25it/s]\n"
     ]
    },
    {
     "name": "stdout",
     "output_type": "stream",
     "text": [
      "EXACTSRCTITLE(\\\"SYSTEMATIC BIOLOGY\\\")\n",
      "Downloading results for query \"EXACTSRCTITLE(\\\"SYSTEMATIC BIOLOGY\\\")\":\n"
     ]
    },
    {
     "name": "stderr",
     "output_type": "stream",
     "text": [
      "100%|██████████| 117/117 [01:26<00:00,  1.35it/s]\n"
     ]
    },
    {
     "name": "stdout",
     "output_type": "stream",
     "text": [
      "EXACTSRCTITLE(\\\"ECOLOGY\\\")\n",
      "Downloading results for query \"EXACTSRCTITLE(\\\"ECOLOGY\\\")\":\n"
     ]
    },
    {
     "name": "stderr",
     "output_type": "stream",
     "text": [
      "100%|██████████| 13757/13757 [2:48:49<00:00,  1.36it/s]  \n"
     ]
    },
    {
     "name": "stdout",
     "output_type": "stream",
     "text": [
      "EXACTSRCTITLE(\\\"NATURE NEUROSCIENCE\\\")\n",
      "Downloading results for query \"EXACTSRCTITLE(\\\"NATURE NEUROSCIENCE\\\")\":\n"
     ]
    },
    {
     "name": "stderr",
     "output_type": "stream",
     "text": [
      "100%|██████████| 296/296 [05:50<00:00,  1.19s/it]\n"
     ]
    },
    {
     "name": "stdout",
     "output_type": "stream",
     "text": [
      "EXACTSRCTITLE(\\\"ANNALS OF THE NEW YORK ACADEMY OF SCIENCES\\\")\n",
      "Downloading results for query \"EXACTSRCTITLE(\\\"ANNALS OF THE NEW YORK ACADEMY OF SCIENCES\\\")\":\n"
     ]
    },
    {
     "name": "stderr",
     "output_type": "stream",
     "text": [
      "100%|██████████| 2628/2628 [30:26<00:00,  1.44it/s] \n"
     ]
    },
    {
     "name": "stdout",
     "output_type": "stream",
     "text": [
      "EXACTSRCTITLE(\\\"JOURNAL OF MOLECULAR BIOLOGY\\\")\n",
      "Downloading results for query \"EXACTSRCTITLE(\\\"JOURNAL OF MOLECULAR BIOLOGY\\\")\":\n"
     ]
    },
    {
     "name": "stderr",
     "output_type": "stream",
     "text": [
      "100%|██████████| 1388/1388 [17:36<00:00,  1.31it/s]\n"
     ]
    },
    {
     "name": "stdout",
     "output_type": "stream",
     "text": [
      "EXACTSRCTITLE(\\\"NATURE REVIEWS MICROBIOLOGY\\\")\n",
      "Downloading results for query \"EXACTSRCTITLE(\\\"NATURE REVIEWS MICROBIOLOGY\\\")\":\n"
     ]
    },
    {
     "name": "stderr",
     "output_type": "stream",
     "text": [
      "100%|██████████| 150/150 [01:58<00:00,  1.25it/s]\n"
     ]
    },
    {
     "name": "stdout",
     "output_type": "stream",
     "text": [
      "EXACTSRCTITLE(\\\"NATURE REVIEWS NEUROSCIENCE\\\")\n",
      "Downloading results for query \"EXACTSRCTITLE(\\\"NATURE REVIEWS NEUROSCIENCE\\\")\":\n"
     ]
    },
    {
     "name": "stderr",
     "output_type": "stream",
     "text": [
      "100%|██████████| 170/170 [01:49<00:00,  1.54it/s]\n"
     ]
    },
    {
     "name": "stdout",
     "output_type": "stream",
     "text": [
      "EXACTSRCTITLE(\\\"BIOLOGICAL REVIEWS\\\")\n",
      "Downloading results for query \"EXACTSRCTITLE(\\\"BIOLOGICAL REVIEWS\\\")\":\n"
     ]
    },
    {
     "name": "stderr",
     "output_type": "stream",
     "text": [
      "100%|██████████| 103/103 [01:24<00:00,  1.21it/s]\n"
     ]
    },
    {
     "name": "stdout",
     "output_type": "stream",
     "text": [
      "EXACTSRCTITLE(\\\"TRENDS IN MICROBIOLOGY\\\")\n",
      "Downloading results for query \"EXACTSRCTITLE(\\\"TRENDS IN MICROBIOLOGY\\\")\":\n"
     ]
    },
    {
     "name": "stderr",
     "output_type": "stream",
     "text": [
      "100%|██████████| 161/161 [02:05<00:00,  1.28it/s]\n"
     ]
    },
    {
     "name": "stdout",
     "output_type": "stream",
     "text": [
      "EXACTSRCTITLE(\\\"JOURNAL OF NEUROSCIENCE\\\")\n",
      "Downloading results for query \"EXACTSRCTITLE(\\\"JOURNAL OF NEUROSCIENCE\\\")\":\n"
     ]
    },
    {
     "name": "stderr",
     "output_type": "stream",
     "text": [
      "100%|██████████| 3367/3367 [41:32<00:00,  1.35it/s]  \n"
     ]
    },
    {
     "name": "stdout",
     "output_type": "stream",
     "text": [
      "EXACTSRCTITLE(\\\"MOLECULAR BIOLOGY AND EVOLUTION\\\")\n",
      "Downloading results for query \"EXACTSRCTITLE(\\\"MOLECULAR BIOLOGY AND EVOLUTION\\\")\":\n"
     ]
    },
    {
     "name": "stderr",
     "output_type": "stream",
     "text": [
      "100%|██████████| 343/343 [04:54<00:00,  1.16it/s]\n"
     ]
    },
    {
     "name": "stdout",
     "output_type": "stream",
     "text": [
      "EXACTSRCTITLE(\\\"TRENDS IN GENETICS\\\")\n",
      "Downloading results for query \"EXACTSRCTITLE(\\\"TRENDS IN GENETICS\\\")\":\n"
     ]
    },
    {
     "name": "stderr",
     "output_type": "stream",
     "text": [
      "100%|██████████| 191/191 [02:10<00:00,  1.46it/s]\n"
     ]
    },
    {
     "name": "stdout",
     "output_type": "stream",
     "text": [
      "EXACTSRCTITLE(\\\"NATURE REVIEWS MOLECULAR CELL BIOLOGY\\\")\n",
      "Downloading results for query \"EXACTSRCTITLE(\\\"NATURE REVIEWS MOLECULAR CELL BIOLOGY\\\")\":\n"
     ]
    },
    {
     "name": "stderr",
     "output_type": "stream",
     "text": [
      "100%|██████████| 162/162 [01:45<00:00,  1.52it/s]\n"
     ]
    },
    {
     "name": "stdout",
     "output_type": "stream",
     "text": [
      "EXACTSRCTITLE(\\\"GENOME BIOLOGY\\\")\n",
      "Downloading results for query \"EXACTSRCTITLE(\\\"GENOME BIOLOGY\\\")\":\n"
     ]
    },
    {
     "name": "stderr",
     "output_type": "stream",
     "text": [
      "100%|██████████| 450/450 [05:45<00:00,  1.30it/s]\n"
     ]
    },
    {
     "name": "stdout",
     "output_type": "stream",
     "text": [
      "EXACTSRCTITLE(\\\"GENOME RESEARCH\\\")\n",
      "Downloading results for query \"EXACTSRCTITLE(\\\"GENOME RESEARCH\\\")\":\n"
     ]
    },
    {
     "name": "stderr",
     "output_type": "stream",
     "text": [
      "100%|██████████| 365/365 [04:53<00:00,  1.24it/s]\n"
     ]
    },
    {
     "name": "stdout",
     "output_type": "stream",
     "text": [
      "EXACTSRCTITLE(\\\"ANNUAL REVIEW OF MICROBIOLOGY\\\")\n",
      "Downloading results for query \"EXACTSRCTITLE(\\\"ANNUAL REVIEW OF MICROBIOLOGY\\\")\":\n"
     ]
    },
    {
     "name": "stderr",
     "output_type": "stream",
     "text": [
      "100%|██████████| 73/73 [00:51<00:00,  1.41it/s]\n"
     ]
    },
    {
     "name": "stdout",
     "output_type": "stream",
     "text": [
      "EXACTSRCTITLE(\\\"ANNUAL REVIEW OF NEUROSCIENCE\\\")\n",
      "Downloading results for query \"EXACTSRCTITLE(\\\"ANNUAL REVIEW OF NEUROSCIENCE\\\")\":\n"
     ]
    },
    {
     "name": "stderr",
     "output_type": "stream",
     "text": [
      "100%|██████████| 41/41 [00:28<00:00,  1.39it/s]\n"
     ]
    },
    {
     "name": "stdout",
     "output_type": "stream",
     "text": [
      "EXACTSRCTITLE(\\\"ECOLOGY LETTERS\\\")\n",
      "Downloading results for query \"EXACTSRCTITLE(\\\"ECOLOGY LETTERS\\\")\":\n"
     ]
    },
    {
     "name": "stderr",
     "output_type": "stream",
     "text": [
      "100%|██████████| 177/177 [02:15<00:00,  1.30it/s]\n"
     ]
    },
    {
     "name": "stdout",
     "output_type": "stream",
     "text": [
      "EXACTSRCTITLE(\\\"ANNUAL REVIEW OF ECOLOGY, EVOLUTION, AND SYSTEMATICS\\\")\n",
      "Downloading results for query \"EXACTSRCTITLE(\\\"ANNUAL REVIEW OF ECOLOGY, EVOLUTION, AND SYSTEMATICS\\\")\":\n"
     ]
    },
    {
     "name": "stderr",
     "output_type": "stream",
     "text": [
      "100%|██████████| 23/23 [00:17<00:00,  1.23it/s]\n"
     ]
    },
    {
     "name": "stdout",
     "output_type": "stream",
     "text": [
      "EXACTSRCTITLE(\\\"ANNUAL REVIEW OF GENETICS\\\")\n",
      "Downloading results for query \"EXACTSRCTITLE(\\\"ANNUAL REVIEW OF GENETICS\\\")\":\n"
     ]
    },
    {
     "name": "stderr",
     "output_type": "stream",
     "text": [
      "100%|██████████| 48/48 [00:31<00:00,  1.49it/s]\n"
     ]
    },
    {
     "name": "stdout",
     "output_type": "stream",
     "text": [
      "EXACTSRCTITLE(\\\"NATURE REVIEWS CANCER\\\")\n",
      "Downloading results for query \"EXACTSRCTITLE(\\\"NATURE REVIEWS CANCER\\\")\":\n"
     ]
    },
    {
     "name": "stderr",
     "output_type": "stream",
     "text": [
      "100%|██████████| 149/149 [01:37<00:00,  1.51it/s]\n"
     ]
    },
    {
     "name": "stdout",
     "output_type": "stream",
     "text": [
      "EXACTSRCTITLE(\\\"AMERICAN JOURNAL OF HUMAN GENETICS\\\")\n",
      "Downloading results for query \"EXACTSRCTITLE(\\\"AMERICAN JOURNAL OF HUMAN GENETICS\\\")\":\n"
     ]
    },
    {
     "name": "stderr",
     "output_type": "stream",
     "text": [
      "100%|██████████| 516/516 [06:54<00:00,  1.24it/s]\n"
     ]
    },
    {
     "name": "stdout",
     "output_type": "stream",
     "text": [
      "EXACTSRCTITLE(\\\"TRENDS IN NEUROSCIENCES\\\")\n",
      "Downloading results for query \"EXACTSRCTITLE(\\\"TRENDS IN NEUROSCIENCES\\\")\":\n"
     ]
    },
    {
     "name": "stderr",
     "output_type": "stream",
     "text": [
      "100%|██████████| 219/219 [02:25<00:00,  1.49it/s]\n"
     ]
    }
   ],
   "source": [
    "pybliometrics.scopus.init()\n",
    "\n",
    "for i in range(len(biology_journals)):  \n",
    "    pybliometrics.scopus.init()\n",
    "    query = \"EXACTSRCTITLE(\" + biology_journals[i] + \")\" \n",
    "    print(query)\n",
    "    s = ScopusSearch(query, verbose=True, subscriber = True, view = \"COMPLETE\")\n",
    "    result = s.results\n",
    "    result_df = pd.DataFrame(result)\n",
    "    result_df.to_csv(\"C:\\\\Users\\\\jacob\\\\OneDrive - Université Laval\\\\biophilo\\Data\\\\pybiblio\"+ for_name_biology_journals[i] + \".csv\")"
   ]
  },
  {
   "cell_type": "markdown",
   "metadata": {},
   "source": [
    "### Fetch Biology References"
   ]
  },
  {
   "cell_type": "code",
   "execution_count": 6,
   "metadata": {},
   "outputs": [
    {
     "name": "stdout",
     "output_type": "stream",
     "text": [
      "Warning: C:/Users/jacob/OneDrive - Université Laval/biophilo/Data/pybiblio\\EVOLUTION.csv not found!\n",
      "Warning: C:/Users/jacob/OneDrive - Université Laval/biophilo/Data/pybiblio\\CELL.csv not found!\n",
      "Warning: C:/Users/jacob/OneDrive - Université Laval/biophilo/Data/pybiblio\\PROCEEDINGS_OF_THE_NATIONAL_ACADEMY_OF_SCIENCES_OF_THE_UNITED_STATES_OF_AMERICA.csv not found!\n",
      "Warning: C:/Users/jacob/OneDrive - Université Laval/biophilo/Data/pybiblio\\NATURE_REVIEWS_GENETICS.csv not found!\n",
      "Warning: C:/Users/jacob/OneDrive - Université Laval/biophilo/Data/pybiblio\\GENETICS.csv not found!\n",
      "Warning: C:/Users/jacob/OneDrive - Université Laval/biophilo/Data/pybiblio\\AMERICAN_NATURALIST.csv not found!\n",
      "Warning: C:/Users/jacob/OneDrive - Université Laval/biophilo/Data/pybiblio\\CURRENT_BIOLOGY.csv not found!\n",
      "Warning: C:/Users/jacob/OneDrive - Université Laval/biophilo/Data/pybiblio\\TRENDS_IN_COGNITIVE_SCIENCES.csv not found!\n",
      "Warning: C:/Users/jacob/OneDrive - Université Laval/biophilo/Data/pybiblio\\TRENDS_IN_ECOLOGY_AND_EVOLUTION.csv not found!\n",
      "Warning: C:/Users/jacob/OneDrive - Université Laval/biophilo/Data/pybiblio\\JOURNAL_OF_EVOLUTIONARY_BIOLOGY.csv not found!\n",
      "Warning: C:/Users/jacob/OneDrive - Université Laval/biophilo/Data/pybiblio\\QUARTERLY_REVIEW_OF_BIOLOGY.csv not found!\n",
      "Warning: C:/Users/jacob/OneDrive - Université Laval/biophilo/Data/pybiblio\\BIOSCIENCE.csv not found!\n",
      "Warning: C:/Users/jacob/OneDrive - Université Laval/biophilo/Data/pybiblio\\COGNITION.csv not found!\n",
      "Warning: C:/Users/jacob/OneDrive - Université Laval/biophilo/Data/pybiblio\\PHILOSOPHICAL_TRANSACTIONS_OF_THE_ROYAL_SOCIETY_B_BIOLOGICAL_SCIENCES.csv not found!\n",
      "Warning: C:/Users/jacob/OneDrive - Université Laval/biophilo/Data/pybiblio\\NATURE_GENETICS.csv not found!\n",
      "Warning: C:/Users/jacob/OneDrive - Université Laval/biophilo/Data/pybiblio\\NEURON.csv not found!\n",
      "Warning: C:/Users/jacob/OneDrive - Université Laval/biophilo/Data/pybiblio\\PLOS_BIOLOGY.csv not found!\n",
      "Warning: C:/Users/jacob/OneDrive - Université Laval/biophilo/Data/pybiblio\\SYSTEMATIC_BIOLOGY.csv not found!\n",
      "Warning: C:/Users/jacob/OneDrive - Université Laval/biophilo/Data/pybiblio\\ECOLOGY.csv not found!\n",
      "Warning: C:/Users/jacob/OneDrive - Université Laval/biophilo/Data/pybiblio\\NATURE_NEUROSCIENCE.csv not found!\n",
      "Warning: C:/Users/jacob/OneDrive - Université Laval/biophilo/Data/pybiblio\\ANNALS_OF_THE_NEW_YORK_ACADEMY_OF_SCIENCES.csv not found!\n",
      "Warning: C:/Users/jacob/OneDrive - Université Laval/biophilo/Data/pybiblio\\JOURNAL_OF_MOLECULAR_BIOLOGY.csv not found!\n",
      "Warning: C:/Users/jacob/OneDrive - Université Laval/biophilo/Data/pybiblio\\NATURE_REVIEWS_MICROBIOLOGY.csv not found!\n",
      "Warning: C:/Users/jacob/OneDrive - Université Laval/biophilo/Data/pybiblio\\NATURE_REVIEWS_NEUROSCIENCE.csv not found!\n",
      "Warning: C:/Users/jacob/OneDrive - Université Laval/biophilo/Data/pybiblio\\BIOLOGICAL_REVIEWS.csv not found!\n",
      "Warning: C:/Users/jacob/OneDrive - Université Laval/biophilo/Data/pybiblio\\TRENDS_IN_MICROBIOLOGY.csv not found!\n",
      "Warning: C:/Users/jacob/OneDrive - Université Laval/biophilo/Data/pybiblio\\JOURNAL_OF_NEUROSCIENCE.csv not found!\n",
      "Warning: C:/Users/jacob/OneDrive - Université Laval/biophilo/Data/pybiblio\\MOLECULAR_BIOLOGY_AND_EVOLUTION.csv not found!\n",
      "Warning: C:/Users/jacob/OneDrive - Université Laval/biophilo/Data/pybiblio\\TRENDS_IN_GENETICS.csv not found!\n",
      "Warning: C:/Users/jacob/OneDrive - Université Laval/biophilo/Data/pybiblio\\NATURE_REVIEWS_MOLECULAR_CELL_BIOLOGY.csv not found!\n",
      "Warning: C:/Users/jacob/OneDrive - Université Laval/biophilo/Data/pybiblio\\GENOME_BIOLOGY.csv not found!\n",
      "Warning: C:/Users/jacob/OneDrive - Université Laval/biophilo/Data/pybiblio\\GENOME_RESEARCH.csv not found!\n",
      "Warning: C:/Users/jacob/OneDrive - Université Laval/biophilo/Data/pybiblio\\ANNUAL_REVIEW_OF_MICROBIOLOGY.csv not found!\n",
      "Warning: C:/Users/jacob/OneDrive - Université Laval/biophilo/Data/pybiblio\\ANNUAL_REVIEW_OF_NEUROSCIENCE.csv not found!\n",
      "Warning: C:/Users/jacob/OneDrive - Université Laval/biophilo/Data/pybiblio\\ECOLOGY_LETTERS.csv not found!\n",
      "Warning: C:/Users/jacob/OneDrive - Université Laval/biophilo/Data/pybiblio\\ANNUAL_REVIEW_OF_ECOLOGY_EVOLUTION_AND_SYSTEMATICS.csv not found!\n",
      "Warning: C:/Users/jacob/OneDrive - Université Laval/biophilo/Data/pybiblio\\ANNUAL_REVIEW_OF_GENETICS.csv not found!\n",
      "Warning: C:/Users/jacob/OneDrive - Université Laval/biophilo/Data/pybiblio\\NATURE_REVIEWS_CANCER.csv not found!\n",
      "Warning: C:/Users/jacob/OneDrive - Université Laval/biophilo/Data/pybiblio\\AMERICAN_JOURNAL_OF_HUMAN_GENETICS.csv not found!\n",
      "Warning: C:/Users/jacob/OneDrive - Université Laval/biophilo/Data/pybiblio\\TRENDS_IN_NEUROSCIENCES.csv not found!\n"
     ]
    }
   ],
   "source": [
    "import os\n",
    "\n",
    "PATH_TO_DATA = r'C:/Users/jacob/OneDrive - Université Laval/biophilo/Data/pybiblio'\n",
    "\n",
    "for name in for_name_biology_journals:\n",
    "    file_path = os.path.join(PATH_TO_DATA, f\"{name}.csv\")  # Assuming CSV format\n",
    "\n",
    "    if os.path.exists(file_path):  # Check if file exists\n",
    "        globals()[name] = pd.read_csv(file_path)  # Assign to a variable with the file name\n",
    "    else:\n",
    "        print(f\"Warning: {file_path} not found!\")"
   ]
  },
  {
   "cell_type": "code",
   "execution_count": 7,
   "metadata": {},
   "outputs": [],
   "source": [
    "# Initialize a list to store reference data\n",
    "references_list = []\n",
    "\n",
    "def parse_abstract(eid):\n",
    "    with contextlib.redirect_stdout(io.StringIO()):  # Suppresses print output\n",
    "        try:\n",
    "            print(f\"Processing EID: {eid}\")\n",
    "            s = AbstractRetrieval(eid, id_type=\"eid\", view=\"FULL\")\n",
    "\n",
    "            if s.references:  # Ensure references exist\n",
    "                df = pd.DataFrame(s.references)\n",
    "                df['citing_eid'] = eid\n",
    "                references_list.append(df)  # Collect results\n",
    "            else:\n",
    "                print(f\"No references found for {eid}\")\n",
    "\n",
    "        except Exception as e:\n",
    "            print(f\"Error processing {eid}: {e}\")\n",
    "\n",
    "tqdm.pandas()  # Initializes tqdm for pandas"
   ]
  },
  {
   "cell_type": "code",
   "execution_count": 17,
   "metadata": {},
   "outputs": [
    {
     "name": "stdout",
     "output_type": "stream",
     "text": [
      "Processing journal: JOURNAL_OF_THEORETICAL_BIOLOGY\n"
     ]
    },
    {
     "name": "stderr",
     "output_type": "stream",
     "text": [
      "100%|██████████| 16811/16811 [1:55:25<00:00,  2.43it/s]  \n"
     ]
    },
    {
     "name": "stdout",
     "output_type": "stream",
     "text": [
      "Saved references: C:\\Users\\jacob\\OneDrive - Université Laval\\biophilo\\Data\\pybiblio\\JOURNAL_OF_THEORETICAL_BIOLOGY_refs_pyblio.csv\n",
      "Warning: No DataFrame found for EVOLUTION\n",
      "Warning: No DataFrame found for CELL\n",
      "Warning: No DataFrame found for PROCEEDINGS_OF_THE_NATIONAL_ACADEMY_OF_SCIENCES_OF_THE_UNITED_STATES_OF_AMERICA\n",
      "Warning: No DataFrame found for NATURE_REVIEWS_GENETICS\n",
      "Warning: No DataFrame found for GENETICS\n",
      "Warning: No DataFrame found for AMERICAN_NATURALIST\n",
      "Warning: No DataFrame found for CURRENT_BIOLOGY\n",
      "Warning: No DataFrame found for TRENDS_IN_COGNITIVE_SCIENCES\n",
      "Warning: No DataFrame found for TRENDS_IN_ECOLOGY_AND_EVOLUTION\n",
      "Warning: No DataFrame found for JOURNAL_OF_EVOLUTIONARY_BIOLOGY\n",
      "Warning: No DataFrame found for QUARTERLY_REVIEW_OF_BIOLOGY\n",
      "Warning: No DataFrame found for BIOSCIENCE\n",
      "Warning: No DataFrame found for COGNITION\n",
      "Warning: No DataFrame found for PHILOSOPHICAL_TRANSACTIONS_OF_THE_ROYAL_SOCIETY_B_BIOLOGICAL_SCIENCES\n",
      "Warning: No DataFrame found for NATURE_GENETICS\n",
      "Warning: No DataFrame found for NEURON\n",
      "Warning: No DataFrame found for PLOS_BIOLOGY\n",
      "Warning: No DataFrame found for SYSTEMATIC_BIOLOGY\n",
      "Warning: No DataFrame found for ECOLOGY\n",
      "Warning: No DataFrame found for NATURE_NEUROSCIENCE\n",
      "Warning: No DataFrame found for ANNALS_OF_THE_NEW_YORK_ACADEMY_OF_SCIENCES\n",
      "Warning: No DataFrame found for JOURNAL_OF_MOLECULAR_BIOLOGY\n",
      "Warning: No DataFrame found for NATURE_REVIEWS_MICROBIOLOGY\n",
      "Warning: No DataFrame found for NATURE_REVIEWS_NEUROSCIENCE\n",
      "Warning: No DataFrame found for BIOLOGICAL_REVIEWS\n",
      "Warning: No DataFrame found for TRENDS_IN_MICROBIOLOGY\n",
      "Warning: No DataFrame found for JOURNAL_OF_NEUROSCIENCE\n",
      "Warning: No DataFrame found for MOLECULAR_BIOLOGY_AND_EVOLUTION\n",
      "Warning: No DataFrame found for TRENDS_IN_GENETICS\n",
      "Warning: No DataFrame found for NATURE_REVIEWS_MOLECULAR_CELL_BIOLOGY\n",
      "Warning: No DataFrame found for GENOME_BIOLOGY\n",
      "Warning: No DataFrame found for GENOME_RESEARCH\n",
      "Warning: No DataFrame found for ANNUAL_REVIEW_OF_MICROBIOLOGY\n",
      "Warning: No DataFrame found for ANNUAL_REVIEW_OF_NEUROSCIENCE\n",
      "Warning: No DataFrame found for ECOLOGY_LETTERS\n",
      "Warning: No DataFrame found for ANNUAL_REVIEW_OF_ECOLOGY_EVOLUTION_AND_SYSTEMATICS\n",
      "Warning: No DataFrame found for ANNUAL_REVIEW_OF_GENETICS\n",
      "Warning: No DataFrame found for NATURE_REVIEWS_CANCER\n",
      "Warning: No DataFrame found for AMERICAN_JOURNAL_OF_HUMAN_GENETICS\n",
      "Warning: No DataFrame found for TRENDS_IN_NEUROSCIENCES\n",
      "Warning: No DataFrame found for MICROBIOLOGY_AND_MOLECULAR_BIOLOGY_REVIEWS\n",
      "Warning: No DataFrame found for TRENDS_IN_BIOCHEMICAL_SCIENCES\n"
     ]
    }
   ],
   "source": [
    "references_list = []  # List to store extracted references\n",
    "pybliometrics.scopus.init()\n",
    "for name in for_name_biology_journals:\n",
    "    if name in globals():  # Ensure the DataFrame exists\n",
    "        print(f\"Processing journal: {name}\")\n",
    "        \n",
    "        dfs = globals()[name]  # Fetch the actual DataFrame\n",
    "        \n",
    "        # Apply the function to extract references\n",
    "        df = dfs['eid'].progress_apply(parse_abstract)  \n",
    "        \n",
    "        # Ensure references_list has data before concatenating\n",
    "        if references_list:\n",
    "            references_df = pd.concat(references_list, ignore_index=True)\n",
    "        else:\n",
    "            references_df = pd.DataFrame(columns=['eid', 'citing_eid'])  # Placeholder for empty case\n",
    "\n",
    "        # Save only the extracted references, not the original articles\n",
    "        output_path = f\"C:\\\\Users\\\\jacob\\\\OneDrive - Université Laval\\\\biophilo\\\\Data\\\\pybiblio\\\\{name}_refs_pyblio.csv\"\n",
    "        references_df.to_csv(output_path, index=False)\n",
    "        \n",
    "        print(f\"Saved references: {output_path}\")\n",
    "        \n",
    "        # Clear the list for the next journal to avoid mixing references\n",
    "        references_list.clear()\n",
    "    else:\n",
    "        print(f\"Warning: No DataFrame found for {name}\")"
   ]
  },
  {
   "cell_type": "markdown",
   "metadata": {},
   "source": [
    "# Trying to parallelize the process"
   ]
  },
  {
   "cell_type": "code",
   "execution_count": null,
   "metadata": {},
   "outputs": [],
   "source": [
    "import pybliometrics\n",
    "import concurrent.futures\n",
    "import pandas as pd\n",
    "import contextlib\n",
    "import io\n",
    "from tqdm import tqdm\n",
    "\n",
    "# Initialize the list to store reference data\n",
    "references_list = []\n",
    "\n",
    "def parse_abstract(eid):\n",
    "    with contextlib.redirect_stdout(io.StringIO()):  # Suppresses print output\n",
    "        try:\n",
    "            print(f\"Processing EID: {eid}\")\n",
    "            s = AbstractRetrieval(eid, id_type=\"eid\", view=\"FULL\")\n",
    "\n",
    "            if s.references:  # Ensure references exist\n",
    "                df = pd.DataFrame(s.references)\n",
    "                df['citing_eid'] = eid\n",
    "                references_list.append(df)  # Collect results\n",
    "            else:\n",
    "                print(f\"No references found for {eid}\")\n",
    "\n",
    "        except Exception as e:\n",
    "            print(f\"Error processing {eid}: {e}\")\n",
    "\n",
    "# Initialize tqdm for pandas\n",
    "tqdm.pandas()\n",
    "\n",
    "# Start pybliometrics\n",
    "pybliometrics.scopus.init()\n",
    "\n",
    "def process_journal(name):\n",
    "    if name in globals():  # Ensure the DataFrame exists\n",
    "        print(f\"Processing journal: {name}\")\n",
    "\n",
    "        dfs = globals()[name]  # Fetch the actual DataFrame\n",
    "\n",
    "        # Use ThreadPoolExecutor to parallelize the reference extraction process\n",
    "        with concurrent.futures.ThreadPoolExecutor() as executor:\n",
    "            list(tqdm(executor.map(parse_abstract, dfs['eid']), total=len(dfs)))\n",
    "\n",
    "        # Ensure references_list has data before concatenating\n",
    "        if references_list:\n",
    "            references_df = pd.concat(references_list, ignore_index=True)\n",
    "        else:\n",
    "            references_df = pd.DataFrame(columns=['eid', 'citing_eid'])  # Placeholder for empty case\n",
    "\n",
    "        # Save only the extracted references, not the original articles\n",
    "        output_path = f\"C:\\\\Users\\\\jacob\\\\OneDrive - Université Laval\\\\biophilo\\\\Data\\\\pybiblio\\\\{name}_refs_pyblio.csv\"\n",
    "        references_df.to_csv(output_path, index=False)\n",
    "\n",
    "        print(f\"Saved references: {output_path}\")\n",
    "\n",
    "        # Clear the list for the next journal to avoid mixing references\n",
    "        references_list.clear()\n",
    "    else:\n",
    "        print(f\"Warning: No DataFrame found for {name}\")\n",
    "\n",
    "# Run the processing for each journal in parallel\n",
    "for name in for_name_biology_journals:\n",
    "    process_journal(name)"
   ]
  },
  {
   "cell_type": "code",
   "execution_count": null,
   "metadata": {},
   "outputs": [],
   "source": []
  }
 ],
 "metadata": {
  "kernelspec": {
   "display_name": "test",
   "language": "python",
   "name": "python3"
  },
  "language_info": {
   "codemirror_mode": {
    "name": "ipython",
    "version": 3
   },
   "file_extension": ".py",
   "mimetype": "text/x-python",
   "name": "python",
   "nbconvert_exporter": "python",
   "pygments_lexer": "ipython3",
   "version": "3.11.10"
  }
 },
 "nbformat": 4,
 "nbformat_minor": 2
}
