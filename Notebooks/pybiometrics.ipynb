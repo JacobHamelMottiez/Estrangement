{
 "cells": [
  {
   "cell_type": "markdown",
   "metadata": {},
   "source": [
    "# How to work your way with Scopus API using Python "
   ]
  },
  {
   "cell_type": "markdown",
   "metadata": {},
   "source": [
    "First, you need to install the package *pybliometrics* (pip install pybliometrics ). Once this is done, import some packages that will be useful as well as your data path.  "
   ]
  },
  {
   "cell_type": "code",
   "execution_count": 25,
   "metadata": {},
   "outputs": [
    {
     "data": {
      "text/plain": [
       "'\"C:\\\\Users\\\\jacob\\\\OneDrive - Université Laval\\\\biophilo\\\\Data\\\\\"'"
      ]
     },
     "execution_count": 25,
     "metadata": {},
     "output_type": "execute_result"
    }
   ],
   "source": [
    "import pybliometrics\n",
    "from pybliometrics.scopus import ScopusSearch\n",
    "import pandas as pd\n",
    "\n",
    "\n",
    "PATH_TO_DATA = r'\"C:\\Users\\jacob\\OneDrive - Université Laval\\biophilo\\Data\\\"'\n",
    "PATH_TO_DATA"
   ]
  },
  {
   "cell_type": "markdown",
   "metadata": {},
   "source": [
    "Next, you need to initialize your file. That's were you will put your API token and your Insttoken. "
   ]
  },
  {
   "cell_type": "code",
   "execution_count": 26,
   "metadata": {},
   "outputs": [],
   "source": [
    "pybliometrics.scopus.init()"
   ]
  },
  {
   "cell_type": "markdown",
   "metadata": {},
   "source": [
    "# Queries type"
   ]
  },
  {
   "cell_type": "markdown",
   "metadata": {},
   "source": [
    "There is multiple types of files you might want to get. For the articles, they are about :\n",
    "1. Authors informations ; \n",
    "2. Affiliation informations ; \n",
    "3. General information about the paper (title, published year, etc.)\n",
    "\n",
    "For the following, we will use an example with the journal \"Philosophy of Science\". "
   ]
  },
  {
   "cell_type": "markdown",
   "metadata": {},
   "source": [
    "## Articles informations : example with European Journal for Philosophy of Science"
   ]
  },
  {
   "cell_type": "markdown",
   "metadata": {},
   "source": [
    "This first part is an exemple so you get how it is done. After, we will automate the workflow to get articles from various journals. "
   ]
  },
  {
   "cell_type": "code",
   "execution_count": 17,
   "metadata": {},
   "outputs": [
    {
     "name": "stdout",
     "output_type": "stream",
     "text": [
      "EXACTSRCTITLE(\\\"European Journal for Philosophy of Science\\\")\n",
      "Downloading results for query \"EXACTSRCTITLE(\\\"European Journal for Philosophy of Science\\\")\":\n"
     ]
    },
    {
     "name": "stderr",
     "output_type": "stream",
     "text": [
      "100%|██████████| 25/25 [00:17<00:00,  1.39it/s]\n"
     ]
    }
   ],
   "source": [
    "query = \"EXACTSRCTITLE(\"r'\\\"European Journal for Philosophy of Science\\\"'\")\"\n",
    "print(query)\n",
    "s = ScopusSearch(query, verbose=True, subscriber = True, view = \"COMPLETE\")"
   ]
  },
  {
   "cell_type": "code",
   "execution_count": 18,
   "metadata": {},
   "outputs": [],
   "source": [
    "result = s.results\n",
    "result_df = pd.DataFrame(result)"
   ]
  },
  {
   "cell_type": "code",
   "execution_count": 19,
   "metadata": {},
   "outputs": [
    {
     "name": "stderr",
     "output_type": "stream",
     "text": [
      "<>:2: DeprecationWarning: invalid escape sequence '\\D'\n",
      "<>:2: DeprecationWarning: invalid escape sequence '\\D'\n",
      "C:\\Users\\jacob\\AppData\\Local\\Temp\\ipykernel_28880\\1671014430.py:2: DeprecationWarning: invalid escape sequence '\\D'\n",
      "  result_df.to_csv(\"C:\\\\Users\\\\jacob\\\\OneDrive - Université Laval\\\\biophilo\\Data\\\\EUROPEAN_JOURNAL_FOR_PHILOSOPHY_OF_SCIENCE.csv\")\n"
     ]
    }
   ],
   "source": [
    "result_df\n",
    "result_df.to_csv(\"C:\\\\Users\\\\jacob\\\\OneDrive - Université Laval\\\\biophilo\\Data\\\\EUROPEAN_JOURNAL_FOR_PHILOSOPHY_OF_SCIENCE.csv\")"
   ]
  },
  {
   "cell_type": "markdown",
   "metadata": {},
   "source": [
    "## References informations : example with European Journal for Philosophy of Science"
   ]
  },
  {
   "cell_type": "code",
   "execution_count": 16,
   "metadata": {},
   "outputs": [
    {
     "name": "stderr",
     "output_type": "stream",
     "text": [
      "<>:10: DeprecationWarning: invalid escape sequence '\\D'\n",
      "<>:10: DeprecationWarning: invalid escape sequence '\\D'\n",
      "C:\\Users\\jacob\\AppData\\Local\\Temp\\ipykernel_28880\\4279419555.py:10: DeprecationWarning: invalid escape sequence '\\D'\n",
      "  citation_list.to_csv(\"C:\\\\Users\\\\jacob\\\\OneDrive - Université Laval\\\\biophilo\\Data\\\\EUROPEAN_JOURNAL_OF_PHILOSOPHY_refs.csv\")\n",
      "C:\\Users\\jacob\\AppData\\Local\\Temp\\ipykernel_28880\\4279419555.py:10: DeprecationWarning: invalid escape sequence '\\D'\n",
      "  citation_list.to_csv(\"C:\\\\Users\\\\jacob\\\\OneDrive - Université Laval\\\\biophilo\\Data\\\\EUROPEAN_JOURNAL_OF_PHILOSOPHY_refs.csv\")\n"
     ]
    },
    {
     "ename": "KeyboardInterrupt",
     "evalue": "",
     "output_type": "error",
     "traceback": [
      "\u001b[1;31m---------------------------------------------------------------------------\u001b[0m",
      "\u001b[1;31mKeyboardInterrupt\u001b[0m                         Traceback (most recent call last)",
      "Cell \u001b[1;32mIn[16], line 2\u001b[0m\n\u001b[0;32m      1\u001b[0m \u001b[38;5;28;01mfor\u001b[39;00m eid \u001b[38;5;129;01min\u001b[39;00m result_df\u001b[38;5;241m.\u001b[39meid:  \n\u001b[1;32m----> 2\u001b[0m         ref_query \u001b[38;5;241m=\u001b[39m s \u001b[38;5;241m=\u001b[39m \u001b[43mAbstractRetrieval\u001b[49m\u001b[43m(\u001b[49m\u001b[43meid\u001b[49m\u001b[43m,\u001b[49m\u001b[43m \u001b[49m\u001b[43mid_type\u001b[49m\u001b[38;5;241;43m=\u001b[39;49m\u001b[38;5;124;43m\"\u001b[39;49m\u001b[38;5;124;43meid\u001b[39;49m\u001b[38;5;124;43m\"\u001b[39;49m\u001b[43m,\u001b[49m\u001b[43m \u001b[49m\u001b[43mview\u001b[49m\u001b[38;5;241;43m=\u001b[39;49m\u001b[38;5;124;43m\"\u001b[39;49m\u001b[38;5;124;43mFULL\u001b[39;49m\u001b[38;5;124;43m\"\u001b[39;49m\u001b[43m)\u001b[49m\n\u001b[0;32m      4\u001b[0m         \u001b[38;5;66;03m# Convert references to DataFrame and add the EID column\u001b[39;00m\n\u001b[0;32m      5\u001b[0m         ref_df \u001b[38;5;241m=\u001b[39m pd\u001b[38;5;241m.\u001b[39mDataFrame(ref_query\u001b[38;5;241m.\u001b[39mreferences)\n",
      "File \u001b[1;32mc:\\Users\\jacob\\anaconda3\\envs\\test\\Lib\\site-packages\\pybliometrics\\scopus\\abstract_retrieval.py:736\u001b[0m, in \u001b[0;36mAbstractRetrieval.__init__\u001b[1;34m(self, identifier, refresh, view, id_type, **kwds)\u001b[0m\n\u001b[0;32m    734\u001b[0m \u001b[38;5;28mself\u001b[39m\u001b[38;5;241m.\u001b[39m_view \u001b[38;5;241m=\u001b[39m view\n\u001b[0;32m    735\u001b[0m \u001b[38;5;28mself\u001b[39m\u001b[38;5;241m.\u001b[39m_refresh \u001b[38;5;241m=\u001b[39m refresh\n\u001b[1;32m--> 736\u001b[0m \u001b[43mRetrieval\u001b[49m\u001b[38;5;241;43m.\u001b[39;49m\u001b[38;5;21;43m__init__\u001b[39;49m\u001b[43m(\u001b[49m\u001b[38;5;28;43mself\u001b[39;49m\u001b[43m,\u001b[49m\u001b[43m \u001b[49m\u001b[43midentifier\u001b[49m\u001b[38;5;241;43m=\u001b[39;49m\u001b[43midentifier\u001b[49m\u001b[43m,\u001b[49m\u001b[43m \u001b[49m\u001b[43mid_type\u001b[49m\u001b[38;5;241;43m=\u001b[39;49m\u001b[43mid_type\u001b[49m\u001b[43m,\u001b[49m\n\u001b[0;32m    737\u001b[0m \u001b[43m                   \u001b[49m\u001b[43mapi\u001b[49m\u001b[38;5;241;43m=\u001b[39;49m\u001b[38;5;124;43m'\u001b[39;49m\u001b[38;5;124;43mAbstractRetrieval\u001b[39;49m\u001b[38;5;124;43m'\u001b[39;49m\u001b[43m,\u001b[49m\u001b[43m \u001b[49m\u001b[38;5;241;43m*\u001b[39;49m\u001b[38;5;241;43m*\u001b[39;49m\u001b[43mkwds\u001b[49m\u001b[43m)\u001b[49m\n\u001b[0;32m    738\u001b[0m \u001b[38;5;28;01mif\u001b[39;00m \u001b[38;5;28mself\u001b[39m\u001b[38;5;241m.\u001b[39m_view \u001b[38;5;129;01min\u001b[39;00m (\u001b[38;5;124m'\u001b[39m\u001b[38;5;124mMETA\u001b[39m\u001b[38;5;124m'\u001b[39m, \u001b[38;5;124m'\u001b[39m\u001b[38;5;124mMETA_ABS\u001b[39m\u001b[38;5;124m'\u001b[39m, \u001b[38;5;124m'\u001b[39m\u001b[38;5;124mREF\u001b[39m\u001b[38;5;124m'\u001b[39m, \u001b[38;5;124m'\u001b[39m\u001b[38;5;124mFULL\u001b[39m\u001b[38;5;124m'\u001b[39m):\n\u001b[0;32m    739\u001b[0m     \u001b[38;5;28mself\u001b[39m\u001b[38;5;241m.\u001b[39m_json \u001b[38;5;241m=\u001b[39m \u001b[38;5;28mself\u001b[39m\u001b[38;5;241m.\u001b[39m_json[\u001b[38;5;124m'\u001b[39m\u001b[38;5;124mabstracts-retrieval-response\u001b[39m\u001b[38;5;124m'\u001b[39m]\n",
      "File \u001b[1;32mc:\\Users\\jacob\\anaconda3\\envs\\test\\Lib\\site-packages\\pybliometrics\\scopus\\superclasses\\retrieval.py:54\u001b[0m, in \u001b[0;36mRetrieval.__init__\u001b[1;34m(self, identifier, api, id_type, **kwds)\u001b[0m\n\u001b[0;32m     52\u001b[0m \u001b[38;5;66;03m# Parse file contents\u001b[39;00m\n\u001b[0;32m     53\u001b[0m params \u001b[38;5;241m=\u001b[39m {\u001b[38;5;124m'\u001b[39m\u001b[38;5;124mview\u001b[39m\u001b[38;5;124m'\u001b[39m: \u001b[38;5;28mself\u001b[39m\u001b[38;5;241m.\u001b[39m_view, \u001b[38;5;241m*\u001b[39m\u001b[38;5;241m*\u001b[39mkwds}\n\u001b[1;32m---> 54\u001b[0m \u001b[43mBase\u001b[49m\u001b[38;5;241;43m.\u001b[39;49m\u001b[38;5;21;43m__init__\u001b[39;49m\u001b[43m(\u001b[49m\u001b[38;5;28;43mself\u001b[39;49m\u001b[43m,\u001b[49m\u001b[43m \u001b[49m\u001b[43mparams\u001b[49m\u001b[38;5;241;43m=\u001b[39;49m\u001b[43mparams\u001b[49m\u001b[43m,\u001b[49m\u001b[43m \u001b[49m\u001b[43murl\u001b[49m\u001b[38;5;241;43m=\u001b[39;49m\u001b[43murl\u001b[49m\u001b[43m,\u001b[49m\u001b[43m \u001b[49m\u001b[43mapi\u001b[49m\u001b[38;5;241;43m=\u001b[39;49m\u001b[43mapi\u001b[49m\u001b[43m)\u001b[49m\n",
      "File \u001b[1;32mc:\\Users\\jacob\\anaconda3\\envs\\test\\Lib\\site-packages\\pybliometrics\\scopus\\superclasses\\base.py:66\u001b[0m, in \u001b[0;36mBase.__init__\u001b[1;34m(self, params, url, api, download, verbose, *args, **kwds)\u001b[0m\n\u001b[0;32m     64\u001b[0m         \u001b[38;5;28mself\u001b[39m\u001b[38;5;241m.\u001b[39m_json \u001b[38;5;241m=\u001b[39m loads(fname\u001b[38;5;241m.\u001b[39mread_text())\n\u001b[0;32m     65\u001b[0m \u001b[38;5;28;01melse\u001b[39;00m:\n\u001b[1;32m---> 66\u001b[0m     resp \u001b[38;5;241m=\u001b[39m \u001b[43mget_content\u001b[49m\u001b[43m(\u001b[49m\u001b[43murl\u001b[49m\u001b[43m,\u001b[49m\u001b[43m \u001b[49m\u001b[43mapi\u001b[49m\u001b[43m,\u001b[49m\u001b[43m \u001b[49m\u001b[43mparams\u001b[49m\u001b[43m,\u001b[49m\u001b[43m \u001b[49m\u001b[38;5;241;43m*\u001b[39;49m\u001b[43margs\u001b[49m\u001b[43m,\u001b[49m\u001b[43m \u001b[49m\u001b[38;5;241;43m*\u001b[39;49m\u001b[38;5;241;43m*\u001b[39;49m\u001b[43mkwds\u001b[49m\u001b[43m)\u001b[49m\n\u001b[0;32m     67\u001b[0m     header \u001b[38;5;241m=\u001b[39m resp\u001b[38;5;241m.\u001b[39mheaders\n\u001b[0;32m     69\u001b[0m     \u001b[38;5;28;01mif\u001b[39;00m ab_ref_retrieval:\n",
      "File \u001b[1;32mc:\\Users\\jacob\\anaconda3\\envs\\test\\Lib\\site-packages\\pybliometrics\\scopus\\utils\\get_content.py:102\u001b[0m, in \u001b[0;36mget_content\u001b[1;34m(url, api, params, **kwds)\u001b[0m\n\u001b[0;32m    100\u001b[0m \u001b[38;5;66;03m# Perform request, eventually replacing the current key\u001b[39;00m\n\u001b[0;32m    101\u001b[0m timeout \u001b[38;5;241m=\u001b[39m config\u001b[38;5;241m.\u001b[39mgetint(\u001b[38;5;124m\"\u001b[39m\u001b[38;5;124mRequests\u001b[39m\u001b[38;5;124m\"\u001b[39m, \u001b[38;5;124m\"\u001b[39m\u001b[38;5;124mTimeout\u001b[39m\u001b[38;5;124m\"\u001b[39m, fallback\u001b[38;5;241m=\u001b[39m\u001b[38;5;241m20\u001b[39m)\n\u001b[1;32m--> 102\u001b[0m resp \u001b[38;5;241m=\u001b[39m \u001b[43msession\u001b[49m\u001b[38;5;241;43m.\u001b[39;49m\u001b[43mget\u001b[49m\u001b[43m(\u001b[49m\u001b[43murl\u001b[49m\u001b[43m,\u001b[49m\u001b[43m \u001b[49m\u001b[43mheaders\u001b[49m\u001b[38;5;241;43m=\u001b[39;49m\u001b[43mheader\u001b[49m\u001b[43m,\u001b[49m\u001b[43m \u001b[49m\u001b[43mproxies\u001b[49m\u001b[38;5;241;43m=\u001b[39;49m\u001b[43mproxies\u001b[49m\u001b[43m,\u001b[49m\u001b[43m \u001b[49m\u001b[43mparams\u001b[49m\u001b[38;5;241;43m=\u001b[39;49m\u001b[43mparams\u001b[49m\u001b[43m,\u001b[49m\n\u001b[0;32m    103\u001b[0m \u001b[43m                  \u001b[49m\u001b[43mtimeout\u001b[49m\u001b[38;5;241;43m=\u001b[39;49m\u001b[43mtimeout\u001b[49m\u001b[43m)\u001b[49m\n\u001b[0;32m    104\u001b[0m \u001b[38;5;28;01mwhile\u001b[39;00m resp\u001b[38;5;241m.\u001b[39mstatus_code \u001b[38;5;241m==\u001b[39m \u001b[38;5;241m429\u001b[39m:\n\u001b[0;32m    105\u001b[0m     \u001b[38;5;28;01mtry\u001b[39;00m:\n",
      "File \u001b[1;32mc:\\Users\\jacob\\anaconda3\\envs\\test\\Lib\\site-packages\\requests\\sessions.py:602\u001b[0m, in \u001b[0;36mSession.get\u001b[1;34m(self, url, **kwargs)\u001b[0m\n\u001b[0;32m    594\u001b[0m \u001b[38;5;250m\u001b[39m\u001b[38;5;124mr\u001b[39m\u001b[38;5;124;03m\"\"\"Sends a GET request. Returns :class:`Response` object.\u001b[39;00m\n\u001b[0;32m    595\u001b[0m \n\u001b[0;32m    596\u001b[0m \u001b[38;5;124;03m:param url: URL for the new :class:`Request` object.\u001b[39;00m\n\u001b[0;32m    597\u001b[0m \u001b[38;5;124;03m:param \\*\\*kwargs: Optional arguments that ``request`` takes.\u001b[39;00m\n\u001b[0;32m    598\u001b[0m \u001b[38;5;124;03m:rtype: requests.Response\u001b[39;00m\n\u001b[0;32m    599\u001b[0m \u001b[38;5;124;03m\"\"\"\u001b[39;00m\n\u001b[0;32m    601\u001b[0m kwargs\u001b[38;5;241m.\u001b[39msetdefault(\u001b[38;5;124m\"\u001b[39m\u001b[38;5;124mallow_redirects\u001b[39m\u001b[38;5;124m\"\u001b[39m, \u001b[38;5;28;01mTrue\u001b[39;00m)\n\u001b[1;32m--> 602\u001b[0m \u001b[38;5;28;01mreturn\u001b[39;00m \u001b[38;5;28;43mself\u001b[39;49m\u001b[38;5;241;43m.\u001b[39;49m\u001b[43mrequest\u001b[49m\u001b[43m(\u001b[49m\u001b[38;5;124;43m\"\u001b[39;49m\u001b[38;5;124;43mGET\u001b[39;49m\u001b[38;5;124;43m\"\u001b[39;49m\u001b[43m,\u001b[49m\u001b[43m \u001b[49m\u001b[43murl\u001b[49m\u001b[43m,\u001b[49m\u001b[43m \u001b[49m\u001b[38;5;241;43m*\u001b[39;49m\u001b[38;5;241;43m*\u001b[39;49m\u001b[43mkwargs\u001b[49m\u001b[43m)\u001b[49m\n",
      "File \u001b[1;32mc:\\Users\\jacob\\anaconda3\\envs\\test\\Lib\\site-packages\\requests\\sessions.py:589\u001b[0m, in \u001b[0;36mSession.request\u001b[1;34m(self, method, url, params, data, headers, cookies, files, auth, timeout, allow_redirects, proxies, hooks, stream, verify, cert, json)\u001b[0m\n\u001b[0;32m    584\u001b[0m send_kwargs \u001b[38;5;241m=\u001b[39m {\n\u001b[0;32m    585\u001b[0m     \u001b[38;5;124m\"\u001b[39m\u001b[38;5;124mtimeout\u001b[39m\u001b[38;5;124m\"\u001b[39m: timeout,\n\u001b[0;32m    586\u001b[0m     \u001b[38;5;124m\"\u001b[39m\u001b[38;5;124mallow_redirects\u001b[39m\u001b[38;5;124m\"\u001b[39m: allow_redirects,\n\u001b[0;32m    587\u001b[0m }\n\u001b[0;32m    588\u001b[0m send_kwargs\u001b[38;5;241m.\u001b[39mupdate(settings)\n\u001b[1;32m--> 589\u001b[0m resp \u001b[38;5;241m=\u001b[39m \u001b[38;5;28;43mself\u001b[39;49m\u001b[38;5;241;43m.\u001b[39;49m\u001b[43msend\u001b[49m\u001b[43m(\u001b[49m\u001b[43mprep\u001b[49m\u001b[43m,\u001b[49m\u001b[43m \u001b[49m\u001b[38;5;241;43m*\u001b[39;49m\u001b[38;5;241;43m*\u001b[39;49m\u001b[43msend_kwargs\u001b[49m\u001b[43m)\u001b[49m\n\u001b[0;32m    591\u001b[0m \u001b[38;5;28;01mreturn\u001b[39;00m resp\n",
      "File \u001b[1;32mc:\\Users\\jacob\\anaconda3\\envs\\test\\Lib\\site-packages\\requests\\sessions.py:703\u001b[0m, in \u001b[0;36mSession.send\u001b[1;34m(self, request, **kwargs)\u001b[0m\n\u001b[0;32m    700\u001b[0m start \u001b[38;5;241m=\u001b[39m preferred_clock()\n\u001b[0;32m    702\u001b[0m \u001b[38;5;66;03m# Send the request\u001b[39;00m\n\u001b[1;32m--> 703\u001b[0m r \u001b[38;5;241m=\u001b[39m \u001b[43madapter\u001b[49m\u001b[38;5;241;43m.\u001b[39;49m\u001b[43msend\u001b[49m\u001b[43m(\u001b[49m\u001b[43mrequest\u001b[49m\u001b[43m,\u001b[49m\u001b[43m \u001b[49m\u001b[38;5;241;43m*\u001b[39;49m\u001b[38;5;241;43m*\u001b[39;49m\u001b[43mkwargs\u001b[49m\u001b[43m)\u001b[49m\n\u001b[0;32m    705\u001b[0m \u001b[38;5;66;03m# Total elapsed time of the request (approximately)\u001b[39;00m\n\u001b[0;32m    706\u001b[0m elapsed \u001b[38;5;241m=\u001b[39m preferred_clock() \u001b[38;5;241m-\u001b[39m start\n",
      "File \u001b[1;32mc:\\Users\\jacob\\anaconda3\\envs\\test\\Lib\\site-packages\\requests\\adapters.py:667\u001b[0m, in \u001b[0;36mHTTPAdapter.send\u001b[1;34m(self, request, stream, timeout, verify, cert, proxies)\u001b[0m\n\u001b[0;32m    664\u001b[0m     timeout \u001b[38;5;241m=\u001b[39m TimeoutSauce(connect\u001b[38;5;241m=\u001b[39mtimeout, read\u001b[38;5;241m=\u001b[39mtimeout)\n\u001b[0;32m    666\u001b[0m \u001b[38;5;28;01mtry\u001b[39;00m:\n\u001b[1;32m--> 667\u001b[0m     resp \u001b[38;5;241m=\u001b[39m \u001b[43mconn\u001b[49m\u001b[38;5;241;43m.\u001b[39;49m\u001b[43murlopen\u001b[49m\u001b[43m(\u001b[49m\n\u001b[0;32m    668\u001b[0m \u001b[43m        \u001b[49m\u001b[43mmethod\u001b[49m\u001b[38;5;241;43m=\u001b[39;49m\u001b[43mrequest\u001b[49m\u001b[38;5;241;43m.\u001b[39;49m\u001b[43mmethod\u001b[49m\u001b[43m,\u001b[49m\n\u001b[0;32m    669\u001b[0m \u001b[43m        \u001b[49m\u001b[43murl\u001b[49m\u001b[38;5;241;43m=\u001b[39;49m\u001b[43murl\u001b[49m\u001b[43m,\u001b[49m\n\u001b[0;32m    670\u001b[0m \u001b[43m        \u001b[49m\u001b[43mbody\u001b[49m\u001b[38;5;241;43m=\u001b[39;49m\u001b[43mrequest\u001b[49m\u001b[38;5;241;43m.\u001b[39;49m\u001b[43mbody\u001b[49m\u001b[43m,\u001b[49m\n\u001b[0;32m    671\u001b[0m \u001b[43m        \u001b[49m\u001b[43mheaders\u001b[49m\u001b[38;5;241;43m=\u001b[39;49m\u001b[43mrequest\u001b[49m\u001b[38;5;241;43m.\u001b[39;49m\u001b[43mheaders\u001b[49m\u001b[43m,\u001b[49m\n\u001b[0;32m    672\u001b[0m \u001b[43m        \u001b[49m\u001b[43mredirect\u001b[49m\u001b[38;5;241;43m=\u001b[39;49m\u001b[38;5;28;43;01mFalse\u001b[39;49;00m\u001b[43m,\u001b[49m\n\u001b[0;32m    673\u001b[0m \u001b[43m        \u001b[49m\u001b[43massert_same_host\u001b[49m\u001b[38;5;241;43m=\u001b[39;49m\u001b[38;5;28;43;01mFalse\u001b[39;49;00m\u001b[43m,\u001b[49m\n\u001b[0;32m    674\u001b[0m \u001b[43m        \u001b[49m\u001b[43mpreload_content\u001b[49m\u001b[38;5;241;43m=\u001b[39;49m\u001b[38;5;28;43;01mFalse\u001b[39;49;00m\u001b[43m,\u001b[49m\n\u001b[0;32m    675\u001b[0m \u001b[43m        \u001b[49m\u001b[43mdecode_content\u001b[49m\u001b[38;5;241;43m=\u001b[39;49m\u001b[38;5;28;43;01mFalse\u001b[39;49;00m\u001b[43m,\u001b[49m\n\u001b[0;32m    676\u001b[0m \u001b[43m        \u001b[49m\u001b[43mretries\u001b[49m\u001b[38;5;241;43m=\u001b[39;49m\u001b[38;5;28;43mself\u001b[39;49m\u001b[38;5;241;43m.\u001b[39;49m\u001b[43mmax_retries\u001b[49m\u001b[43m,\u001b[49m\n\u001b[0;32m    677\u001b[0m \u001b[43m        \u001b[49m\u001b[43mtimeout\u001b[49m\u001b[38;5;241;43m=\u001b[39;49m\u001b[43mtimeout\u001b[49m\u001b[43m,\u001b[49m\n\u001b[0;32m    678\u001b[0m \u001b[43m        \u001b[49m\u001b[43mchunked\u001b[49m\u001b[38;5;241;43m=\u001b[39;49m\u001b[43mchunked\u001b[49m\u001b[43m,\u001b[49m\n\u001b[0;32m    679\u001b[0m \u001b[43m    \u001b[49m\u001b[43m)\u001b[49m\n\u001b[0;32m    681\u001b[0m \u001b[38;5;28;01mexcept\u001b[39;00m (ProtocolError, \u001b[38;5;167;01mOSError\u001b[39;00m) \u001b[38;5;28;01mas\u001b[39;00m err:\n\u001b[0;32m    682\u001b[0m     \u001b[38;5;28;01mraise\u001b[39;00m \u001b[38;5;167;01mConnectionError\u001b[39;00m(err, request\u001b[38;5;241m=\u001b[39mrequest)\n",
      "File \u001b[1;32mc:\\Users\\jacob\\anaconda3\\envs\\test\\Lib\\site-packages\\urllib3\\connectionpool.py:716\u001b[0m, in \u001b[0;36mHTTPConnectionPool.urlopen\u001b[1;34m(self, method, url, body, headers, retries, redirect, assert_same_host, timeout, pool_timeout, release_conn, chunked, body_pos, **response_kw)\u001b[0m\n\u001b[0;32m    713\u001b[0m     \u001b[38;5;28mself\u001b[39m\u001b[38;5;241m.\u001b[39m_prepare_proxy(conn)\n\u001b[0;32m    715\u001b[0m \u001b[38;5;66;03m# Make the request on the httplib connection object.\u001b[39;00m\n\u001b[1;32m--> 716\u001b[0m httplib_response \u001b[38;5;241m=\u001b[39m \u001b[38;5;28;43mself\u001b[39;49m\u001b[38;5;241;43m.\u001b[39;49m\u001b[43m_make_request\u001b[49m\u001b[43m(\u001b[49m\n\u001b[0;32m    717\u001b[0m \u001b[43m    \u001b[49m\u001b[43mconn\u001b[49m\u001b[43m,\u001b[49m\n\u001b[0;32m    718\u001b[0m \u001b[43m    \u001b[49m\u001b[43mmethod\u001b[49m\u001b[43m,\u001b[49m\n\u001b[0;32m    719\u001b[0m \u001b[43m    \u001b[49m\u001b[43murl\u001b[49m\u001b[43m,\u001b[49m\n\u001b[0;32m    720\u001b[0m \u001b[43m    \u001b[49m\u001b[43mtimeout\u001b[49m\u001b[38;5;241;43m=\u001b[39;49m\u001b[43mtimeout_obj\u001b[49m\u001b[43m,\u001b[49m\n\u001b[0;32m    721\u001b[0m \u001b[43m    \u001b[49m\u001b[43mbody\u001b[49m\u001b[38;5;241;43m=\u001b[39;49m\u001b[43mbody\u001b[49m\u001b[43m,\u001b[49m\n\u001b[0;32m    722\u001b[0m \u001b[43m    \u001b[49m\u001b[43mheaders\u001b[49m\u001b[38;5;241;43m=\u001b[39;49m\u001b[43mheaders\u001b[49m\u001b[43m,\u001b[49m\n\u001b[0;32m    723\u001b[0m \u001b[43m    \u001b[49m\u001b[43mchunked\u001b[49m\u001b[38;5;241;43m=\u001b[39;49m\u001b[43mchunked\u001b[49m\u001b[43m,\u001b[49m\n\u001b[0;32m    724\u001b[0m \u001b[43m\u001b[49m\u001b[43m)\u001b[49m\n\u001b[0;32m    726\u001b[0m \u001b[38;5;66;03m# If we're going to release the connection in ``finally:``, then\u001b[39;00m\n\u001b[0;32m    727\u001b[0m \u001b[38;5;66;03m# the response doesn't need to know about the connection. Otherwise\u001b[39;00m\n\u001b[0;32m    728\u001b[0m \u001b[38;5;66;03m# it will also try to release it and we'll have a double-release\u001b[39;00m\n\u001b[0;32m    729\u001b[0m \u001b[38;5;66;03m# mess.\u001b[39;00m\n\u001b[0;32m    730\u001b[0m response_conn \u001b[38;5;241m=\u001b[39m conn \u001b[38;5;28;01mif\u001b[39;00m \u001b[38;5;129;01mnot\u001b[39;00m release_conn \u001b[38;5;28;01melse\u001b[39;00m \u001b[38;5;28;01mNone\u001b[39;00m\n",
      "File \u001b[1;32mc:\\Users\\jacob\\anaconda3\\envs\\test\\Lib\\site-packages\\urllib3\\connectionpool.py:468\u001b[0m, in \u001b[0;36mHTTPConnectionPool._make_request\u001b[1;34m(self, conn, method, url, timeout, chunked, **httplib_request_kw)\u001b[0m\n\u001b[0;32m    463\u001b[0m             httplib_response \u001b[38;5;241m=\u001b[39m conn\u001b[38;5;241m.\u001b[39mgetresponse()\n\u001b[0;32m    464\u001b[0m         \u001b[38;5;28;01mexcept\u001b[39;00m \u001b[38;5;167;01mBaseException\u001b[39;00m \u001b[38;5;28;01mas\u001b[39;00m e:\n\u001b[0;32m    465\u001b[0m             \u001b[38;5;66;03m# Remove the TypeError from the exception chain in\u001b[39;00m\n\u001b[0;32m    466\u001b[0m             \u001b[38;5;66;03m# Python 3 (including for exceptions like SystemExit).\u001b[39;00m\n\u001b[0;32m    467\u001b[0m             \u001b[38;5;66;03m# Otherwise it looks like a bug in the code.\u001b[39;00m\n\u001b[1;32m--> 468\u001b[0m             \u001b[43msix\u001b[49m\u001b[38;5;241;43m.\u001b[39;49m\u001b[43mraise_from\u001b[49m\u001b[43m(\u001b[49m\u001b[43me\u001b[49m\u001b[43m,\u001b[49m\u001b[43m \u001b[49m\u001b[38;5;28;43;01mNone\u001b[39;49;00m\u001b[43m)\u001b[49m\n\u001b[0;32m    469\u001b[0m \u001b[38;5;28;01mexcept\u001b[39;00m (SocketTimeout, BaseSSLError, SocketError) \u001b[38;5;28;01mas\u001b[39;00m e:\n\u001b[0;32m    470\u001b[0m     \u001b[38;5;28mself\u001b[39m\u001b[38;5;241m.\u001b[39m_raise_timeout(err\u001b[38;5;241m=\u001b[39me, url\u001b[38;5;241m=\u001b[39murl, timeout_value\u001b[38;5;241m=\u001b[39mread_timeout)\n",
      "File \u001b[1;32m<string>:3\u001b[0m, in \u001b[0;36mraise_from\u001b[1;34m(value, from_value)\u001b[0m\n",
      "File \u001b[1;32mc:\\Users\\jacob\\anaconda3\\envs\\test\\Lib\\site-packages\\urllib3\\connectionpool.py:463\u001b[0m, in \u001b[0;36mHTTPConnectionPool._make_request\u001b[1;34m(self, conn, method, url, timeout, chunked, **httplib_request_kw)\u001b[0m\n\u001b[0;32m    460\u001b[0m \u001b[38;5;28;01mexcept\u001b[39;00m \u001b[38;5;167;01mTypeError\u001b[39;00m:\n\u001b[0;32m    461\u001b[0m     \u001b[38;5;66;03m# Python 3\u001b[39;00m\n\u001b[0;32m    462\u001b[0m     \u001b[38;5;28;01mtry\u001b[39;00m:\n\u001b[1;32m--> 463\u001b[0m         httplib_response \u001b[38;5;241m=\u001b[39m \u001b[43mconn\u001b[49m\u001b[38;5;241;43m.\u001b[39;49m\u001b[43mgetresponse\u001b[49m\u001b[43m(\u001b[49m\u001b[43m)\u001b[49m\n\u001b[0;32m    464\u001b[0m     \u001b[38;5;28;01mexcept\u001b[39;00m \u001b[38;5;167;01mBaseException\u001b[39;00m \u001b[38;5;28;01mas\u001b[39;00m e:\n\u001b[0;32m    465\u001b[0m         \u001b[38;5;66;03m# Remove the TypeError from the exception chain in\u001b[39;00m\n\u001b[0;32m    466\u001b[0m         \u001b[38;5;66;03m# Python 3 (including for exceptions like SystemExit).\u001b[39;00m\n\u001b[0;32m    467\u001b[0m         \u001b[38;5;66;03m# Otherwise it looks like a bug in the code.\u001b[39;00m\n\u001b[0;32m    468\u001b[0m         six\u001b[38;5;241m.\u001b[39mraise_from(e, \u001b[38;5;28;01mNone\u001b[39;00m)\n",
      "File \u001b[1;32mc:\\Users\\jacob\\anaconda3\\envs\\test\\Lib\\http\\client.py:1395\u001b[0m, in \u001b[0;36mHTTPConnection.getresponse\u001b[1;34m(self)\u001b[0m\n\u001b[0;32m   1393\u001b[0m \u001b[38;5;28;01mtry\u001b[39;00m:\n\u001b[0;32m   1394\u001b[0m     \u001b[38;5;28;01mtry\u001b[39;00m:\n\u001b[1;32m-> 1395\u001b[0m         \u001b[43mresponse\u001b[49m\u001b[38;5;241;43m.\u001b[39;49m\u001b[43mbegin\u001b[49m\u001b[43m(\u001b[49m\u001b[43m)\u001b[49m\n\u001b[0;32m   1396\u001b[0m     \u001b[38;5;28;01mexcept\u001b[39;00m \u001b[38;5;167;01mConnectionError\u001b[39;00m:\n\u001b[0;32m   1397\u001b[0m         \u001b[38;5;28mself\u001b[39m\u001b[38;5;241m.\u001b[39mclose()\n",
      "File \u001b[1;32mc:\\Users\\jacob\\anaconda3\\envs\\test\\Lib\\http\\client.py:325\u001b[0m, in \u001b[0;36mHTTPResponse.begin\u001b[1;34m(self)\u001b[0m\n\u001b[0;32m    323\u001b[0m \u001b[38;5;66;03m# read until we get a non-100 response\u001b[39;00m\n\u001b[0;32m    324\u001b[0m \u001b[38;5;28;01mwhile\u001b[39;00m \u001b[38;5;28;01mTrue\u001b[39;00m:\n\u001b[1;32m--> 325\u001b[0m     version, status, reason \u001b[38;5;241m=\u001b[39m \u001b[38;5;28;43mself\u001b[39;49m\u001b[38;5;241;43m.\u001b[39;49m\u001b[43m_read_status\u001b[49m\u001b[43m(\u001b[49m\u001b[43m)\u001b[49m\n\u001b[0;32m    326\u001b[0m     \u001b[38;5;28;01mif\u001b[39;00m status \u001b[38;5;241m!=\u001b[39m CONTINUE:\n\u001b[0;32m    327\u001b[0m         \u001b[38;5;28;01mbreak\u001b[39;00m\n",
      "File \u001b[1;32mc:\\Users\\jacob\\anaconda3\\envs\\test\\Lib\\http\\client.py:286\u001b[0m, in \u001b[0;36mHTTPResponse._read_status\u001b[1;34m(self)\u001b[0m\n\u001b[0;32m    285\u001b[0m \u001b[38;5;28;01mdef\u001b[39;00m\u001b[38;5;250m \u001b[39m\u001b[38;5;21m_read_status\u001b[39m(\u001b[38;5;28mself\u001b[39m):\n\u001b[1;32m--> 286\u001b[0m     line \u001b[38;5;241m=\u001b[39m \u001b[38;5;28mstr\u001b[39m(\u001b[38;5;28mself\u001b[39m\u001b[38;5;241m.\u001b[39mfp\u001b[38;5;241m.\u001b[39mreadline(_MAXLINE \u001b[38;5;241m+\u001b[39m \u001b[38;5;241m1\u001b[39m), \u001b[38;5;124m\"\u001b[39m\u001b[38;5;124miso-8859-1\u001b[39m\u001b[38;5;124m\"\u001b[39m)\n\u001b[0;32m    287\u001b[0m     \u001b[38;5;28;01mif\u001b[39;00m \u001b[38;5;28mlen\u001b[39m(line) \u001b[38;5;241m>\u001b[39m _MAXLINE:\n\u001b[0;32m    288\u001b[0m         \u001b[38;5;28;01mraise\u001b[39;00m LineTooLong(\u001b[38;5;124m\"\u001b[39m\u001b[38;5;124mstatus line\u001b[39m\u001b[38;5;124m\"\u001b[39m)\n",
      "File \u001b[1;32mc:\\Users\\jacob\\anaconda3\\envs\\test\\Lib\\socket.py:718\u001b[0m, in \u001b[0;36mSocketIO.readinto\u001b[1;34m(self, b)\u001b[0m\n\u001b[0;32m    716\u001b[0m \u001b[38;5;28;01mwhile\u001b[39;00m \u001b[38;5;28;01mTrue\u001b[39;00m:\n\u001b[0;32m    717\u001b[0m     \u001b[38;5;28;01mtry\u001b[39;00m:\n\u001b[1;32m--> 718\u001b[0m         \u001b[38;5;28;01mreturn\u001b[39;00m \u001b[38;5;28;43mself\u001b[39;49m\u001b[38;5;241;43m.\u001b[39;49m\u001b[43m_sock\u001b[49m\u001b[38;5;241;43m.\u001b[39;49m\u001b[43mrecv_into\u001b[49m\u001b[43m(\u001b[49m\u001b[43mb\u001b[49m\u001b[43m)\u001b[49m\n\u001b[0;32m    719\u001b[0m     \u001b[38;5;28;01mexcept\u001b[39;00m timeout:\n\u001b[0;32m    720\u001b[0m         \u001b[38;5;28mself\u001b[39m\u001b[38;5;241m.\u001b[39m_timeout_occurred \u001b[38;5;241m=\u001b[39m \u001b[38;5;28;01mTrue\u001b[39;00m\n",
      "File \u001b[1;32mc:\\Users\\jacob\\anaconda3\\envs\\test\\Lib\\ssl.py:1314\u001b[0m, in \u001b[0;36mSSLSocket.recv_into\u001b[1;34m(self, buffer, nbytes, flags)\u001b[0m\n\u001b[0;32m   1310\u001b[0m     \u001b[38;5;28;01mif\u001b[39;00m flags \u001b[38;5;241m!=\u001b[39m \u001b[38;5;241m0\u001b[39m:\n\u001b[0;32m   1311\u001b[0m         \u001b[38;5;28;01mraise\u001b[39;00m \u001b[38;5;167;01mValueError\u001b[39;00m(\n\u001b[0;32m   1312\u001b[0m           \u001b[38;5;124m\"\u001b[39m\u001b[38;5;124mnon-zero flags not allowed in calls to recv_into() on \u001b[39m\u001b[38;5;132;01m%s\u001b[39;00m\u001b[38;5;124m\"\u001b[39m \u001b[38;5;241m%\u001b[39m\n\u001b[0;32m   1313\u001b[0m           \u001b[38;5;28mself\u001b[39m\u001b[38;5;241m.\u001b[39m\u001b[38;5;18m__class__\u001b[39m)\n\u001b[1;32m-> 1314\u001b[0m     \u001b[38;5;28;01mreturn\u001b[39;00m \u001b[38;5;28;43mself\u001b[39;49m\u001b[38;5;241;43m.\u001b[39;49m\u001b[43mread\u001b[49m\u001b[43m(\u001b[49m\u001b[43mnbytes\u001b[49m\u001b[43m,\u001b[49m\u001b[43m \u001b[49m\u001b[43mbuffer\u001b[49m\u001b[43m)\u001b[49m\n\u001b[0;32m   1315\u001b[0m \u001b[38;5;28;01melse\u001b[39;00m:\n\u001b[0;32m   1316\u001b[0m     \u001b[38;5;28;01mreturn\u001b[39;00m \u001b[38;5;28msuper\u001b[39m()\u001b[38;5;241m.\u001b[39mrecv_into(buffer, nbytes, flags)\n",
      "File \u001b[1;32mc:\\Users\\jacob\\anaconda3\\envs\\test\\Lib\\ssl.py:1166\u001b[0m, in \u001b[0;36mSSLSocket.read\u001b[1;34m(self, len, buffer)\u001b[0m\n\u001b[0;32m   1164\u001b[0m \u001b[38;5;28;01mtry\u001b[39;00m:\n\u001b[0;32m   1165\u001b[0m     \u001b[38;5;28;01mif\u001b[39;00m buffer \u001b[38;5;129;01mis\u001b[39;00m \u001b[38;5;129;01mnot\u001b[39;00m \u001b[38;5;28;01mNone\u001b[39;00m:\n\u001b[1;32m-> 1166\u001b[0m         \u001b[38;5;28;01mreturn\u001b[39;00m \u001b[38;5;28;43mself\u001b[39;49m\u001b[38;5;241;43m.\u001b[39;49m\u001b[43m_sslobj\u001b[49m\u001b[38;5;241;43m.\u001b[39;49m\u001b[43mread\u001b[49m\u001b[43m(\u001b[49m\u001b[38;5;28;43mlen\u001b[39;49m\u001b[43m,\u001b[49m\u001b[43m \u001b[49m\u001b[43mbuffer\u001b[49m\u001b[43m)\u001b[49m\n\u001b[0;32m   1167\u001b[0m     \u001b[38;5;28;01melse\u001b[39;00m:\n\u001b[0;32m   1168\u001b[0m         \u001b[38;5;28;01mreturn\u001b[39;00m \u001b[38;5;28mself\u001b[39m\u001b[38;5;241m.\u001b[39m_sslobj\u001b[38;5;241m.\u001b[39mread(\u001b[38;5;28mlen\u001b[39m)\n",
      "\u001b[1;31mKeyboardInterrupt\u001b[0m: "
     ]
    }
   ],
   "source": [
    "\n",
    "for eid in result_df.eid:  \n",
    "        ref_query = s = AbstractRetrieval(eid, id_type=\"eid\", view=\"FULL\")\n",
    "        \n",
    "        # Convert references to DataFrame and add the EID column\n",
    "        ref_df = pd.DataFrame(ref_query.references)\n",
    "        ref_df['citing_eid'] = result_df.eid  # Add the source EID column\n",
    "        \n",
    "        # Concatenate the current DataFrame to the citation list\n",
    "        citation_list = pd.concat([citation_list, ref_df], ignore_index=True)\n",
    "        citation_list.to_csv(\"C:\\\\Users\\\\jacob\\\\OneDrive - Université Laval\\\\biophilo\\Data\\\\EUROPEAN_JOURNAL_OF_PHILOSOPHY_refs.csv\")"
   ]
  },
  {
   "cell_type": "markdown",
   "metadata": {},
   "source": [
    "## Function for multiple queries"
   ]
  },
  {
   "cell_type": "markdown",
   "metadata": {},
   "source": [
    "First, define your query input. Here we will go with journal name."
   ]
  },
  {
   "cell_type": "code",
   "execution_count": 107,
   "metadata": {},
   "outputs": [
    {
     "data": {
      "text/plain": [
       "'\"BIOLOGY & PHILOSOPHY\"'"
      ]
     },
     "execution_count": 107,
     "metadata": {},
     "output_type": "execute_result"
    }
   ],
   "source": [
    "philo_of_bio_journals = [\n",
    "#  r\"\\\"BIOLOGY & PHILOSOPHY\\\"\", \n",
    "#  r\"\\\"BIOLOGY AND PHILOSOPHY\\\"\",\n",
    "#  r\"\\\"BIOLOGICAL THEORY\\\"\",\n",
    "#  r\"\\\"STUDIES IN HISTORY AND PHILOSOPHY OF SCIENCE PART C :STUDIES IN HISTORY AND PHILOSOPHY OF BIOLOGICAL AND BIOMEDICAL SCIENCES\\\"\",\n",
    "#  r\"\\\"HISTORY AND PHILOSOPHY OF THE LIFE SCIENCES\\\"\"\n",
    "]\n",
    "\n"
   ]
  },
  {
   "cell_type": "code",
   "execution_count": 110,
   "metadata": {},
   "outputs": [
    {
     "data": {
      "text/plain": [
       "['BIOLOGY_&_PHILOSOPHY',\n",
       " 'BIOLOGY_AND_PHILOSOPHY',\n",
       " 'BIOLOGICAL_THEORY',\n",
       " 'STUDIES_IN_HISTORY_AND_PHILOSOPHY_OF_SCIENCE_PART_C__STUDIES_IN_HISTORY_AND_PHILOSOPHY_OF_BIOLOGICAL_AND_BIOMEDICAL_SCIENCES',\n",
       " 'HISTORY_AND_PHILOSOPHY_OF_THE_LIFE_SCIENCES']"
      ]
     },
     "execution_count": 110,
     "metadata": {},
     "output_type": "execute_result"
    }
   ],
   "source": [
    "for_name_philo_of_bio_journals = [\n",
    "\"BIOLOGY_&_PHILOSOPHY\",\n",
    "\"BIOLOGY_AND_PHILOSOPHY\",\n",
    "\"BIOLOGICAL_THEORY\",\n",
    "\"STUDIES_IN_HISTORY_AND_PHILOSOPHY_OF_SCIENCE_PART_C__STUDIES_IN_HISTORY_AND_PHILOSOPHY_OF_BIOLOGICAL_AND_BIOMEDICAL_SCIENCES\",\n",
    "\"HISTORY_AND_PHILOSOPHY_OF_THE_LIFE_SCIENCES\"]\n",
    "\n",
    "for_name_philo_of_bio_journals"
   ]
  },
  {
   "cell_type": "code",
   "execution_count": 124,
   "metadata": {},
   "outputs": [
    {
     "name": "stderr",
     "output_type": "stream",
     "text": [
      "<>:13: DeprecationWarning: invalid escape sequence '\\D'\n",
      "<>:13: DeprecationWarning: invalid escape sequence '\\D'\n",
      "C:\\Users\\jacob\\AppData\\Local\\Temp\\ipykernel_20140\\1725660355.py:13: DeprecationWarning: invalid escape sequence '\\D'\n",
      "  result_df.to_csv(\"C:\\\\Users\\\\jacob\\\\OneDrive - Université Laval\\\\biophilo\\Data\\\\\"+ for_name_philo_of_bio_journals[i] + \".csv\")\n"
     ]
    },
    {
     "name": "stdout",
     "output_type": "stream",
     "text": [
      "EXACTSRCTITLE(\"BIOLOGY & PHILOSOPHY\")\n",
      "EXACTSRCTITLE(\\\"BIOLOGY AND PHILOSOPHY\\\")\n",
      "EXACTSRCTITLE(\\\"BIOLOGICAL THEORY\\\")\n",
      "Downloading results for query \"EXACTSRCTITLE(\\\"BIOLOGICAL THEORY\\\")\":\n"
     ]
    },
    {
     "name": "stderr",
     "output_type": "stream",
     "text": [
      "100%|██████████| 29/29 [00:21<00:00,  1.29it/s]\n"
     ]
    },
    {
     "name": "stdout",
     "output_type": "stream",
     "text": [
      "EXACTSRCTITLE(\\\"STUDIES IN HISTORY AND PHILOSOPHY OF SCIENCE PART C :STUDIES IN HISTORY AND PHILOSOPHY OF BIOLOGICAL AND BIOMEDICAL SCIENCES\\\")\n",
      "Downloading results for query \"EXACTSRCTITLE(\\\"STUDIES IN HISTORY AND PHILOSOPHY OF SCIENCE PART C :STUDIES IN HISTORY AND PHILOSOPHY OF BIOLOGICAL AND BIOMEDICAL SCIENCES\\\")\":\n"
     ]
    },
    {
     "name": "stderr",
     "output_type": "stream",
     "text": [
      "100%|██████████| 42/42 [00:28<00:00,  1.44it/s]\n"
     ]
    },
    {
     "name": "stdout",
     "output_type": "stream",
     "text": [
      "EXACTSRCTITLE(\\\"HISTORY AND PHILOSOPHY OF THE LIFE SCIENCES\\\")\n",
      "Downloading results for query \"EXACTSRCTITLE(\\\"HISTORY AND PHILOSOPHY OF THE LIFE SCIENCES\\\")\":\n"
     ]
    },
    {
     "name": "stderr",
     "output_type": "stream",
     "text": [
      "100%|██████████| 42/42 [00:30<00:00,  1.35it/s]\n"
     ]
    }
   ],
   "source": [
    "pybliometrics.scopus.init()\n",
    "\n",
    "from pybliometrics.scopus import ScopusSearch\n",
    "article_list = pd.DataFrame()  # Initialize an empty DataFrame to store results\n",
    "\n",
    "for i in range(len(philo_of_bio_journals)):  \n",
    "    pybliometrics.scopus.init()\n",
    "    query = \"EXACTSRCTITLE(\" + philo_of_bio_journals[i] + \")\" \n",
    "    print(query)\n",
    "    s = ScopusSearch(query, verbose=True, subscriber = True, view = \"COMPLETE\")\n",
    "    result = s.results\n",
    "    result_df = pd.DataFrame(result)\n",
    "    result_df.to_csv(\"C:\\\\Users\\\\jacob\\\\OneDrive - Université Laval\\\\biophilo\\Data\\\\\"+ for_name_philo_of_bio_journals[i] + \".csv\")\n",
    "    \n"
   ]
  },
  {
   "cell_type": "markdown",
   "metadata": {},
   "source": [
    "# References informations"
   ]
  },
  {
   "cell_type": "code",
   "execution_count": 163,
   "metadata": {},
   "outputs": [
    {
     "name": "stderr",
     "output_type": "stream",
     "text": [
      "<>:7: DeprecationWarning: invalid escape sequence '\\D'\n",
      "<>:17: DeprecationWarning: invalid escape sequence '\\D'\n",
      "<>:7: DeprecationWarning: invalid escape sequence '\\D'\n",
      "<>:17: DeprecationWarning: invalid escape sequence '\\D'\n",
      "C:\\Users\\jacob\\AppData\\Local\\Temp\\ipykernel_20140\\624268411.py:7: DeprecationWarning: invalid escape sequence '\\D'\n",
      "  result_df = pd.read_csv(\"C:\\\\Users\\\\jacob\\\\OneDrive - Université Laval\\\\biophilo\\Data\\\\\"+ for_name_philo_of_bio_journals[i] + \".csv\")\n",
      "C:\\Users\\jacob\\AppData\\Local\\Temp\\ipykernel_20140\\624268411.py:17: DeprecationWarning: invalid escape sequence '\\D'\n",
      "  citation_list.to_csv(\"C:\\\\Users\\\\jacob\\\\OneDrive - Université Laval\\\\biophilo\\Data\\\\\"+ for_name_philo_of_bio_journals[i] + \"_references.csv\")\n"
     ]
    },
    {
     "name": "stdout",
     "output_type": "stream",
     "text": [
      "                source_eid position           id  \\\n",
      "0        2-s2.0-0010726742        1  85050417424   \n",
      "1        2-s2.0-0010726742        2  77949540109   \n",
      "2        2-s2.0-0010726742        3   0038882957   \n",
      "3        2-s2.0-0010726742        4   2342643968   \n",
      "4        2-s2.0-0010726742        5   0003397032   \n",
      "...                    ...      ...          ...   \n",
      "205086  2-s2.0-33747626043       50   4243582634   \n",
      "205087  2-s2.0-33747626043       51   8844257136   \n",
      "205088  2-s2.0-33747626043       52  79957200316   \n",
      "205089  2-s2.0-33747626043       53   0003771448   \n",
      "205090  2-s2.0-33747626043       54   0141918296   \n",
      "\n",
      "                                 doi  \\\n",
      "0                               None   \n",
      "1                               None   \n",
      "2       10.1016/0039-3681(81)90015-7   \n",
      "3                               None   \n",
      "4                               None   \n",
      "...                              ...   \n",
      "205086                          None   \n",
      "205087                          None   \n",
      "205088                          None   \n",
      "205089                          None   \n",
      "205090                          None   \n",
      "\n",
      "                                                    title             authors  \\\n",
      "0       Teleological Explanations in Evolutionary Biology               Ayala   \n",
      "1       Teleology and the Relationship Between Biology...        Beatty, John   \n",
      "2        Biological teleology: Questions and explanations  Brandon, Robert N.   \n",
      "3       Adaptation Explanations: Are Adaptations for t...     Brandon, Robert   \n",
      "4                                                    None     Brandon, Robert   \n",
      "...                                                   ...                 ...   \n",
      "205086  Medicina y epidemias. De la racionalización de...           Rodríguez   \n",
      "205087  Peste Negra, crisis y comportamientos sociales...               Rubio   \n",
      "205088  Las epidemias de peste en la ciudad de Valenci...               Rubio   \n",
      "205089                                               None               Slack   \n",
      "205090  The scientific approach to disease: Specific e...              Temkin   \n",
      "\n",
      "       authors_auid authors_affiliationid  \\\n",
      "0              None                  None   \n",
      "1              None                  None   \n",
      "2        7006220610              60008724   \n",
      "3              None                  None   \n",
      "4              None                  None   \n",
      "...             ...                   ...   \n",
      "205086         None                  None   \n",
      "205087         None                  None   \n",
      "205088         None                  None   \n",
      "205089         None                  None   \n",
      "205090         None                  None   \n",
      "\n",
      "                                              sourcetitle publicationyear  \\\n",
      "0                                   Philosophy of Science            None   \n",
      "1       Some Truer Method: Reflections on the Heritage...            None   \n",
      "2            Studies in History and Philosophy of Science            None   \n",
      "3       Evolution at a Crossroads: The New Biology and...            None   \n",
      "4                              Adaptation and Environment            None   \n",
      "...                                                   ...             ...   \n",
      "205086                                 Malaltia I cultura            None   \n",
      "205087                              La Ciudad De Valencia            None   \n",
      "205088                              Estudis Castellonencs            None   \n",
      "205089   The Impact of Plague in Tudor and Stuart England            None   \n",
      "205090  The Double Face of Janus and Other Essays in t...            None   \n",
      "\n",
      "         coverDate volume issue first  last citedbycount  \\\n",
      "0             None     37  None  None  None         None   \n",
      "1             None   None  None  None  None         None   \n",
      "2       1981-01-01     12     2    91   105           68   \n",
      "3             None   None  None  None  None         None   \n",
      "4             None   None  None  None  None         None   \n",
      "...            ...    ...   ...   ...   ...          ...   \n",
      "205086        None   None  None  None  None         None   \n",
      "205087        None   None  None  None  None         None   \n",
      "205088        None      6  None  None  None         None   \n",
      "205089        None   None  None  None  None         None   \n",
      "205090        None   None  None  None  None         None   \n",
      "\n",
      "                           type  text fulltext  \n",
      "0       originalReference/other  None     None  \n",
      "1       originalReference/other  None     None  \n",
      "2             resolvedReference  None     None  \n",
      "3       originalReference/other  None     None  \n",
      "4       originalReference/other  None     None  \n",
      "...                         ...   ...      ...  \n",
      "205086  originalReference/other  None     None  \n",
      "205087  originalReference/other  None     None  \n",
      "205088  originalReference/other  None     None  \n",
      "205089  originalReference/other  None     None  \n",
      "205090  originalReference/other  None     None  \n",
      "\n",
      "[205091 rows x 19 columns]\n"
     ]
    }
   ],
   "source": [
    "from pybliometrics.scopus import AbstractRetrieval\n",
    "import pandas as pd\n",
    "\n",
    "citation_list = pd.DataFrame()  # Initialize an empty DataFrame to store results\n",
    "for i in range(len(philo_of_bio_journals)):\n",
    "    pybliometrics.scopus.init()\n",
    "    result_df = pd.read_csv(\"C:\\\\Users\\\\jacob\\\\OneDrive - Université Laval\\\\biophilo\\Data\\\\\"+ for_name_philo_of_bio_journals[i] + \".csv\")\n",
    "    for j in range(len(result_df.eid)):  \n",
    "        ref_query = AbstractRetrieval(result_df.eid[j], id_type=\"eid\", view=\"REF\")\n",
    "        \n",
    "        # Convert references to DataFrame and add the EID column\n",
    "        ref_df = pd.DataFrame(ref_query.references)\n",
    "        ref_df['source_eid'] = result_df.eid[j]  # Add the source EID column\n",
    "        \n",
    "        # Concatenate the current DataFrame to the citation list\n",
    "        citation_list = pd.concat([citation_list, ref_df], ignore_index=True)\n",
    "        citation_list.to_csv(\"C:\\\\Users\\\\jacob\\\\OneDrive - Université Laval\\\\biophilo\\Data\\\\\"+ for_name_philo_of_bio_journals[i] + \"_references.csv\")\n",
    "\n",
    "# Display the resulting citation list\n",
    "print(citation_list)"
   ]
  },
  {
   "cell_type": "markdown",
   "metadata": {},
   "source": [
    "# General Philosophy of Science"
   ]
  },
  {
   "cell_type": "code",
   "execution_count": 22,
   "metadata": {},
   "outputs": [],
   "source": [
    "general_philo_of_science =[\n",
    "# GENERAL PHILOSOPHY OF SCIENCE JOURNALS \n",
    "  #r\"\\\"PHILOSOPHY_OF_SCIENCE\\\"\",\n",
    "  #r\"\\\"BRITISH_JOURNAL_FOR_THE_PHILOSOPHY_OF_SCIENCE\\\"\", \n",
    "  #r\"\\\"SYNTHESE\\\"\", \n",
    "  #r\"\\\"ERKENNTNIS\\\"\", \n",
    "  #r\"\\\"EUROPEAN JOURNAL FOR THE PHILOSOPHY OF SCIENCE\\\"\", \n",
    "  #r\"\\\"INTERNATIONAL_STUDIES_IN_THE_PHILOSOPHY_OF_SCIENCE\\\"\", \n",
    "  #r\"\\\"JOURNAL_FOR_GENERAL_PHILOSOPHY_OF_SCIENCE\\\"\", \n",
    "  #r\"\\\"FOUNDATIONS_OF_SCIENCE\\\"\",\n",
    "\n",
    "# SPECIALIZED PHILOSOPHY OF BIOLOGY JOURNALS\n",
    "  #r\"\\\"BIOLOGY AND PHILOSOPHY\\\"\",\n",
    "  #r\"\\\"BIOLOGICAL THEORY\\\"\",\n",
    "  #r\"\\\"STUDIES IN HISTORY AND PHILOSOPHY OF SCIENCE PART C\\\"\",\n",
    "  #r\"\\\"HISTORY AND PHILOSOPHY OF THE LIFE SCIENCES\\\"\",\n",
    "  r\"\\\"ACTA BIOTHEORETICA\\\"\",\n",
    "  r\"\\\"BEHAVIORAL AND BRAIN SCIENCES\\\"\",\n",
    "  r\"\\\"BIOESSAYS\\\"\",\n",
    "  r\"\\\"BIOSEMIOTICS\\\"\",\n",
    "]"
   ]
  },
  {
   "cell_type": "code",
   "execution_count": 23,
   "metadata": {},
   "outputs": [],
   "source": [
    "for_name_general_philo_of_science =[\n",
    "    \n",
    "# GENERAL PHILOSOPHY OF SCIENCE JOURNALS    \n",
    "  #\"PHILOSOPHY_OF_SCIENCE\",\n",
    "  #\"BRITISH_JOURNAL_FOR_THE_PHILOSOPHY_OF_SCIENCE\", \n",
    "  #\"SYNTHESE\", \n",
    "  #\"ERKENNTNIS\", \n",
    "  #\"EUROPEAN_JOURNAL_FOR_THE_PHILOSOPHY_OF_SCIENCE\", \n",
    "  #\"INTERNATIONAL_STUDIES_IN_THE_PHILOSOPHY_OF_SCIENCE\", \n",
    "  #\"JOURNAL_FOR_GENERAL_PHILOSOPHY_OF_SCIENCE\", \n",
    "  #\"FOUNDATIONS_OF_SCIENCE\"\n",
    "\n",
    "# SPECIALIZED PHILOSOPHY OF BIOLOGY JOURNALS\n",
    "  #\"BIOLOGY AND PHILOSOPHY\",\n",
    "  #\"BIOLOGICAL THEORY\",\n",
    "  #\"STUDIES IN HISTORY AND PHILOSOPHY OF SCIENCE PART C\",\n",
    "  #\"HISTORY AND PHILOSOPHY OF THE LIFE SCIENCES\"\n",
    "  \"ACTA_BIOTHEORETICA\",\n",
    "  \"BEHAVIORAL_AND_BRAIN_SCIENCES\",\n",
    "  \"BIOESSAYS\",\n",
    "  \"BIOSEMIOTICS\",\n",
    "]\n"
   ]
  },
  {
   "cell_type": "code",
   "execution_count": 24,
   "metadata": {},
   "outputs": [
    {
     "name": "stderr",
     "output_type": "stream",
     "text": [
      "<>:13: DeprecationWarning: invalid escape sequence '\\D'\n",
      "<>:13: DeprecationWarning: invalid escape sequence '\\D'\n",
      "C:\\Users\\jacob\\AppData\\Local\\Temp\\ipykernel_28880\\3511689.py:13: DeprecationWarning: invalid escape sequence '\\D'\n",
      "  result_df.to_csv(\"C:\\\\Users\\\\jacob\\\\OneDrive - Université Laval\\\\biophilo\\Data\\\\\"+ for_name_general_philo_of_science[i] + \".csv\")\n"
     ]
    },
    {
     "name": "stdout",
     "output_type": "stream",
     "text": [
      "EXACTSRCTITLE(\\\"ACTA BIOTHEORETICA\\\")\n",
      "Downloading results for query \"EXACTSRCTITLE(\\\"ACTA BIOTHEORETICA\\\")\":\n"
     ]
    },
    {
     "name": "stderr",
     "output_type": "stream",
     "text": [
      "100%|██████████| 53/53 [00:36<00:00,  1.41it/s]\n"
     ]
    },
    {
     "name": "stdout",
     "output_type": "stream",
     "text": [
      "EXACTSRCTITLE(\\\"BEHAVIORAL AND BRAIN SCIENCES\\\")\n",
      "Downloading results for query \"EXACTSRCTITLE(\\\"BEHAVIORAL AND BRAIN SCIENCES\\\")\":\n"
     ]
    },
    {
     "name": "stderr",
     "output_type": "stream",
     "text": [
      "100%|██████████| 576/576 [07:02<00:00,  1.36it/s]\n"
     ]
    },
    {
     "name": "stdout",
     "output_type": "stream",
     "text": [
      "EXACTSRCTITLE(\\\"BIOESSAYS\\\")\n",
      "Downloading results for query \"EXACTSRCTITLE(\\\"BIOESSAYS\\\")\":\n"
     ]
    },
    {
     "name": "stderr",
     "output_type": "stream",
     "text": [
      "100%|██████████| 243/243 [03:28<00:00,  1.16it/s]\n"
     ]
    },
    {
     "name": "stdout",
     "output_type": "stream",
     "text": [
      "EXACTSRCTITLE(\\\"BIOSEMIOTICS\\\")\n",
      "Downloading results for query \"EXACTSRCTITLE(\\\"BIOSEMIOTICS\\\")\":\n"
     ]
    },
    {
     "name": "stderr",
     "output_type": "stream",
     "text": [
      "100%|██████████| 22/22 [00:15<00:00,  1.40it/s]\n"
     ]
    }
   ],
   "source": [
    "pybliometrics.scopus.init()\n",
    "\n",
    "from pybliometrics.scopus import ScopusSearch\n",
    "article_list = pd.DataFrame()  # Initialize an empty DataFrame to store results\n",
    "\n",
    "for i in range(len(general_philo_of_science)):  \n",
    "    pybliometrics.scopus.init()\n",
    "    query = \"EXACTSRCTITLE(\" + general_philo_of_science[i] + \")\" \n",
    "    print(query)\n",
    "    s = ScopusSearch(query, verbose=True, subscriber = True, view = \"COMPLETE\")\n",
    "    result = s.results\n",
    "    result_df = pd.DataFrame(result)\n",
    "    result_df.to_csv(\"C:\\\\Users\\\\jacob\\\\OneDrive - Université Laval\\\\biophilo\\Data\\\\\"+ for_name_general_philo_of_science[i] + \".csv\")"
   ]
  },
  {
   "cell_type": "code",
   "execution_count": 6,
   "metadata": {},
   "outputs": [
    {
     "name": "stderr",
     "output_type": "stream",
     "text": [
      "<>:7: DeprecationWarning: invalid escape sequence '\\D'\n",
      "<>:17: DeprecationWarning: invalid escape sequence '\\D'\n",
      "<>:7: DeprecationWarning: invalid escape sequence '\\D'\n",
      "<>:17: DeprecationWarning: invalid escape sequence '\\D'\n",
      "C:\\Users\\jacob\\AppData\\Local\\Temp\\ipykernel_28880\\2180614324.py:7: DeprecationWarning: invalid escape sequence '\\D'\n",
      "  result_df = pd.read_csv(\"C:\\\\Users\\\\jacob\\\\OneDrive - Université Laval\\\\biophilo\\Data\\\\\"+ for_name_general_philo_of_science[i] + \".csv\")\n",
      "C:\\Users\\jacob\\AppData\\Local\\Temp\\ipykernel_28880\\2180614324.py:17: DeprecationWarning: invalid escape sequence '\\D'\n",
      "  citation_list.to_csv(\"C:\\\\Users\\\\jacob\\\\OneDrive - Université Laval\\\\biophilo\\Data\\\\\"+ for_name_general_philo_of_science[i] + \"_references.csv\")\n",
      "C:\\Users\\jacob\\AppData\\Local\\Temp\\ipykernel_28880\\2180614324.py:7: DeprecationWarning: invalid escape sequence '\\D'\n",
      "  result_df = pd.read_csv(\"C:\\\\Users\\\\jacob\\\\OneDrive - Université Laval\\\\biophilo\\Data\\\\\"+ for_name_general_philo_of_science[i] + \".csv\")\n",
      "C:\\Users\\jacob\\AppData\\Local\\Temp\\ipykernel_28880\\2180614324.py:17: DeprecationWarning: invalid escape sequence '\\D'\n",
      "  citation_list.to_csv(\"C:\\\\Users\\\\jacob\\\\OneDrive - Université Laval\\\\biophilo\\Data\\\\\"+ for_name_general_philo_of_science[i] + \"_references.csv\")\n"
     ]
    },
    {
     "ename": "NameError",
     "evalue": "name 'philo_of_bio_journals' is not defined",
     "output_type": "error",
     "traceback": [
      "\u001b[1;31m---------------------------------------------------------------------------\u001b[0m",
      "\u001b[1;31mNameError\u001b[0m                                 Traceback (most recent call last)",
      "Cell \u001b[1;32mIn[6], line 5\u001b[0m\n\u001b[0;32m      2\u001b[0m \u001b[38;5;28;01mimport\u001b[39;00m\u001b[38;5;250m \u001b[39m\u001b[38;5;21;01mpandas\u001b[39;00m\u001b[38;5;250m \u001b[39m\u001b[38;5;28;01mas\u001b[39;00m\u001b[38;5;250m \u001b[39m\u001b[38;5;21;01mpd\u001b[39;00m\n\u001b[0;32m      4\u001b[0m citation_list \u001b[38;5;241m=\u001b[39m pd\u001b[38;5;241m.\u001b[39mDataFrame()  \u001b[38;5;66;03m# Initialize an empty DataFrame to store results\u001b[39;00m\n\u001b[1;32m----> 5\u001b[0m \u001b[38;5;28;01mfor\u001b[39;00m i \u001b[38;5;129;01min\u001b[39;00m \u001b[38;5;28mrange\u001b[39m(\u001b[38;5;28mlen\u001b[39m(\u001b[43mphilo_of_bio_journals\u001b[49m)):\n\u001b[0;32m      6\u001b[0m     pybliometrics\u001b[38;5;241m.\u001b[39mscopus\u001b[38;5;241m.\u001b[39minit()\n\u001b[0;32m      7\u001b[0m     result_df \u001b[38;5;241m=\u001b[39m pd\u001b[38;5;241m.\u001b[39mread_csv(\u001b[38;5;124m\"\u001b[39m\u001b[38;5;124mC:\u001b[39m\u001b[38;5;130;01m\\\\\u001b[39;00m\u001b[38;5;124mUsers\u001b[39m\u001b[38;5;130;01m\\\\\u001b[39;00m\u001b[38;5;124mjacob\u001b[39m\u001b[38;5;130;01m\\\\\u001b[39;00m\u001b[38;5;124mOneDrive - Université Laval\u001b[39m\u001b[38;5;130;01m\\\\\u001b[39;00m\u001b[38;5;124mbiophilo\u001b[39m\u001b[38;5;124m\\\u001b[39m\u001b[38;5;124mData\u001b[39m\u001b[38;5;130;01m\\\\\u001b[39;00m\u001b[38;5;124m\"\u001b[39m\u001b[38;5;241m+\u001b[39m for_name_general_philo_of_science[i] \u001b[38;5;241m+\u001b[39m \u001b[38;5;124m\"\u001b[39m\u001b[38;5;124m.csv\u001b[39m\u001b[38;5;124m\"\u001b[39m)\n",
      "\u001b[1;31mNameError\u001b[0m: name 'philo_of_bio_journals' is not defined"
     ]
    }
   ],
   "source": [
    "from pybliometrics.scopus import AbstractRetrieval\n",
    "import pandas as pd\n",
    "\n",
    "citation_list = pd.DataFrame()  # Initialize an empty DataFrame to store results\n",
    "for i in range(len(philo_of_bio_journals)):\n",
    "    pybliometrics.scopus.init()\n",
    "    result_df = pd.read_csv(\"C:\\\\Users\\\\jacob\\\\OneDrive - Université Laval\\\\biophilo\\Data\\\\\"+ for_name_general_philo_of_science[i] + \".csv\")\n",
    "    for j in range(len(result_df.eid)):  \n",
    "        ref_query = AbstractRetrieval(result_df.eid[j], id_type=\"eid\", view=\"REF\")\n",
    "        \n",
    "        # Convert references to DataFrame and add the EID column\n",
    "        ref_df = pd.DataFrame(ref_query.references)\n",
    "        ref_df['source_eid'] = result_df.eid[j]  # Add the source EID column\n",
    "        \n",
    "        # Concatenate the current DataFrame to the citation list\n",
    "        citation_list = pd.concat([citation_list, ref_df], ignore_index=True)\n",
    "        citation_list.to_csv(\"C:\\\\Users\\\\jacob\\\\OneDrive - Université Laval\\\\biophilo\\Data\\\\\"+ for_name_general_philo_of_science[i] + \"_references.csv\")\n",
    "\n",
    "# Display the resulting citation list\n",
    "print(citation_list)"
   ]
  },
  {
   "cell_type": "code",
   "execution_count": 18,
   "metadata": {},
   "outputs": [],
   "source": [
    "import os\n",
    "\n",
    "PATH_TO_DATA = r'C:/Users/jacob/OneDrive - Université Laval/biophilo/Data/pybiblio'\n",
    "\n",
    "for name in for_name_biology_journals:\n",
    "    file_path = os.path.join(PATH_TO_DATA, f\"{name}.csv\")  # Assuming CSV format\n",
    "\n",
    "    if os.path.exists(file_path):  # Check if file exists\n",
    "        globals()[name] = pd.read_csv(file_path)  # Assign to a variable with the file name\n",
    "    else:\n",
    "        print(f\"Warning: {file_path} not found!\")"
   ]
  },
  {
   "cell_type": "code",
   "execution_count": null,
   "metadata": {},
   "outputs": [
    {
     "ename": "NameError",
     "evalue": "name 'general_philo_of_science' is not defined",
     "output_type": "error",
     "traceback": [
      "\u001b[1;31m---------------------------------------------------------------------------\u001b[0m",
      "\u001b[1;31mNameError\u001b[0m                                 Traceback (most recent call last)",
      "Cell \u001b[1;32mIn[19], line 15\u001b[0m\n\u001b[0;32m     12\u001b[0m citation_data \u001b[38;5;241m=\u001b[39m []\n\u001b[0;32m     14\u001b[0m \u001b[38;5;66;03m# Iterate over journal names\u001b[39;00m\n\u001b[1;32m---> 15\u001b[0m \u001b[38;5;28;01mfor\u001b[39;00m i \u001b[38;5;129;01min\u001b[39;00m \u001b[38;5;28mrange\u001b[39m(\u001b[38;5;28mlen\u001b[39m(\u001b[43mgeneral_philo_of_science\u001b[49m)):\n\u001b[0;32m     16\u001b[0m     \u001b[38;5;66;03m# Read the CSV file\u001b[39;00m\n\u001b[0;32m     17\u001b[0m     file_path \u001b[38;5;241m=\u001b[39m os\u001b[38;5;241m.\u001b[39mpath\u001b[38;5;241m.\u001b[39mjoin(base_dir, \u001b[38;5;124mf\u001b[39m\u001b[38;5;124m\"\u001b[39m\u001b[38;5;132;01m{\u001b[39;00mfor_name_general_philo_of_science[i]\u001b[38;5;132;01m}\u001b[39;00m\u001b[38;5;124m.csv\u001b[39m\u001b[38;5;124m\"\u001b[39m)\n\u001b[0;32m     18\u001b[0m     result_df \u001b[38;5;241m=\u001b[39m pd\u001b[38;5;241m.\u001b[39mread_csv(file_path)\n",
      "\u001b[1;31mNameError\u001b[0m: name 'general_philo_of_science' is not defined"
     ]
    }
   ],
   "source": [
    "import os\n",
    "import pandas as pd\n",
    "from pybliometrics.scopus import AbstractRetrieval\n",
    "\n",
    "# Initialize Pybliometrics once\n",
    "pybliometrics.scopus.init()\n",
    "\n",
    "# Define base directory\n",
    "base_dir = \"C:\\\\Users\\\\jacob\\\\OneDrive - Université Laval\\\\biophilo\\\\Data\\\\\"\n",
    "\n",
    "# Initialize an empty list to collect DataFrames\n",
    "citation_data = []\n",
    "\n",
    "# Iterate over journal names\n",
    "for i in range(len(bio)):\n",
    "    # Read the CSV file\n",
    "    file_path = os.path.join(base_dir, f\"{for_name_general_philo_of_science[i]}.csv\")\n",
    "    result_df = pd.read_csv(file_path)\n",
    "    print(result_df)\n",
    "    # Iterate over EIDs in the DataFrame\n",
    "    for eid in result_df.eid:\n",
    "        # Retrieve references using AbstractRetrieval\n",
    "        ref_query = AbstractRetrieval(eid, id_type=\"eid\", view=\"REF\")\n",
    "        \n",
    "        # Convert references to DataFrame and add the source EID\n",
    "        ref_df = pd.DataFrame(ref_query.references)\n",
    "        if not ref_df.empty:\n",
    "            ref_df['source_eid'] = eid\n",
    "            citation_data.append(ref_df)\n",
    "\n",
    "    # Combine all collected DataFrames for the current journal\n",
    "    if citation_data:\n",
    "        combined_df = pd.concat(citation_data, ignore_index=True)\n",
    "        output_path = os.path.join(base_dir, f\"{for_name_general_philo_of_science[i]}_references.csv\")\n",
    "        combined_df.to_csv(output_path, index=False)\n",
    "\n",
    "        # Clear the list for the next journal\n",
    "        citation_data.clear()\n"
   ]
  },
  {
   "cell_type": "code",
   "execution_count": 7,
   "metadata": {},
   "outputs": [
    {
     "name": "stderr",
     "output_type": "stream",
     "text": [
      "<>:7: DeprecationWarning: invalid escape sequence '\\D'\n",
      "<>:17: DeprecationWarning: invalid escape sequence '\\D'\n",
      "<>:7: DeprecationWarning: invalid escape sequence '\\D'\n",
      "<>:17: DeprecationWarning: invalid escape sequence '\\D'\n",
      "C:\\Users\\jacob\\AppData\\Local\\Temp\\ipykernel_28880\\3792194508.py:7: DeprecationWarning: invalid escape sequence '\\D'\n",
      "  result_df = pd.read_csv(\"C:\\\\Users\\\\jacob\\\\OneDrive - Université Laval\\\\biophilo\\Data\\\\\"+ for_name_general_philo_of_science[i] + \".csv\")\n",
      "C:\\Users\\jacob\\AppData\\Local\\Temp\\ipykernel_28880\\3792194508.py:17: DeprecationWarning: invalid escape sequence '\\D'\n",
      "  citation_list.to_csv(\"C:\\\\Users\\\\jacob\\\\OneDrive - Université Laval\\\\biophilo\\Data\\\\\"+ for_name_general_philo_of_science[i] + \"_references.csv\")\n"
     ]
    },
    {
     "ename": "AttributeError",
     "evalue": "'DataFrame' object has no attribute 'eid'",
     "output_type": "error",
     "traceback": [
      "\u001b[1;31m---------------------------------------------------------------------------\u001b[0m",
      "\u001b[1;31mAttributeError\u001b[0m                            Traceback (most recent call last)",
      "\u001b[1;32m~\\AppData\\Local\\Temp\\ipykernel_28880\\3792194508.py\u001b[0m in \u001b[0;36m?\u001b[1;34m()\u001b[0m\n\u001b[0;32m      4\u001b[0m \u001b[0mcitation_list\u001b[0m \u001b[1;33m=\u001b[0m \u001b[0mpd\u001b[0m\u001b[1;33m.\u001b[0m\u001b[0mDataFrame\u001b[0m\u001b[1;33m(\u001b[0m\u001b[1;33m)\u001b[0m  \u001b[1;31m# Initialize an empty DataFrame to store results\u001b[0m\u001b[1;33m\u001b[0m\u001b[1;33m\u001b[0m\u001b[0m\n\u001b[0;32m      5\u001b[0m \u001b[1;32mfor\u001b[0m \u001b[0mi\u001b[0m \u001b[1;32min\u001b[0m \u001b[0mrange\u001b[0m\u001b[1;33m(\u001b[0m\u001b[0mlen\u001b[0m\u001b[1;33m(\u001b[0m\u001b[0mgeneral_philo_of_science\u001b[0m\u001b[1;33m)\u001b[0m\u001b[1;33m)\u001b[0m\u001b[1;33m:\u001b[0m\u001b[1;33m\u001b[0m\u001b[1;33m\u001b[0m\u001b[0m\n\u001b[0;32m      6\u001b[0m     \u001b[0mpybliometrics\u001b[0m\u001b[1;33m.\u001b[0m\u001b[0mscopus\u001b[0m\u001b[1;33m.\u001b[0m\u001b[0minit\u001b[0m\u001b[1;33m(\u001b[0m\u001b[1;33m)\u001b[0m\u001b[1;33m\u001b[0m\u001b[1;33m\u001b[0m\u001b[0m\n\u001b[0;32m      7\u001b[0m     \u001b[0mresult_df\u001b[0m \u001b[1;33m=\u001b[0m \u001b[0mpd\u001b[0m\u001b[1;33m.\u001b[0m\u001b[0mread_csv\u001b[0m\u001b[1;33m(\u001b[0m\u001b[1;34m\"C:\\\\Users\\\\jacob\\\\OneDrive - Université Laval\\\\biophilo\\Data\\\\\"\u001b[0m\u001b[1;33m+\u001b[0m \u001b[0mfor_name_general_philo_of_science\u001b[0m\u001b[1;33m[\u001b[0m\u001b[0mi\u001b[0m\u001b[1;33m]\u001b[0m \u001b[1;33m+\u001b[0m \u001b[1;34m\".csv\"\u001b[0m\u001b[1;33m)\u001b[0m\u001b[1;33m\u001b[0m\u001b[1;33m\u001b[0m\u001b[0m\n\u001b[1;32m----> 8\u001b[1;33m     \u001b[1;32mfor\u001b[0m \u001b[0mj\u001b[0m \u001b[1;32min\u001b[0m \u001b[0mrange\u001b[0m\u001b[1;33m(\u001b[0m\u001b[0mlen\u001b[0m\u001b[1;33m(\u001b[0m\u001b[0mresult_df\u001b[0m\u001b[1;33m.\u001b[0m\u001b[0meid\u001b[0m\u001b[1;33m)\u001b[0m\u001b[1;33m)\u001b[0m\u001b[1;33m:\u001b[0m\u001b[1;33m\u001b[0m\u001b[1;33m\u001b[0m\u001b[0m\n\u001b[0m\u001b[0;32m      9\u001b[0m         \u001b[0mref_query\u001b[0m \u001b[1;33m=\u001b[0m \u001b[0mAbstractRetrieval\u001b[0m\u001b[1;33m(\u001b[0m\u001b[0mresult_df\u001b[0m\u001b[1;33m.\u001b[0m\u001b[0meid\u001b[0m\u001b[1;33m[\u001b[0m\u001b[0mj\u001b[0m\u001b[1;33m]\u001b[0m\u001b[1;33m,\u001b[0m \u001b[0mid_type\u001b[0m\u001b[1;33m=\u001b[0m\u001b[1;34m\"eid\"\u001b[0m\u001b[1;33m,\u001b[0m \u001b[0mview\u001b[0m\u001b[1;33m=\u001b[0m\u001b[1;34m\"REF\"\u001b[0m\u001b[1;33m)\u001b[0m\u001b[1;33m\u001b[0m\u001b[1;33m\u001b[0m\u001b[0m\n\u001b[0;32m     10\u001b[0m \u001b[1;33m\u001b[0m\u001b[0m\n\u001b[0;32m     11\u001b[0m         \u001b[1;31m# Convert references to DataFrame and add the EID column\u001b[0m\u001b[1;33m\u001b[0m\u001b[1;33m\u001b[0m\u001b[0m\n",
      "\u001b[1;32mc:\\Users\\jacob\\anaconda3\\envs\\test\\Lib\\site-packages\\pandas\\core\\generic.py\u001b[0m in \u001b[0;36m?\u001b[1;34m(self, name)\u001b[0m\n\u001b[0;32m   6295\u001b[0m             \u001b[1;32mand\u001b[0m \u001b[0mname\u001b[0m \u001b[1;32mnot\u001b[0m \u001b[1;32min\u001b[0m \u001b[0mself\u001b[0m\u001b[1;33m.\u001b[0m\u001b[0m_accessors\u001b[0m\u001b[1;33m\u001b[0m\u001b[1;33m\u001b[0m\u001b[0m\n\u001b[0;32m   6296\u001b[0m             \u001b[1;32mand\u001b[0m \u001b[0mself\u001b[0m\u001b[1;33m.\u001b[0m\u001b[0m_info_axis\u001b[0m\u001b[1;33m.\u001b[0m\u001b[0m_can_hold_identifiers_and_holds_name\u001b[0m\u001b[1;33m(\u001b[0m\u001b[0mname\u001b[0m\u001b[1;33m)\u001b[0m\u001b[1;33m\u001b[0m\u001b[1;33m\u001b[0m\u001b[0m\n\u001b[0;32m   6297\u001b[0m         ):\n\u001b[0;32m   6298\u001b[0m             \u001b[1;32mreturn\u001b[0m \u001b[0mself\u001b[0m\u001b[1;33m[\u001b[0m\u001b[0mname\u001b[0m\u001b[1;33m]\u001b[0m\u001b[1;33m\u001b[0m\u001b[1;33m\u001b[0m\u001b[0m\n\u001b[1;32m-> 6299\u001b[1;33m         \u001b[1;32mreturn\u001b[0m \u001b[0mobject\u001b[0m\u001b[1;33m.\u001b[0m\u001b[0m__getattribute__\u001b[0m\u001b[1;33m(\u001b[0m\u001b[0mself\u001b[0m\u001b[1;33m,\u001b[0m \u001b[0mname\u001b[0m\u001b[1;33m)\u001b[0m\u001b[1;33m\u001b[0m\u001b[1;33m\u001b[0m\u001b[0m\n\u001b[0m",
      "\u001b[1;31mAttributeError\u001b[0m: 'DataFrame' object has no attribute 'eid'"
     ]
    }
   ],
   "source": [
    "from pybliometrics.scopus import AbstractRetrieval\n",
    "import pandas as pd\n",
    "\n",
    "citation_list = pd.DataFrame()  # Initialize an empty DataFrame to store results\n",
    "for i in range(len(general_philo_of_science)):\n",
    "    pybliometrics.scopus.init()\n",
    "    result_df = pd.read_csv(\"C:\\\\Users\\\\jacob\\\\OneDrive - Université Laval\\\\biophilo\\Data\\\\\"+ for_name_general_philo_of_science[i] + \".csv\")\n",
    "    for j in range(len(result_df.eid)):  \n",
    "        ref_query = AbstractRetrieval(result_df.eid[j], id_type=\"eid\", view=\"REF\")\n",
    "        \n",
    "        # Convert references to DataFrame and add the EID column\n",
    "        ref_df = pd.DataFrame(ref_query.references)\n",
    "        ref_df['source_eid'] = result_df.eid[j]  # Add the source EID column\n",
    "        \n",
    "        # Concatenate the current DataFrame to the citation list\n",
    "        citation_list = pd.concat([citation_list, ref_df], ignore_index=True)\n",
    "        citation_list.to_csv(\"C:\\\\Users\\\\jacob\\\\OneDrive - Université Laval\\\\biophilo\\Data\\\\\"+ for_name_general_philo_of_science[i] + \"_references.csv\")\n",
    "\n",
    "# Display the resulting citation list\n",
    "print(citation_list)"
   ]
  },
  {
   "cell_type": "code",
   "execution_count": 5,
   "metadata": {},
   "outputs": [],
   "source": [
    "import pybliometrics\n",
    "from pybliometrics.scopus import SubjectClassifications\n",
    "pybliometrics.scopus.init()\n",
    "sub = SubjectClassifications({'description': 'Biology'})\n"
   ]
  },
  {
   "cell_type": "code",
   "execution_count": 6,
   "metadata": {},
   "outputs": [
    {
     "data": {
      "text/plain": [
       "[Subject(code='1300', description='Biochemistry, Genetics and Molecular Biology', detail='Biochemistry, Genetics and Molecular Biology (all)', abbrev='BIOC'),\n",
       " Subject(code='1301', description='Biochemistry, Genetics and Molecular Biology', detail='Biochemistry, Genetics and Molecular Biology (miscellaneous)', abbrev='BIOC'),\n",
       " Subject(code='1302', description='Biochemistry, Genetics and Molecular Biology', detail='Aging', abbrev='BIOC'),\n",
       " Subject(code='1303', description='Biochemistry, Genetics and Molecular Biology', detail='Biochemistry', abbrev='BIOC'),\n",
       " Subject(code='1304', description='Biochemistry, Genetics and Molecular Biology', detail='Biophysics', abbrev='BIOC'),\n",
       " Subject(code='1305', description='Biochemistry, Genetics and Molecular Biology', detail='Biotechnology', abbrev='BIOC'),\n",
       " Subject(code='1306', description='Biochemistry, Genetics and Molecular Biology', detail='Cancer Research', abbrev='BIOC'),\n",
       " Subject(code='1307', description='Biochemistry, Genetics and Molecular Biology', detail='Cell Biology', abbrev='BIOC'),\n",
       " Subject(code='1308', description='Biochemistry, Genetics and Molecular Biology', detail='Clinical Biochemistry', abbrev='BIOC'),\n",
       " Subject(code='1309', description='Biochemistry, Genetics and Molecular Biology', detail='Developmental Biology', abbrev='BIOC'),\n",
       " Subject(code='1310', description='Biochemistry, Genetics and Molecular Biology', detail='Endocrinology', abbrev='BIOC'),\n",
       " Subject(code='1311', description='Biochemistry, Genetics and Molecular Biology', detail='Genetics', abbrev='BIOC'),\n",
       " Subject(code='1312', description='Biochemistry, Genetics and Molecular Biology', detail='Molecular Biology', abbrev='BIOC'),\n",
       " Subject(code='1313', description='Biochemistry, Genetics and Molecular Biology', detail='Molecular Medicine', abbrev='BIOC'),\n",
       " Subject(code='1314', description='Biochemistry, Genetics and Molecular Biology', detail='Physiology', abbrev='BIOC'),\n",
       " Subject(code='1315', description='Biochemistry, Genetics and Molecular Biology', detail='Structural Biology', abbrev='BIOC'),\n",
       " Subject(code='2400', description='Immunology and Microbiology', detail='Immunology and Microbiology (all)', abbrev='IMMU'),\n",
       " Subject(code='2401', description='Immunology and Microbiology', detail='Immunology and Microbiology (miscellaneous)', abbrev='IMMU'),\n",
       " Subject(code='2402', description='Immunology and Microbiology', detail='Applied Microbiology and Biotechnology', abbrev='IMMU'),\n",
       " Subject(code='2403', description='Immunology and Microbiology', detail='Immunology', abbrev='IMMU'),\n",
       " Subject(code='2404', description='Immunology and Microbiology', detail='Microbiology', abbrev='IMMU'),\n",
       " Subject(code='2405', description='Immunology and Microbiology', detail='Parasitology', abbrev='IMMU'),\n",
       " Subject(code='2406', description='Immunology and Microbiology', detail='Virology', abbrev='IMMU')]"
      ]
     },
     "execution_count": 6,
     "metadata": {},
     "output_type": "execute_result"
    }
   ],
   "source": [
    "\n",
    "sub.results"
   ]
  },
  {
   "cell_type": "code",
   "execution_count": 57,
   "metadata": {},
   "outputs": [
    {
     "name": "stdout",
     "output_type": "stream",
     "text": [
      "Error retrieving data for ISSN 1693867: The resource specified cannot be found.\n"
     ]
    },
    {
     "name": "stderr",
     "output_type": "stream",
     "text": [
      "C:\\Users\\jacob\\AppData\\Local\\Temp\\ipykernel_19052\\1706422145.py:38: FutureWarning: The behavior of DataFrame concatenation with empty or all-NA entries is deprecated. In a future version, this will no longer exclude empty or all-NA columns when determining the result dtypes. To retain the old behavior, exclude the relevant entries before the concat operation.\n",
      "  final_df = pd.concat([final_df, info], ignore_index=True)\n",
      "C:\\Users\\jacob\\AppData\\Local\\Temp\\ipykernel_19052\\1706422145.py:38: FutureWarning: The behavior of DataFrame concatenation with empty or all-NA entries is deprecated. In a future version, this will no longer exclude empty or all-NA columns when determining the result dtypes. To retain the old behavior, exclude the relevant entries before the concat operation.\n",
      "  final_df = pd.concat([final_df, info], ignore_index=True)\n"
     ]
    },
    {
     "ename": "KeyboardInterrupt",
     "evalue": "",
     "output_type": "error",
     "traceback": [
      "\u001b[1;31m---------------------------------------------------------------------------\u001b[0m",
      "\u001b[1;31mKeyboardInterrupt\u001b[0m                         Traceback (most recent call last)",
      "Cell \u001b[1;32mIn[57], line 16\u001b[0m\n\u001b[0;32m     13\u001b[0m     source_title \u001b[38;5;241m=\u001b[39m \u001b[38;5;28;01mNone\u001b[39;00m  \u001b[38;5;66;03m# Handle missing source titles\u001b[39;00m\n\u001b[0;32m     15\u001b[0m \u001b[38;5;66;03m# Fetch citation metrics\u001b[39;00m\n\u001b[1;32m---> 16\u001b[0m metrics \u001b[38;5;241m=\u001b[39m \u001b[43mSerialTitle\u001b[49m\u001b[43m(\u001b[49m\u001b[43mISSN\u001b[49m\u001b[43m,\u001b[49m\u001b[43m \u001b[49m\u001b[43myear\u001b[49m\u001b[38;5;241;43m=\u001b[39;49m\u001b[38;5;241;43m2023\u001b[39;49m\u001b[43m,\u001b[49m\u001b[43m \u001b[49m\u001b[43mview\u001b[49m\u001b[38;5;241;43m=\u001b[39;49m\u001b[38;5;124;43m'\u001b[39;49m\u001b[38;5;124;43mCITESCORE\u001b[39;49m\u001b[38;5;124;43m'\u001b[39;49m\u001b[43m)\u001b[49m\n\u001b[0;32m     18\u001b[0m \u001b[38;5;66;03m# Convert citescoreyearinfolist to DataFrame\u001b[39;00m\n\u001b[0;32m     19\u001b[0m df \u001b[38;5;241m=\u001b[39m pd\u001b[38;5;241m.\u001b[39mDataFrame(metrics\u001b[38;5;241m.\u001b[39mcitescoreyearinfolist)  \n",
      "File \u001b[1;32mc:\\Users\\jacob\\anaconda3\\envs\\test\\Lib\\site-packages\\pybliometrics\\scopus\\serial_title.py:241\u001b[0m, in \u001b[0;36mSerialTitle.__init__\u001b[1;34m(self, issn, refresh, view, years, **kwds)\u001b[0m\n\u001b[0;32m    239\u001b[0m \u001b[38;5;28mself\u001b[39m\u001b[38;5;241m.\u001b[39m_id \u001b[38;5;241m=\u001b[39m \u001b[38;5;28mstr\u001b[39m(issn)\n\u001b[0;32m    240\u001b[0m \u001b[38;5;28mself\u001b[39m\u001b[38;5;241m.\u001b[39m_years \u001b[38;5;241m=\u001b[39m years\n\u001b[1;32m--> 241\u001b[0m \u001b[43mRetrieval\u001b[49m\u001b[38;5;241;43m.\u001b[39;49m\u001b[38;5;21;43m__init__\u001b[39;49m\u001b[43m(\u001b[49m\u001b[38;5;28;43mself\u001b[39;49m\u001b[43m,\u001b[49m\u001b[43m \u001b[49m\u001b[43midentifier\u001b[49m\u001b[38;5;241;43m=\u001b[39;49m\u001b[38;5;28;43mself\u001b[39;49m\u001b[38;5;241;43m.\u001b[39;49m\u001b[43m_id\u001b[49m\u001b[43m,\u001b[49m\u001b[43m \u001b[49m\u001b[43mdate\u001b[49m\u001b[38;5;241;43m=\u001b[39;49m\u001b[43myears\u001b[49m\u001b[43m,\u001b[49m\n\u001b[0;32m    242\u001b[0m \u001b[43m                   \u001b[49m\u001b[43mapi\u001b[49m\u001b[38;5;241;43m=\u001b[39;49m\u001b[38;5;124;43m'\u001b[39;49m\u001b[38;5;124;43mSerialTitle\u001b[39;49m\u001b[38;5;124;43m'\u001b[39;49m\u001b[43m,\u001b[49m\u001b[43m \u001b[49m\u001b[38;5;241;43m*\u001b[39;49m\u001b[38;5;241;43m*\u001b[39;49m\u001b[43mkwds\u001b[49m\u001b[43m)\u001b[49m\n\u001b[0;32m    244\u001b[0m \u001b[38;5;66;03m# Parse json\u001b[39;00m\n\u001b[0;32m    245\u001b[0m \u001b[38;5;28mself\u001b[39m\u001b[38;5;241m.\u001b[39m_json \u001b[38;5;241m=\u001b[39m \u001b[38;5;28mself\u001b[39m\u001b[38;5;241m.\u001b[39m_json[\u001b[38;5;124m'\u001b[39m\u001b[38;5;124mserial-metadata-response\u001b[39m\u001b[38;5;124m'\u001b[39m]\n",
      "File \u001b[1;32mc:\\Users\\jacob\\anaconda3\\envs\\test\\Lib\\site-packages\\pybliometrics\\scopus\\superclasses\\retrieval.py:54\u001b[0m, in \u001b[0;36mRetrieval.__init__\u001b[1;34m(self, identifier, api, id_type, **kwds)\u001b[0m\n\u001b[0;32m     52\u001b[0m \u001b[38;5;66;03m# Parse file contents\u001b[39;00m\n\u001b[0;32m     53\u001b[0m params \u001b[38;5;241m=\u001b[39m {\u001b[38;5;124m'\u001b[39m\u001b[38;5;124mview\u001b[39m\u001b[38;5;124m'\u001b[39m: \u001b[38;5;28mself\u001b[39m\u001b[38;5;241m.\u001b[39m_view, \u001b[38;5;241m*\u001b[39m\u001b[38;5;241m*\u001b[39mkwds}\n\u001b[1;32m---> 54\u001b[0m \u001b[43mBase\u001b[49m\u001b[38;5;241;43m.\u001b[39;49m\u001b[38;5;21;43m__init__\u001b[39;49m\u001b[43m(\u001b[49m\u001b[38;5;28;43mself\u001b[39;49m\u001b[43m,\u001b[49m\u001b[43m \u001b[49m\u001b[43mparams\u001b[49m\u001b[38;5;241;43m=\u001b[39;49m\u001b[43mparams\u001b[49m\u001b[43m,\u001b[49m\u001b[43m \u001b[49m\u001b[43murl\u001b[49m\u001b[38;5;241;43m=\u001b[39;49m\u001b[43murl\u001b[49m\u001b[43m,\u001b[49m\u001b[43m \u001b[49m\u001b[43mapi\u001b[49m\u001b[38;5;241;43m=\u001b[39;49m\u001b[43mapi\u001b[49m\u001b[43m)\u001b[49m\n",
      "File \u001b[1;32mc:\\Users\\jacob\\anaconda3\\envs\\test\\Lib\\site-packages\\pybliometrics\\scopus\\superclasses\\base.py:66\u001b[0m, in \u001b[0;36mBase.__init__\u001b[1;34m(self, params, url, api, download, verbose, *args, **kwds)\u001b[0m\n\u001b[0;32m     64\u001b[0m         \u001b[38;5;28mself\u001b[39m\u001b[38;5;241m.\u001b[39m_json \u001b[38;5;241m=\u001b[39m loads(fname\u001b[38;5;241m.\u001b[39mread_text())\n\u001b[0;32m     65\u001b[0m \u001b[38;5;28;01melse\u001b[39;00m:\n\u001b[1;32m---> 66\u001b[0m     resp \u001b[38;5;241m=\u001b[39m \u001b[43mget_content\u001b[49m\u001b[43m(\u001b[49m\u001b[43murl\u001b[49m\u001b[43m,\u001b[49m\u001b[43m \u001b[49m\u001b[43mapi\u001b[49m\u001b[43m,\u001b[49m\u001b[43m \u001b[49m\u001b[43mparams\u001b[49m\u001b[43m,\u001b[49m\u001b[43m \u001b[49m\u001b[38;5;241;43m*\u001b[39;49m\u001b[43margs\u001b[49m\u001b[43m,\u001b[49m\u001b[43m \u001b[49m\u001b[38;5;241;43m*\u001b[39;49m\u001b[38;5;241;43m*\u001b[39;49m\u001b[43mkwds\u001b[49m\u001b[43m)\u001b[49m\n\u001b[0;32m     67\u001b[0m     header \u001b[38;5;241m=\u001b[39m resp\u001b[38;5;241m.\u001b[39mheaders\n\u001b[0;32m     69\u001b[0m     \u001b[38;5;28;01mif\u001b[39;00m ab_ref_retrieval:\n",
      "File \u001b[1;32mc:\\Users\\jacob\\anaconda3\\envs\\test\\Lib\\site-packages\\pybliometrics\\scopus\\utils\\get_content.py:102\u001b[0m, in \u001b[0;36mget_content\u001b[1;34m(url, api, params, **kwds)\u001b[0m\n\u001b[0;32m    100\u001b[0m \u001b[38;5;66;03m# Perform request, eventually replacing the current key\u001b[39;00m\n\u001b[0;32m    101\u001b[0m timeout \u001b[38;5;241m=\u001b[39m config\u001b[38;5;241m.\u001b[39mgetint(\u001b[38;5;124m\"\u001b[39m\u001b[38;5;124mRequests\u001b[39m\u001b[38;5;124m\"\u001b[39m, \u001b[38;5;124m\"\u001b[39m\u001b[38;5;124mTimeout\u001b[39m\u001b[38;5;124m\"\u001b[39m, fallback\u001b[38;5;241m=\u001b[39m\u001b[38;5;241m20\u001b[39m)\n\u001b[1;32m--> 102\u001b[0m resp \u001b[38;5;241m=\u001b[39m \u001b[43msession\u001b[49m\u001b[38;5;241;43m.\u001b[39;49m\u001b[43mget\u001b[49m\u001b[43m(\u001b[49m\u001b[43murl\u001b[49m\u001b[43m,\u001b[49m\u001b[43m \u001b[49m\u001b[43mheaders\u001b[49m\u001b[38;5;241;43m=\u001b[39;49m\u001b[43mheader\u001b[49m\u001b[43m,\u001b[49m\u001b[43m \u001b[49m\u001b[43mproxies\u001b[49m\u001b[38;5;241;43m=\u001b[39;49m\u001b[43mproxies\u001b[49m\u001b[43m,\u001b[49m\u001b[43m \u001b[49m\u001b[43mparams\u001b[49m\u001b[38;5;241;43m=\u001b[39;49m\u001b[43mparams\u001b[49m\u001b[43m,\u001b[49m\n\u001b[0;32m    103\u001b[0m \u001b[43m                  \u001b[49m\u001b[43mtimeout\u001b[49m\u001b[38;5;241;43m=\u001b[39;49m\u001b[43mtimeout\u001b[49m\u001b[43m)\u001b[49m\n\u001b[0;32m    104\u001b[0m \u001b[38;5;28;01mwhile\u001b[39;00m resp\u001b[38;5;241m.\u001b[39mstatus_code \u001b[38;5;241m==\u001b[39m \u001b[38;5;241m429\u001b[39m:\n\u001b[0;32m    105\u001b[0m     \u001b[38;5;28;01mtry\u001b[39;00m:\n",
      "File \u001b[1;32mc:\\Users\\jacob\\anaconda3\\envs\\test\\Lib\\site-packages\\requests\\sessions.py:602\u001b[0m, in \u001b[0;36mSession.get\u001b[1;34m(self, url, **kwargs)\u001b[0m\n\u001b[0;32m    594\u001b[0m \u001b[38;5;250m\u001b[39m\u001b[38;5;124mr\u001b[39m\u001b[38;5;124;03m\"\"\"Sends a GET request. Returns :class:`Response` object.\u001b[39;00m\n\u001b[0;32m    595\u001b[0m \n\u001b[0;32m    596\u001b[0m \u001b[38;5;124;03m:param url: URL for the new :class:`Request` object.\u001b[39;00m\n\u001b[0;32m    597\u001b[0m \u001b[38;5;124;03m:param \\*\\*kwargs: Optional arguments that ``request`` takes.\u001b[39;00m\n\u001b[0;32m    598\u001b[0m \u001b[38;5;124;03m:rtype: requests.Response\u001b[39;00m\n\u001b[0;32m    599\u001b[0m \u001b[38;5;124;03m\"\"\"\u001b[39;00m\n\u001b[0;32m    601\u001b[0m kwargs\u001b[38;5;241m.\u001b[39msetdefault(\u001b[38;5;124m\"\u001b[39m\u001b[38;5;124mallow_redirects\u001b[39m\u001b[38;5;124m\"\u001b[39m, \u001b[38;5;28;01mTrue\u001b[39;00m)\n\u001b[1;32m--> 602\u001b[0m \u001b[38;5;28;01mreturn\u001b[39;00m \u001b[38;5;28;43mself\u001b[39;49m\u001b[38;5;241;43m.\u001b[39;49m\u001b[43mrequest\u001b[49m\u001b[43m(\u001b[49m\u001b[38;5;124;43m\"\u001b[39;49m\u001b[38;5;124;43mGET\u001b[39;49m\u001b[38;5;124;43m\"\u001b[39;49m\u001b[43m,\u001b[49m\u001b[43m \u001b[49m\u001b[43murl\u001b[49m\u001b[43m,\u001b[49m\u001b[43m \u001b[49m\u001b[38;5;241;43m*\u001b[39;49m\u001b[38;5;241;43m*\u001b[39;49m\u001b[43mkwargs\u001b[49m\u001b[43m)\u001b[49m\n",
      "File \u001b[1;32mc:\\Users\\jacob\\anaconda3\\envs\\test\\Lib\\site-packages\\requests\\sessions.py:589\u001b[0m, in \u001b[0;36mSession.request\u001b[1;34m(self, method, url, params, data, headers, cookies, files, auth, timeout, allow_redirects, proxies, hooks, stream, verify, cert, json)\u001b[0m\n\u001b[0;32m    584\u001b[0m send_kwargs \u001b[38;5;241m=\u001b[39m {\n\u001b[0;32m    585\u001b[0m     \u001b[38;5;124m\"\u001b[39m\u001b[38;5;124mtimeout\u001b[39m\u001b[38;5;124m\"\u001b[39m: timeout,\n\u001b[0;32m    586\u001b[0m     \u001b[38;5;124m\"\u001b[39m\u001b[38;5;124mallow_redirects\u001b[39m\u001b[38;5;124m\"\u001b[39m: allow_redirects,\n\u001b[0;32m    587\u001b[0m }\n\u001b[0;32m    588\u001b[0m send_kwargs\u001b[38;5;241m.\u001b[39mupdate(settings)\n\u001b[1;32m--> 589\u001b[0m resp \u001b[38;5;241m=\u001b[39m \u001b[38;5;28;43mself\u001b[39;49m\u001b[38;5;241;43m.\u001b[39;49m\u001b[43msend\u001b[49m\u001b[43m(\u001b[49m\u001b[43mprep\u001b[49m\u001b[43m,\u001b[49m\u001b[43m \u001b[49m\u001b[38;5;241;43m*\u001b[39;49m\u001b[38;5;241;43m*\u001b[39;49m\u001b[43msend_kwargs\u001b[49m\u001b[43m)\u001b[49m\n\u001b[0;32m    591\u001b[0m \u001b[38;5;28;01mreturn\u001b[39;00m resp\n",
      "File \u001b[1;32mc:\\Users\\jacob\\anaconda3\\envs\\test\\Lib\\site-packages\\requests\\sessions.py:703\u001b[0m, in \u001b[0;36mSession.send\u001b[1;34m(self, request, **kwargs)\u001b[0m\n\u001b[0;32m    700\u001b[0m start \u001b[38;5;241m=\u001b[39m preferred_clock()\n\u001b[0;32m    702\u001b[0m \u001b[38;5;66;03m# Send the request\u001b[39;00m\n\u001b[1;32m--> 703\u001b[0m r \u001b[38;5;241m=\u001b[39m \u001b[43madapter\u001b[49m\u001b[38;5;241;43m.\u001b[39;49m\u001b[43msend\u001b[49m\u001b[43m(\u001b[49m\u001b[43mrequest\u001b[49m\u001b[43m,\u001b[49m\u001b[43m \u001b[49m\u001b[38;5;241;43m*\u001b[39;49m\u001b[38;5;241;43m*\u001b[39;49m\u001b[43mkwargs\u001b[49m\u001b[43m)\u001b[49m\n\u001b[0;32m    705\u001b[0m \u001b[38;5;66;03m# Total elapsed time of the request (approximately)\u001b[39;00m\n\u001b[0;32m    706\u001b[0m elapsed \u001b[38;5;241m=\u001b[39m preferred_clock() \u001b[38;5;241m-\u001b[39m start\n",
      "File \u001b[1;32mc:\\Users\\jacob\\anaconda3\\envs\\test\\Lib\\site-packages\\requests\\adapters.py:667\u001b[0m, in \u001b[0;36mHTTPAdapter.send\u001b[1;34m(self, request, stream, timeout, verify, cert, proxies)\u001b[0m\n\u001b[0;32m    664\u001b[0m     timeout \u001b[38;5;241m=\u001b[39m TimeoutSauce(connect\u001b[38;5;241m=\u001b[39mtimeout, read\u001b[38;5;241m=\u001b[39mtimeout)\n\u001b[0;32m    666\u001b[0m \u001b[38;5;28;01mtry\u001b[39;00m:\n\u001b[1;32m--> 667\u001b[0m     resp \u001b[38;5;241m=\u001b[39m \u001b[43mconn\u001b[49m\u001b[38;5;241;43m.\u001b[39;49m\u001b[43murlopen\u001b[49m\u001b[43m(\u001b[49m\n\u001b[0;32m    668\u001b[0m \u001b[43m        \u001b[49m\u001b[43mmethod\u001b[49m\u001b[38;5;241;43m=\u001b[39;49m\u001b[43mrequest\u001b[49m\u001b[38;5;241;43m.\u001b[39;49m\u001b[43mmethod\u001b[49m\u001b[43m,\u001b[49m\n\u001b[0;32m    669\u001b[0m \u001b[43m        \u001b[49m\u001b[43murl\u001b[49m\u001b[38;5;241;43m=\u001b[39;49m\u001b[43murl\u001b[49m\u001b[43m,\u001b[49m\n\u001b[0;32m    670\u001b[0m \u001b[43m        \u001b[49m\u001b[43mbody\u001b[49m\u001b[38;5;241;43m=\u001b[39;49m\u001b[43mrequest\u001b[49m\u001b[38;5;241;43m.\u001b[39;49m\u001b[43mbody\u001b[49m\u001b[43m,\u001b[49m\n\u001b[0;32m    671\u001b[0m \u001b[43m        \u001b[49m\u001b[43mheaders\u001b[49m\u001b[38;5;241;43m=\u001b[39;49m\u001b[43mrequest\u001b[49m\u001b[38;5;241;43m.\u001b[39;49m\u001b[43mheaders\u001b[49m\u001b[43m,\u001b[49m\n\u001b[0;32m    672\u001b[0m \u001b[43m        \u001b[49m\u001b[43mredirect\u001b[49m\u001b[38;5;241;43m=\u001b[39;49m\u001b[38;5;28;43;01mFalse\u001b[39;49;00m\u001b[43m,\u001b[49m\n\u001b[0;32m    673\u001b[0m \u001b[43m        \u001b[49m\u001b[43massert_same_host\u001b[49m\u001b[38;5;241;43m=\u001b[39;49m\u001b[38;5;28;43;01mFalse\u001b[39;49;00m\u001b[43m,\u001b[49m\n\u001b[0;32m    674\u001b[0m \u001b[43m        \u001b[49m\u001b[43mpreload_content\u001b[49m\u001b[38;5;241;43m=\u001b[39;49m\u001b[38;5;28;43;01mFalse\u001b[39;49;00m\u001b[43m,\u001b[49m\n\u001b[0;32m    675\u001b[0m \u001b[43m        \u001b[49m\u001b[43mdecode_content\u001b[49m\u001b[38;5;241;43m=\u001b[39;49m\u001b[38;5;28;43;01mFalse\u001b[39;49;00m\u001b[43m,\u001b[49m\n\u001b[0;32m    676\u001b[0m \u001b[43m        \u001b[49m\u001b[43mretries\u001b[49m\u001b[38;5;241;43m=\u001b[39;49m\u001b[38;5;28;43mself\u001b[39;49m\u001b[38;5;241;43m.\u001b[39;49m\u001b[43mmax_retries\u001b[49m\u001b[43m,\u001b[49m\n\u001b[0;32m    677\u001b[0m \u001b[43m        \u001b[49m\u001b[43mtimeout\u001b[49m\u001b[38;5;241;43m=\u001b[39;49m\u001b[43mtimeout\u001b[49m\u001b[43m,\u001b[49m\n\u001b[0;32m    678\u001b[0m \u001b[43m        \u001b[49m\u001b[43mchunked\u001b[49m\u001b[38;5;241;43m=\u001b[39;49m\u001b[43mchunked\u001b[49m\u001b[43m,\u001b[49m\n\u001b[0;32m    679\u001b[0m \u001b[43m    \u001b[49m\u001b[43m)\u001b[49m\n\u001b[0;32m    681\u001b[0m \u001b[38;5;28;01mexcept\u001b[39;00m (ProtocolError, \u001b[38;5;167;01mOSError\u001b[39;00m) \u001b[38;5;28;01mas\u001b[39;00m err:\n\u001b[0;32m    682\u001b[0m     \u001b[38;5;28;01mraise\u001b[39;00m \u001b[38;5;167;01mConnectionError\u001b[39;00m(err, request\u001b[38;5;241m=\u001b[39mrequest)\n",
      "File \u001b[1;32mc:\\Users\\jacob\\anaconda3\\envs\\test\\Lib\\site-packages\\urllib3\\connectionpool.py:716\u001b[0m, in \u001b[0;36mHTTPConnectionPool.urlopen\u001b[1;34m(self, method, url, body, headers, retries, redirect, assert_same_host, timeout, pool_timeout, release_conn, chunked, body_pos, **response_kw)\u001b[0m\n\u001b[0;32m    713\u001b[0m     \u001b[38;5;28mself\u001b[39m\u001b[38;5;241m.\u001b[39m_prepare_proxy(conn)\n\u001b[0;32m    715\u001b[0m \u001b[38;5;66;03m# Make the request on the httplib connection object.\u001b[39;00m\n\u001b[1;32m--> 716\u001b[0m httplib_response \u001b[38;5;241m=\u001b[39m \u001b[38;5;28;43mself\u001b[39;49m\u001b[38;5;241;43m.\u001b[39;49m\u001b[43m_make_request\u001b[49m\u001b[43m(\u001b[49m\n\u001b[0;32m    717\u001b[0m \u001b[43m    \u001b[49m\u001b[43mconn\u001b[49m\u001b[43m,\u001b[49m\n\u001b[0;32m    718\u001b[0m \u001b[43m    \u001b[49m\u001b[43mmethod\u001b[49m\u001b[43m,\u001b[49m\n\u001b[0;32m    719\u001b[0m \u001b[43m    \u001b[49m\u001b[43murl\u001b[49m\u001b[43m,\u001b[49m\n\u001b[0;32m    720\u001b[0m \u001b[43m    \u001b[49m\u001b[43mtimeout\u001b[49m\u001b[38;5;241;43m=\u001b[39;49m\u001b[43mtimeout_obj\u001b[49m\u001b[43m,\u001b[49m\n\u001b[0;32m    721\u001b[0m \u001b[43m    \u001b[49m\u001b[43mbody\u001b[49m\u001b[38;5;241;43m=\u001b[39;49m\u001b[43mbody\u001b[49m\u001b[43m,\u001b[49m\n\u001b[0;32m    722\u001b[0m \u001b[43m    \u001b[49m\u001b[43mheaders\u001b[49m\u001b[38;5;241;43m=\u001b[39;49m\u001b[43mheaders\u001b[49m\u001b[43m,\u001b[49m\n\u001b[0;32m    723\u001b[0m \u001b[43m    \u001b[49m\u001b[43mchunked\u001b[49m\u001b[38;5;241;43m=\u001b[39;49m\u001b[43mchunked\u001b[49m\u001b[43m,\u001b[49m\n\u001b[0;32m    724\u001b[0m \u001b[43m\u001b[49m\u001b[43m)\u001b[49m\n\u001b[0;32m    726\u001b[0m \u001b[38;5;66;03m# If we're going to release the connection in ``finally:``, then\u001b[39;00m\n\u001b[0;32m    727\u001b[0m \u001b[38;5;66;03m# the response doesn't need to know about the connection. Otherwise\u001b[39;00m\n\u001b[0;32m    728\u001b[0m \u001b[38;5;66;03m# it will also try to release it and we'll have a double-release\u001b[39;00m\n\u001b[0;32m    729\u001b[0m \u001b[38;5;66;03m# mess.\u001b[39;00m\n\u001b[0;32m    730\u001b[0m response_conn \u001b[38;5;241m=\u001b[39m conn \u001b[38;5;28;01mif\u001b[39;00m \u001b[38;5;129;01mnot\u001b[39;00m release_conn \u001b[38;5;28;01melse\u001b[39;00m \u001b[38;5;28;01mNone\u001b[39;00m\n",
      "File \u001b[1;32mc:\\Users\\jacob\\anaconda3\\envs\\test\\Lib\\site-packages\\urllib3\\connectionpool.py:468\u001b[0m, in \u001b[0;36mHTTPConnectionPool._make_request\u001b[1;34m(self, conn, method, url, timeout, chunked, **httplib_request_kw)\u001b[0m\n\u001b[0;32m    463\u001b[0m             httplib_response \u001b[38;5;241m=\u001b[39m conn\u001b[38;5;241m.\u001b[39mgetresponse()\n\u001b[0;32m    464\u001b[0m         \u001b[38;5;28;01mexcept\u001b[39;00m \u001b[38;5;167;01mBaseException\u001b[39;00m \u001b[38;5;28;01mas\u001b[39;00m e:\n\u001b[0;32m    465\u001b[0m             \u001b[38;5;66;03m# Remove the TypeError from the exception chain in\u001b[39;00m\n\u001b[0;32m    466\u001b[0m             \u001b[38;5;66;03m# Python 3 (including for exceptions like SystemExit).\u001b[39;00m\n\u001b[0;32m    467\u001b[0m             \u001b[38;5;66;03m# Otherwise it looks like a bug in the code.\u001b[39;00m\n\u001b[1;32m--> 468\u001b[0m             \u001b[43msix\u001b[49m\u001b[38;5;241;43m.\u001b[39;49m\u001b[43mraise_from\u001b[49m\u001b[43m(\u001b[49m\u001b[43me\u001b[49m\u001b[43m,\u001b[49m\u001b[43m \u001b[49m\u001b[38;5;28;43;01mNone\u001b[39;49;00m\u001b[43m)\u001b[49m\n\u001b[0;32m    469\u001b[0m \u001b[38;5;28;01mexcept\u001b[39;00m (SocketTimeout, BaseSSLError, SocketError) \u001b[38;5;28;01mas\u001b[39;00m e:\n\u001b[0;32m    470\u001b[0m     \u001b[38;5;28mself\u001b[39m\u001b[38;5;241m.\u001b[39m_raise_timeout(err\u001b[38;5;241m=\u001b[39me, url\u001b[38;5;241m=\u001b[39murl, timeout_value\u001b[38;5;241m=\u001b[39mread_timeout)\n",
      "File \u001b[1;32m<string>:3\u001b[0m, in \u001b[0;36mraise_from\u001b[1;34m(value, from_value)\u001b[0m\n",
      "File \u001b[1;32mc:\\Users\\jacob\\anaconda3\\envs\\test\\Lib\\site-packages\\urllib3\\connectionpool.py:463\u001b[0m, in \u001b[0;36mHTTPConnectionPool._make_request\u001b[1;34m(self, conn, method, url, timeout, chunked, **httplib_request_kw)\u001b[0m\n\u001b[0;32m    460\u001b[0m \u001b[38;5;28;01mexcept\u001b[39;00m \u001b[38;5;167;01mTypeError\u001b[39;00m:\n\u001b[0;32m    461\u001b[0m     \u001b[38;5;66;03m# Python 3\u001b[39;00m\n\u001b[0;32m    462\u001b[0m     \u001b[38;5;28;01mtry\u001b[39;00m:\n\u001b[1;32m--> 463\u001b[0m         httplib_response \u001b[38;5;241m=\u001b[39m \u001b[43mconn\u001b[49m\u001b[38;5;241;43m.\u001b[39;49m\u001b[43mgetresponse\u001b[49m\u001b[43m(\u001b[49m\u001b[43m)\u001b[49m\n\u001b[0;32m    464\u001b[0m     \u001b[38;5;28;01mexcept\u001b[39;00m \u001b[38;5;167;01mBaseException\u001b[39;00m \u001b[38;5;28;01mas\u001b[39;00m e:\n\u001b[0;32m    465\u001b[0m         \u001b[38;5;66;03m# Remove the TypeError from the exception chain in\u001b[39;00m\n\u001b[0;32m    466\u001b[0m         \u001b[38;5;66;03m# Python 3 (including for exceptions like SystemExit).\u001b[39;00m\n\u001b[0;32m    467\u001b[0m         \u001b[38;5;66;03m# Otherwise it looks like a bug in the code.\u001b[39;00m\n\u001b[0;32m    468\u001b[0m         six\u001b[38;5;241m.\u001b[39mraise_from(e, \u001b[38;5;28;01mNone\u001b[39;00m)\n",
      "File \u001b[1;32mc:\\Users\\jacob\\anaconda3\\envs\\test\\Lib\\http\\client.py:1395\u001b[0m, in \u001b[0;36mHTTPConnection.getresponse\u001b[1;34m(self)\u001b[0m\n\u001b[0;32m   1393\u001b[0m \u001b[38;5;28;01mtry\u001b[39;00m:\n\u001b[0;32m   1394\u001b[0m     \u001b[38;5;28;01mtry\u001b[39;00m:\n\u001b[1;32m-> 1395\u001b[0m         \u001b[43mresponse\u001b[49m\u001b[38;5;241;43m.\u001b[39;49m\u001b[43mbegin\u001b[49m\u001b[43m(\u001b[49m\u001b[43m)\u001b[49m\n\u001b[0;32m   1396\u001b[0m     \u001b[38;5;28;01mexcept\u001b[39;00m \u001b[38;5;167;01mConnectionError\u001b[39;00m:\n\u001b[0;32m   1397\u001b[0m         \u001b[38;5;28mself\u001b[39m\u001b[38;5;241m.\u001b[39mclose()\n",
      "File \u001b[1;32mc:\\Users\\jacob\\anaconda3\\envs\\test\\Lib\\http\\client.py:325\u001b[0m, in \u001b[0;36mHTTPResponse.begin\u001b[1;34m(self)\u001b[0m\n\u001b[0;32m    323\u001b[0m \u001b[38;5;66;03m# read until we get a non-100 response\u001b[39;00m\n\u001b[0;32m    324\u001b[0m \u001b[38;5;28;01mwhile\u001b[39;00m \u001b[38;5;28;01mTrue\u001b[39;00m:\n\u001b[1;32m--> 325\u001b[0m     version, status, reason \u001b[38;5;241m=\u001b[39m \u001b[38;5;28;43mself\u001b[39;49m\u001b[38;5;241;43m.\u001b[39;49m\u001b[43m_read_status\u001b[49m\u001b[43m(\u001b[49m\u001b[43m)\u001b[49m\n\u001b[0;32m    326\u001b[0m     \u001b[38;5;28;01mif\u001b[39;00m status \u001b[38;5;241m!=\u001b[39m CONTINUE:\n\u001b[0;32m    327\u001b[0m         \u001b[38;5;28;01mbreak\u001b[39;00m\n",
      "File \u001b[1;32mc:\\Users\\jacob\\anaconda3\\envs\\test\\Lib\\http\\client.py:286\u001b[0m, in \u001b[0;36mHTTPResponse._read_status\u001b[1;34m(self)\u001b[0m\n\u001b[0;32m    285\u001b[0m \u001b[38;5;28;01mdef\u001b[39;00m\u001b[38;5;250m \u001b[39m\u001b[38;5;21m_read_status\u001b[39m(\u001b[38;5;28mself\u001b[39m):\n\u001b[1;32m--> 286\u001b[0m     line \u001b[38;5;241m=\u001b[39m \u001b[38;5;28mstr\u001b[39m(\u001b[38;5;28mself\u001b[39m\u001b[38;5;241m.\u001b[39mfp\u001b[38;5;241m.\u001b[39mreadline(_MAXLINE \u001b[38;5;241m+\u001b[39m \u001b[38;5;241m1\u001b[39m), \u001b[38;5;124m\"\u001b[39m\u001b[38;5;124miso-8859-1\u001b[39m\u001b[38;5;124m\"\u001b[39m)\n\u001b[0;32m    287\u001b[0m     \u001b[38;5;28;01mif\u001b[39;00m \u001b[38;5;28mlen\u001b[39m(line) \u001b[38;5;241m>\u001b[39m _MAXLINE:\n\u001b[0;32m    288\u001b[0m         \u001b[38;5;28;01mraise\u001b[39;00m LineTooLong(\u001b[38;5;124m\"\u001b[39m\u001b[38;5;124mstatus line\u001b[39m\u001b[38;5;124m\"\u001b[39m)\n",
      "File \u001b[1;32mc:\\Users\\jacob\\anaconda3\\envs\\test\\Lib\\socket.py:718\u001b[0m, in \u001b[0;36mSocketIO.readinto\u001b[1;34m(self, b)\u001b[0m\n\u001b[0;32m    716\u001b[0m \u001b[38;5;28;01mwhile\u001b[39;00m \u001b[38;5;28;01mTrue\u001b[39;00m:\n\u001b[0;32m    717\u001b[0m     \u001b[38;5;28;01mtry\u001b[39;00m:\n\u001b[1;32m--> 718\u001b[0m         \u001b[38;5;28;01mreturn\u001b[39;00m \u001b[38;5;28;43mself\u001b[39;49m\u001b[38;5;241;43m.\u001b[39;49m\u001b[43m_sock\u001b[49m\u001b[38;5;241;43m.\u001b[39;49m\u001b[43mrecv_into\u001b[49m\u001b[43m(\u001b[49m\u001b[43mb\u001b[49m\u001b[43m)\u001b[49m\n\u001b[0;32m    719\u001b[0m     \u001b[38;5;28;01mexcept\u001b[39;00m timeout:\n\u001b[0;32m    720\u001b[0m         \u001b[38;5;28mself\u001b[39m\u001b[38;5;241m.\u001b[39m_timeout_occurred \u001b[38;5;241m=\u001b[39m \u001b[38;5;28;01mTrue\u001b[39;00m\n",
      "File \u001b[1;32mc:\\Users\\jacob\\anaconda3\\envs\\test\\Lib\\ssl.py:1314\u001b[0m, in \u001b[0;36mSSLSocket.recv_into\u001b[1;34m(self, buffer, nbytes, flags)\u001b[0m\n\u001b[0;32m   1310\u001b[0m     \u001b[38;5;28;01mif\u001b[39;00m flags \u001b[38;5;241m!=\u001b[39m \u001b[38;5;241m0\u001b[39m:\n\u001b[0;32m   1311\u001b[0m         \u001b[38;5;28;01mraise\u001b[39;00m \u001b[38;5;167;01mValueError\u001b[39;00m(\n\u001b[0;32m   1312\u001b[0m           \u001b[38;5;124m\"\u001b[39m\u001b[38;5;124mnon-zero flags not allowed in calls to recv_into() on \u001b[39m\u001b[38;5;132;01m%s\u001b[39;00m\u001b[38;5;124m\"\u001b[39m \u001b[38;5;241m%\u001b[39m\n\u001b[0;32m   1313\u001b[0m           \u001b[38;5;28mself\u001b[39m\u001b[38;5;241m.\u001b[39m\u001b[38;5;18m__class__\u001b[39m)\n\u001b[1;32m-> 1314\u001b[0m     \u001b[38;5;28;01mreturn\u001b[39;00m \u001b[38;5;28;43mself\u001b[39;49m\u001b[38;5;241;43m.\u001b[39;49m\u001b[43mread\u001b[49m\u001b[43m(\u001b[49m\u001b[43mnbytes\u001b[49m\u001b[43m,\u001b[49m\u001b[43m \u001b[49m\u001b[43mbuffer\u001b[49m\u001b[43m)\u001b[49m\n\u001b[0;32m   1315\u001b[0m \u001b[38;5;28;01melse\u001b[39;00m:\n\u001b[0;32m   1316\u001b[0m     \u001b[38;5;28;01mreturn\u001b[39;00m \u001b[38;5;28msuper\u001b[39m()\u001b[38;5;241m.\u001b[39mrecv_into(buffer, nbytes, flags)\n",
      "File \u001b[1;32mc:\\Users\\jacob\\anaconda3\\envs\\test\\Lib\\ssl.py:1166\u001b[0m, in \u001b[0;36mSSLSocket.read\u001b[1;34m(self, len, buffer)\u001b[0m\n\u001b[0;32m   1164\u001b[0m \u001b[38;5;28;01mtry\u001b[39;00m:\n\u001b[0;32m   1165\u001b[0m     \u001b[38;5;28;01mif\u001b[39;00m buffer \u001b[38;5;129;01mis\u001b[39;00m \u001b[38;5;129;01mnot\u001b[39;00m \u001b[38;5;28;01mNone\u001b[39;00m:\n\u001b[1;32m-> 1166\u001b[0m         \u001b[38;5;28;01mreturn\u001b[39;00m \u001b[38;5;28;43mself\u001b[39;49m\u001b[38;5;241;43m.\u001b[39;49m\u001b[43m_sslobj\u001b[49m\u001b[38;5;241;43m.\u001b[39;49m\u001b[43mread\u001b[49m\u001b[43m(\u001b[49m\u001b[38;5;28;43mlen\u001b[39;49m\u001b[43m,\u001b[49m\u001b[43m \u001b[49m\u001b[43mbuffer\u001b[49m\u001b[43m)\u001b[49m\n\u001b[0;32m   1167\u001b[0m     \u001b[38;5;28;01melse\u001b[39;00m:\n\u001b[0;32m   1168\u001b[0m         \u001b[38;5;28;01mreturn\u001b[39;00m \u001b[38;5;28mself\u001b[39m\u001b[38;5;241m.\u001b[39m_sslobj\u001b[38;5;241m.\u001b[39mread(\u001b[38;5;28mlen\u001b[39m)\n",
      "\u001b[1;31mKeyboardInterrupt\u001b[0m: "
     ]
    }
   ],
   "source": [
    "import pandas as pd\n",
    "from pybliometrics.scopus import SerialTitle\n",
    "\n",
    "final_df = pd.DataFrame()\n",
    "\n",
    "for ISSN in cited_journals['ISSN'].dropna().unique():  # Ensure ISSN values are valid\n",
    "    try:\n",
    "        # Retrieve source title safely\n",
    "        source_title = cited_journals.loc[cited_journals['ISSN'] == ISSN, 'sourcetitle']\n",
    "        if not source_title.empty:\n",
    "            source_title = source_title.iloc[0]  # Get first matching value\n",
    "        else:\n",
    "            source_title = None  # Handle missing source titles\n",
    "        \n",
    "        # Fetch citation metrics\n",
    "        metrics = SerialTitle(ISSN, year=2023, view='CITESCORE')\n",
    "        \n",
    "        # Convert citescoreyearinfolist to DataFrame\n",
    "        df = pd.DataFrame(metrics.citescoreyearinfolist)  \n",
    "        \n",
    "        # Ensure 'citescore' column exists before calculating statistics\n",
    "        if 'citescore' in df.columns:\n",
    "            mean_citescore = df['citescore'].mean()\n",
    "            median_citescore = df['citescore'].median()\n",
    "        else:\n",
    "            mean_citescore = None\n",
    "            median_citescore = None\n",
    "        \n",
    "        # Create a DataFrame with ISSN, mean, and median citescore\n",
    "        info = pd.DataFrame({\n",
    "            'sourcetitle': [source_title],  # Store single value as a list\n",
    "            'ISSN': [ISSN],\n",
    "            'median_citescore': [median_citescore],\n",
    "            'mean_citescore': [mean_citescore]\n",
    "        })\n",
    "\n",
    "        # Concatenate the DataFrame\n",
    "        final_df = pd.concat([final_df, info], ignore_index=True)\n",
    "    \n",
    "    except Exception as e:\n",
    "        print(f\"Error retrieving data for ISSN {ISSN}: {e}\")\n",
    "\n",
    "print(final_df)\n",
    "\n"
   ]
  },
  {
   "cell_type": "code",
   "execution_count": 56,
   "metadata": {},
   "outputs": [
    {
     "data": {
      "text/html": [
       "<div>\n",
       "<style scoped>\n",
       "    .dataframe tbody tr th:only-of-type {\n",
       "        vertical-align: middle;\n",
       "    }\n",
       "\n",
       "    .dataframe tbody tr th {\n",
       "        vertical-align: top;\n",
       "    }\n",
       "\n",
       "    .dataframe thead th {\n",
       "        text-align: right;\n",
       "    }\n",
       "</style>\n",
       "<table border=\"1\" class=\"dataframe\">\n",
       "  <thead>\n",
       "    <tr style=\"text-align: right;\">\n",
       "      <th></th>\n",
       "      <th>year</th>\n",
       "      <th>citescore</th>\n",
       "      <th>status</th>\n",
       "      <th>documentcount</th>\n",
       "      <th>citationcount</th>\n",
       "      <th>percentcited</th>\n",
       "      <th>rank</th>\n",
       "    </tr>\n",
       "  </thead>\n",
       "  <tbody>\n",
       "    <tr>\n",
       "      <th>0</th>\n",
       "      <td>2024</td>\n",
       "      <td>3.9</td>\n",
       "      <td>In-Progress</td>\n",
       "      <td>194</td>\n",
       "      <td>754</td>\n",
       "      <td>66</td>\n",
       "      <td>[(1211, 37, 95), (1207, 18, 92), (1100, 68, 70)]</td>\n",
       "    </tr>\n",
       "    <tr>\n",
       "      <th>1</th>\n",
       "      <td>2023</td>\n",
       "      <td>4.1</td>\n",
       "      <td>Complete</td>\n",
       "      <td>214</td>\n",
       "      <td>870</td>\n",
       "      <td>68</td>\n",
       "      <td>[(1211, 38, 95), (1207, 14, 93), (1100, 59, 73)]</td>\n",
       "    </tr>\n",
       "    <tr>\n",
       "      <th>2</th>\n",
       "      <td>2022</td>\n",
       "      <td>3.2</td>\n",
       "      <td>Complete</td>\n",
       "      <td>228</td>\n",
       "      <td>740</td>\n",
       "      <td>67</td>\n",
       "      <td>[(1211, 43, 94), (1207, 17, 92), (1100, 63, 70)]</td>\n",
       "    </tr>\n",
       "    <tr>\n",
       "      <th>3</th>\n",
       "      <td>2021</td>\n",
       "      <td>2.7</td>\n",
       "      <td>Complete</td>\n",
       "      <td>212</td>\n",
       "      <td>571</td>\n",
       "      <td>67</td>\n",
       "      <td>[(1211, 39, 94), (1207, 20, 89), (1100, 62, 70)]</td>\n",
       "    </tr>\n",
       "    <tr>\n",
       "      <th>4</th>\n",
       "      <td>2020</td>\n",
       "      <td>2.5</td>\n",
       "      <td>Complete</td>\n",
       "      <td>221</td>\n",
       "      <td>542</td>\n",
       "      <td>63</td>\n",
       "      <td>[(1211, 34, 94), (1207, 18, 89), (1100, 59, 72)]</td>\n",
       "    </tr>\n",
       "    <tr>\n",
       "      <th>5</th>\n",
       "      <td>2019</td>\n",
       "      <td>2.6</td>\n",
       "      <td>Complete</td>\n",
       "      <td>208</td>\n",
       "      <td>537</td>\n",
       "      <td>63</td>\n",
       "      <td>[(1211, 26, 95), (1207, 16, 89), (1100, 50, 75)]</td>\n",
       "    </tr>\n",
       "    <tr>\n",
       "      <th>6</th>\n",
       "      <td>2018</td>\n",
       "      <td>2.7</td>\n",
       "      <td>Complete</td>\n",
       "      <td>194</td>\n",
       "      <td>525</td>\n",
       "      <td>62</td>\n",
       "      <td>[(1211, 28, 95), (1207, 13, 91), (1100, 44, 77)]</td>\n",
       "    </tr>\n",
       "    <tr>\n",
       "      <th>7</th>\n",
       "      <td>2017</td>\n",
       "      <td>2.8</td>\n",
       "      <td>Complete</td>\n",
       "      <td>177</td>\n",
       "      <td>499</td>\n",
       "      <td>73</td>\n",
       "      <td>[(1211, 20, 96), (1207, 11, 91), (1100, 42, 77)]</td>\n",
       "    </tr>\n",
       "    <tr>\n",
       "      <th>8</th>\n",
       "      <td>2016</td>\n",
       "      <td>2.8</td>\n",
       "      <td>Complete</td>\n",
       "      <td>194</td>\n",
       "      <td>549</td>\n",
       "      <td>69</td>\n",
       "      <td>[(1211, 15, 96), (1207, 10, 92), (1100, 38, 78)]</td>\n",
       "    </tr>\n",
       "    <tr>\n",
       "      <th>9</th>\n",
       "      <td>2015</td>\n",
       "      <td>2.5</td>\n",
       "      <td>Complete</td>\n",
       "      <td>193</td>\n",
       "      <td>480</td>\n",
       "      <td>73</td>\n",
       "      <td>[(1211, 21, 95), (1207, 16, 87), (1100, 41, 75)]</td>\n",
       "    </tr>\n",
       "    <tr>\n",
       "      <th>10</th>\n",
       "      <td>2014</td>\n",
       "      <td>2.2</td>\n",
       "      <td>Complete</td>\n",
       "      <td>195</td>\n",
       "      <td>432</td>\n",
       "      <td>69</td>\n",
       "      <td>[(1211, 23, 94), (1207, 17, 86), (1100, 38, 76)]</td>\n",
       "    </tr>\n",
       "    <tr>\n",
       "      <th>11</th>\n",
       "      <td>2013</td>\n",
       "      <td>2.3</td>\n",
       "      <td>Complete</td>\n",
       "      <td>186</td>\n",
       "      <td>434</td>\n",
       "      <td>62</td>\n",
       "      <td>[(1211, 22, 94), (1207, 16, 86), (1100, 36, 77)]</td>\n",
       "    </tr>\n",
       "    <tr>\n",
       "      <th>12</th>\n",
       "      <td>2012</td>\n",
       "      <td>1.9</td>\n",
       "      <td>Complete</td>\n",
       "      <td>168</td>\n",
       "      <td>324</td>\n",
       "      <td>57</td>\n",
       "      <td>[(1211, 24, 93), (1207, 17, 85), (1100, 44, 71)]</td>\n",
       "    </tr>\n",
       "    <tr>\n",
       "      <th>13</th>\n",
       "      <td>2011</td>\n",
       "      <td>1.8</td>\n",
       "      <td>Complete</td>\n",
       "      <td>161</td>\n",
       "      <td>284</td>\n",
       "      <td>63</td>\n",
       "      <td>[(1211, 29, 91), (1207, 19, 83), (1100, 46, 67)]</td>\n",
       "    </tr>\n",
       "  </tbody>\n",
       "</table>\n",
       "</div>"
      ],
      "text/plain": [
       "    year  citescore       status  documentcount  citationcount  percentcited  \\\n",
       "0   2024        3.9  In-Progress            194            754            66   \n",
       "1   2023        4.1     Complete            214            870            68   \n",
       "2   2022        3.2     Complete            228            740            67   \n",
       "3   2021        2.7     Complete            212            571            67   \n",
       "4   2020        2.5     Complete            221            542            63   \n",
       "5   2019        2.6     Complete            208            537            63   \n",
       "6   2018        2.7     Complete            194            525            62   \n",
       "7   2017        2.8     Complete            177            499            73   \n",
       "8   2016        2.8     Complete            194            549            69   \n",
       "9   2015        2.5     Complete            193            480            73   \n",
       "10  2014        2.2     Complete            195            432            69   \n",
       "11  2013        2.3     Complete            186            434            62   \n",
       "12  2012        1.9     Complete            168            324            57   \n",
       "13  2011        1.8     Complete            161            284            63   \n",
       "\n",
       "                                                rank  \n",
       "0   [(1211, 37, 95), (1207, 18, 92), (1100, 68, 70)]  \n",
       "1   [(1211, 38, 95), (1207, 14, 93), (1100, 59, 73)]  \n",
       "2   [(1211, 43, 94), (1207, 17, 92), (1100, 63, 70)]  \n",
       "3   [(1211, 39, 94), (1207, 20, 89), (1100, 62, 70)]  \n",
       "4   [(1211, 34, 94), (1207, 18, 89), (1100, 59, 72)]  \n",
       "5   [(1211, 26, 95), (1207, 16, 89), (1100, 50, 75)]  \n",
       "6   [(1211, 28, 95), (1207, 13, 91), (1100, 44, 77)]  \n",
       "7   [(1211, 20, 96), (1207, 11, 91), (1100, 42, 77)]  \n",
       "8   [(1211, 15, 96), (1207, 10, 92), (1100, 38, 78)]  \n",
       "9   [(1211, 21, 95), (1207, 16, 87), (1100, 41, 75)]  \n",
       "10  [(1211, 23, 94), (1207, 17, 86), (1100, 38, 76)]  \n",
       "11  [(1211, 22, 94), (1207, 16, 86), (1100, 36, 77)]  \n",
       "12  [(1211, 24, 93), (1207, 17, 85), (1100, 44, 71)]  \n",
       "13  [(1211, 29, 91), (1207, 19, 83), (1100, 46, 67)]  "
      ]
     },
     "execution_count": 56,
     "metadata": {},
     "output_type": "execute_result"
    }
   ],
   "source": [
    "import pybliometrics\n",
    "import pandas as pd\n",
    "from pybliometrics.scopus import SerialTitle\n",
    "pybliometrics.scopus.init()\n",
    "source = SerialTitle(\"00368075\")\n",
    "\n",
    "source_full = SerialTitle(\"01693867\", view=\"CITESCORE\")\n",
    "info = pd.DataFrame(source_full.citescoreyearinfolist)\n",
    "#info.citescore.mean()\n",
    "#info.citescore.median()\n",
    "info"
   ]
  },
  {
   "cell_type": "code",
   "execution_count": 8,
   "metadata": {},
   "outputs": [],
   "source": [
    "biology_journals = [\n",
    "    r\"\\\"MICROBIOLOGY AND MOLECULAR BIOLOGY REVIEWS\\\"\",\n",
    "    r\"\\\"TRENDS IN BIOCHEMICAL SCIENCES\\\"\",\n",
    "]\n",
    "\n",
    "\n",
    "for_name_biology_journals = [\n",
    "    \"MICROBIOLOGY_AND_MOLECULAR_BIOLOGY_REVIEWS\",\n",
    "    \"TRENDS_IN_BIOCHEMICAL_SCIENCES\"\n",
    "]"
   ]
  },
  {
   "cell_type": "code",
   "execution_count": 16,
   "metadata": {},
   "outputs": [
    {
     "name": "stdout",
     "output_type": "stream",
     "text": [
      "Querying: EXACTSRCTITLE(\\\"MICROBIOLOGY AND MOLECULAR BIOLOGY REVIEWS\\\")\n",
      "Querying: EXACTSRCTITLE(\\\"TRENDS IN BIOCHEMICAL SCIENCES\\\")\n",
      "Downloading results for query \"EXACTSRCTITLE(\\\"TRENDS IN BIOCHEMICAL SCIENCES\\\")\":\n"
     ]
    },
    {
     "name": "stderr",
     "output_type": "stream",
     "text": [
      "  0%|          | 1/270 [00:00<?, ?it/s]"
     ]
    },
    {
     "name": "stdout",
     "output_type": "stream",
     "text": [
      "Downloading results for query \"EXACTSRCTITLE(\\\"MICROBIOLOGY AND MOLECULAR BIOLOGY REVIEWS\\\")\":\n"
     ]
    },
    {
     "name": "stderr",
     "output_type": "stream",
     "text": [
      "100%|██████████| 34/34 [00:32<00:00,  1.01it/s]]"
     ]
    },
    {
     "name": "stdout",
     "output_type": "stream",
     "text": [
      "Saved results to C:\\Users\\jacob\\OneDrive - Université Laval\\biophilo\\Data\\MICROBIOLOGY_AND_MOLECULAR_BIOLOGY_REVIEWS.csv\n"
     ]
    },
    {
     "name": "stderr",
     "output_type": "stream",
     "text": [
      "\n",
      "100%|██████████| 270/270 [03:04<00:00,  1.46it/s]\n"
     ]
    },
    {
     "name": "stdout",
     "output_type": "stream",
     "text": [
      "Saved results to C:\\Users\\jacob\\OneDrive - Université Laval\\biophilo\\Data\\TRENDS_IN_BIOCHEMICAL_SCIENCES.csv\n"
     ]
    },
    {
     "ename": "KeyboardInterrupt",
     "evalue": "",
     "output_type": "error",
     "traceback": [
      "\u001b[1;31m---------------------------------------------------------------------------\u001b[0m",
      "\u001b[1;31mKeyboardInterrupt\u001b[0m                         Traceback (most recent call last)",
      "Cell \u001b[1;32mIn[16], line 30\u001b[0m\n\u001b[0;32m     27\u001b[0m \u001b[38;5;66;03m# Use ThreadPoolExecutor to parallelize the Scopus queries\u001b[39;00m\n\u001b[0;32m     28\u001b[0m \u001b[38;5;28;01mwith\u001b[39;00m concurrent\u001b[38;5;241m.\u001b[39mfutures\u001b[38;5;241m.\u001b[39mThreadPoolExecutor() \u001b[38;5;28;01mas\u001b[39;00m executor:\n\u001b[0;32m     29\u001b[0m     \u001b[38;5;66;03m# Pass the tasks to executor.map, and log the progress\u001b[39;00m\n\u001b[1;32m---> 30\u001b[0m     \u001b[38;5;28;43mlist\u001b[39;49m\u001b[43m(\u001b[49m\u001b[43mexecutor\u001b[49m\u001b[38;5;241;43m.\u001b[39;49m\u001b[43mmap\u001b[49m\u001b[43m(\u001b[49m\u001b[38;5;28;43;01mlambda\u001b[39;49;00m\u001b[43m \u001b[49m\u001b[43mtask\u001b[49m\u001b[43m:\u001b[49m\u001b[43m \u001b[49m\u001b[43mquery_scopus_for_journal\u001b[49m\u001b[43m(\u001b[49m\u001b[38;5;241;43m*\u001b[39;49m\u001b[43mtask\u001b[49m\u001b[43m)\u001b[49m\u001b[43m,\u001b[49m\u001b[43m \u001b[49m\u001b[43mtasks\u001b[49m\u001b[43m)\u001b[49m\u001b[43m)\u001b[49m\n",
      "File \u001b[1;32mc:\\Users\\jacob\\anaconda3\\envs\\test\\Lib\\concurrent\\futures\\_base.py:619\u001b[0m, in \u001b[0;36mExecutor.map.<locals>.result_iterator\u001b[1;34m()\u001b[0m\n\u001b[0;32m    616\u001b[0m \u001b[38;5;28;01mwhile\u001b[39;00m fs:\n\u001b[0;32m    617\u001b[0m     \u001b[38;5;66;03m# Careful not to keep a reference to the popped future\u001b[39;00m\n\u001b[0;32m    618\u001b[0m     \u001b[38;5;28;01mif\u001b[39;00m timeout \u001b[38;5;129;01mis\u001b[39;00m \u001b[38;5;28;01mNone\u001b[39;00m:\n\u001b[1;32m--> 619\u001b[0m         \u001b[38;5;28;01myield\u001b[39;00m \u001b[43m_result_or_cancel\u001b[49m\u001b[43m(\u001b[49m\u001b[43mfs\u001b[49m\u001b[38;5;241;43m.\u001b[39;49m\u001b[43mpop\u001b[49m\u001b[43m(\u001b[49m\u001b[43m)\u001b[49m\u001b[43m)\u001b[49m\n\u001b[0;32m    620\u001b[0m     \u001b[38;5;28;01melse\u001b[39;00m:\n\u001b[0;32m    621\u001b[0m         \u001b[38;5;28;01myield\u001b[39;00m _result_or_cancel(fs\u001b[38;5;241m.\u001b[39mpop(), end_time \u001b[38;5;241m-\u001b[39m time\u001b[38;5;241m.\u001b[39mmonotonic())\n",
      "File \u001b[1;32mc:\\Users\\jacob\\anaconda3\\envs\\test\\Lib\\concurrent\\futures\\_base.py:317\u001b[0m, in \u001b[0;36m_result_or_cancel\u001b[1;34m(***failed resolving arguments***)\u001b[0m\n\u001b[0;32m    315\u001b[0m \u001b[38;5;28;01mtry\u001b[39;00m:\n\u001b[0;32m    316\u001b[0m     \u001b[38;5;28;01mtry\u001b[39;00m:\n\u001b[1;32m--> 317\u001b[0m         \u001b[38;5;28;01mreturn\u001b[39;00m \u001b[43mfut\u001b[49m\u001b[38;5;241;43m.\u001b[39;49m\u001b[43mresult\u001b[49m\u001b[43m(\u001b[49m\u001b[43mtimeout\u001b[49m\u001b[43m)\u001b[49m\n\u001b[0;32m    318\u001b[0m     \u001b[38;5;28;01mfinally\u001b[39;00m:\n\u001b[0;32m    319\u001b[0m         fut\u001b[38;5;241m.\u001b[39mcancel()\n",
      "File \u001b[1;32mc:\\Users\\jacob\\anaconda3\\envs\\test\\Lib\\concurrent\\futures\\_base.py:451\u001b[0m, in \u001b[0;36mFuture.result\u001b[1;34m(self, timeout)\u001b[0m\n\u001b[0;32m    448\u001b[0m \u001b[38;5;28;01melif\u001b[39;00m \u001b[38;5;28mself\u001b[39m\u001b[38;5;241m.\u001b[39m_state \u001b[38;5;241m==\u001b[39m FINISHED:\n\u001b[0;32m    449\u001b[0m     \u001b[38;5;28;01mreturn\u001b[39;00m \u001b[38;5;28mself\u001b[39m\u001b[38;5;241m.\u001b[39m__get_result()\n\u001b[1;32m--> 451\u001b[0m \u001b[38;5;28;43mself\u001b[39;49m\u001b[38;5;241;43m.\u001b[39;49m\u001b[43m_condition\u001b[49m\u001b[38;5;241;43m.\u001b[39;49m\u001b[43mwait\u001b[49m\u001b[43m(\u001b[49m\u001b[43mtimeout\u001b[49m\u001b[43m)\u001b[49m\n\u001b[0;32m    453\u001b[0m \u001b[38;5;28;01mif\u001b[39;00m \u001b[38;5;28mself\u001b[39m\u001b[38;5;241m.\u001b[39m_state \u001b[38;5;129;01min\u001b[39;00m [CANCELLED, CANCELLED_AND_NOTIFIED]:\n\u001b[0;32m    454\u001b[0m     \u001b[38;5;28;01mraise\u001b[39;00m CancelledError()\n",
      "File \u001b[1;32mc:\\Users\\jacob\\anaconda3\\envs\\test\\Lib\\threading.py:327\u001b[0m, in \u001b[0;36mCondition.wait\u001b[1;34m(self, timeout)\u001b[0m\n\u001b[0;32m    325\u001b[0m \u001b[38;5;28;01mtry\u001b[39;00m:    \u001b[38;5;66;03m# restore state no matter what (e.g., KeyboardInterrupt)\u001b[39;00m\n\u001b[0;32m    326\u001b[0m     \u001b[38;5;28;01mif\u001b[39;00m timeout \u001b[38;5;129;01mis\u001b[39;00m \u001b[38;5;28;01mNone\u001b[39;00m:\n\u001b[1;32m--> 327\u001b[0m         \u001b[43mwaiter\u001b[49m\u001b[38;5;241;43m.\u001b[39;49m\u001b[43macquire\u001b[49m\u001b[43m(\u001b[49m\u001b[43m)\u001b[49m\n\u001b[0;32m    328\u001b[0m         gotit \u001b[38;5;241m=\u001b[39m \u001b[38;5;28;01mTrue\u001b[39;00m\n\u001b[0;32m    329\u001b[0m     \u001b[38;5;28;01melse\u001b[39;00m:\n",
      "\u001b[1;31mKeyboardInterrupt\u001b[0m: "
     ]
    }
   ],
   "source": [
    "import concurrent.futures\n",
    "import os\n",
    "from pybliometrics.scopus import ScopusSearch\n",
    "import pandas as pd\n",
    "\n",
    "# Initialize the Scopus API\n",
    "pybliometrics.scopus.init()\n",
    "\n",
    "def query_scopus_for_journal(title, filename):\n",
    "    try:\n",
    "        query = \"EXACTSRCTITLE(\" + title + \")\" \n",
    "        print(f\"Querying: {query}\", flush=True)\n",
    "        s = ScopusSearch(query, verbose=True, subscriber=True, view=\"COMPLETE\")\n",
    "        result = s.results\n",
    "        result_df = pd.DataFrame(result)\n",
    "\n",
    "        # Define output path and ensure directory exists\n",
    "        output_path = os.path.join(\"C:\\\\Users\\\\jacob\\\\OneDrive - Université Laval\\\\biophilo\\\\Data\", filename + \".csv\")\n",
    "        result_df.to_csv(output_path, index=False)\n",
    "        print(f\"Saved results to {output_path}\", flush=True)\n",
    "    except Exception as e:\n",
    "        print(f\"Error querying {title}: {e}\", flush=True)\n",
    "\n",
    "# Create a list of tasks to process concurrently\n",
    "tasks = [(biology_journals[i], for_name_biology_journals[i]) for i in range(len(biology_journals))]\n",
    "\n",
    "# Use ThreadPoolExecutor to parallelize the Scopus queries\n",
    "with concurrent.futures.ThreadPoolExecutor() as executor:\n",
    "    # Pass the tasks to executor.map, and log the progress\n",
    "    list(executor.map(lambda task: query_scopus_for_journal(*task), tasks))\n",
    "\n",
    "    "
   ]
  },
  {
   "cell_type": "code",
   "execution_count": 20,
   "metadata": {},
   "outputs": [],
   "source": [
    "import os\n",
    "\n",
    "PATH_TO_DATA = r'C:/Users/jacob/OneDrive - Université Laval/biophilo/Data/pybiblio'\n",
    "\n",
    "for name in for_name_biology_journals:\n",
    "    file_path = os.path.join(PATH_TO_DATA, f\"{name}.csv\")  # Assuming CSV format\n",
    "\n",
    "    if os.path.exists(file_path):  # Check if file exists\n",
    "        globals()[name] = pd.read_csv(file_path)  # Assign to a variable with the file name\n",
    "    else:\n",
    "        print(f\"Warning: {file_path} not found!\")"
   ]
  },
  {
   "cell_type": "code",
   "execution_count": 21,
   "metadata": {},
   "outputs": [
    {
     "name": "stderr",
     "output_type": "stream",
     "text": [
      "  0%|          | 0/830 [00:00<?, ?it/s]"
     ]
    },
    {
     "name": "stdout",
     "output_type": "stream",
     "text": [
      "Processing journal: MICROBIOLOGY_AND_MOLECULAR_BIOLOGY_REVIEWS\n"
     ]
    },
    {
     "name": "stderr",
     "output_type": "stream",
     "text": [
      "100%|██████████| 830/830 [00:39<00:00, 21.20it/s]\n",
      "100%|██████████| 6736/6736 [05:24<00:00, 20.79it/s]\n"
     ]
    }
   ],
   "source": [
    "import pybliometrics\n",
    "import concurrent.futures\n",
    "import pandas as pd\n",
    "import contextlib\n",
    "import io\n",
    "from tqdm import tqdm\n",
    "\n",
    "# Initialize the list to store reference data\n",
    "references_list = []\n",
    "\n",
    "def parse_abstract(eid):\n",
    "    with contextlib.redirect_stdout(io.StringIO()):  # Suppresses print output\n",
    "        try:\n",
    "            print(f\"Processing EID: {eid}\")\n",
    "            s = AbstractRetrieval(eid, id_type=\"eid\", view=\"FULL\")\n",
    "\n",
    "            if s.references:  # Ensure references exist\n",
    "                df = pd.DataFrame(s.references)\n",
    "                df['citing_eid'] = eid\n",
    "                references_list.append(df)  # Collect results\n",
    "            else:\n",
    "                print(f\"No references found for {eid}\")\n",
    "\n",
    "        except Exception as e:\n",
    "            print(f\"Error processing {eid}: {e}\")\n",
    "\n",
    "# Initialize tqdm for pandas\n",
    "tqdm.pandas()\n",
    "\n",
    "# Start pybliometrics\n",
    "pybliometrics.scopus.init()\n",
    "\n",
    "def process_journal(name):\n",
    "    if name in globals():  # Ensure the DataFrame exists\n",
    "        print(f\"Processing journal: {name}\")\n",
    "\n",
    "        dfs = globals()[name]  # Fetch the actual DataFrame\n",
    "\n",
    "        # Use ThreadPoolExecutor to parallelize the reference extraction process\n",
    "        with concurrent.futures.ThreadPoolExecutor() as executor:\n",
    "            list(tqdm(executor.map(parse_abstract, dfs['eid']), total=len(dfs)))\n",
    "\n",
    "        # Ensure references_list has data before concatenating\n",
    "        if references_list:\n",
    "            references_df = pd.concat(references_list, ignore_index=True)\n",
    "        else:\n",
    "            references_df = pd.DataFrame(columns=['eid', 'citing_eid'])  # Placeholder for empty case\n",
    "\n",
    "        # Save only the extracted references, not the original articles\n",
    "        output_path = f\"C:\\\\Users\\\\jacob\\\\OneDrive - Université Laval\\\\biophilo\\\\Data\\\\pybiblio\\\\{name}_refs_pyblio.csv\"\n",
    "        references_df.to_csv(output_path, index=False)\n",
    "\n",
    "        print(f\"Saved references: {output_path}\")\n",
    "\n",
    "        # Clear the list for the next journal to avoid mixing references\n",
    "        references_list.clear()\n",
    "    else:\n",
    "        print(f\"Warning: No DataFrame found for {name}\")\n",
    "\n",
    "# Run the processing for each journal in parallel\n",
    "for name in for_name_biology_journals:\n",
    "    process_journal(name)\n"
   ]
  },
  {
   "cell_type": "code",
   "execution_count": null,
   "metadata": {},
   "outputs": [],
   "source": []
  }
 ],
 "metadata": {
  "kernelspec": {
   "display_name": "test",
   "language": "python",
   "name": "python3"
  },
  "language_info": {
   "codemirror_mode": {
    "name": "ipython",
    "version": 3
   },
   "file_extension": ".py",
   "mimetype": "text/x-python",
   "name": "python",
   "nbconvert_exporter": "python",
   "pygments_lexer": "ipython3",
   "version": "3.11.10"
  }
 },
 "nbformat": 4,
 "nbformat_minor": 2
}
