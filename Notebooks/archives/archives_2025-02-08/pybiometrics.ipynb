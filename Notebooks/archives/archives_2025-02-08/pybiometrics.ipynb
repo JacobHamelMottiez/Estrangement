{
 "cells": [
  {
   "cell_type": "markdown",
   "metadata": {},
   "source": [
    "# How to work your way with Scopus API using Python "
   ]
  },
  {
   "cell_type": "markdown",
   "metadata": {},
   "source": [
    "First, you need to install the package *pybliometrics*."
   ]
  },
  {
   "cell_type": "code",
   "execution_count": null,
   "metadata": {},
   "outputs": [
    {
     "name": "stdout",
     "output_type": "stream",
     "text": [
      "Requirement already satisfied: pybliometrics in c:\\users\\jacob\\anaconda3\\envs\\test\\lib\\site-packages (4.1)\n",
      "Requirement already satisfied: requests in c:\\users\\jacob\\anaconda3\\envs\\test\\lib\\site-packages (from pybliometrics) (2.32.3)\n",
      "Requirement already satisfied: tqdm in c:\\users\\jacob\\anaconda3\\envs\\test\\lib\\site-packages (from pybliometrics) (4.67.0)\n",
      "Requirement already satisfied: urllib3 in c:\\users\\jacob\\anaconda3\\envs\\test\\lib\\site-packages (from pybliometrics) (1.26.20)\n",
      "Requirement already satisfied: charset-normalizer<4,>=2 in c:\\users\\jacob\\anaconda3\\envs\\test\\lib\\site-packages (from requests->pybliometrics) (3.4.1)\n",
      "Requirement already satisfied: idna<4,>=2.5 in c:\\users\\jacob\\anaconda3\\envs\\test\\lib\\site-packages (from requests->pybliometrics) (3.10)\n",
      "Requirement already satisfied: certifi>=2017.4.17 in c:\\users\\jacob\\anaconda3\\envs\\test\\lib\\site-packages (from requests->pybliometrics) (2024.12.14)\n",
      "Requirement already satisfied: colorama in c:\\users\\jacob\\anaconda3\\envs\\test\\lib\\site-packages (from tqdm->pybliometrics) (0.4.6)\n",
      "Note: you may need to restart the kernel to use updated packages.\n"
     ]
    }
   ],
   "source": [
    "#pip install pybliometrics"
   ]
  },
  {
   "cell_type": "code",
   "execution_count": 20,
   "metadata": {},
   "outputs": [
    {
     "data": {
      "text/plain": [
       "'\"C:\\\\Users\\\\jacob\\\\OneDrive - Université Laval\\\\biophilo\\\\Data\\\\\"'"
      ]
     },
     "execution_count": 20,
     "metadata": {},
     "output_type": "execute_result"
    }
   ],
   "source": [
    "import pybliometrics\n",
    "from pybliometrics.scopus import ScopusSearch\n",
    "import pandas as pd\n",
    "\n",
    "\n",
    "PATH_TO_DATA = r'\"C:\\Users\\jacob\\OneDrive - Université Laval\\biophilo\\Data\\\"'\n",
    "PATH_TO_DATA"
   ]
  },
  {
   "cell_type": "markdown",
   "metadata": {},
   "source": [
    "Next, you need to initialize your file. That's were you will put your API token and your Insttoken. "
   ]
  },
  {
   "cell_type": "code",
   "execution_count": 21,
   "metadata": {},
   "outputs": [],
   "source": [
    "pybliometrics.scopus.init()"
   ]
  },
  {
   "cell_type": "markdown",
   "metadata": {},
   "source": [
    "# Queries type"
   ]
  },
  {
   "cell_type": "markdown",
   "metadata": {},
   "source": [
    "There is multiple types of files you might want to get. For the articles, they are about :\n",
    "1. Authors informations ; \n",
    "2. Affiliation informations ; \n",
    "3. General information about the paper (title, published year, etc.)\n",
    "\n",
    "For the following, we will use an example with the journal \"Philosophy of Science\". "
   ]
  },
  {
   "cell_type": "markdown",
   "metadata": {},
   "source": [
    "## Articles informations"
   ]
  },
  {
   "cell_type": "code",
   "execution_count": 17,
   "metadata": {},
   "outputs": [
    {
     "name": "stdout",
     "output_type": "stream",
     "text": [
      "EXACTSRCTITLE(\\\"European Journal for Philosophy of Science\\\")\n",
      "Downloading results for query \"EXACTSRCTITLE(\\\"European Journal for Philosophy of Science\\\")\":\n"
     ]
    },
    {
     "name": "stderr",
     "output_type": "stream",
     "text": [
      "100%|██████████| 25/25 [00:17<00:00,  1.39it/s]\n"
     ]
    }
   ],
   "source": [
    "query = \"EXACTSRCTITLE(\"r'\\\"European Journal for Philosophy of Science\\\"'\")\"\n",
    "print(query)\n",
    "s = ScopusSearch(query, verbose=True, subscriber = True, view = \"COMPLETE\")"
   ]
  },
  {
   "cell_type": "code",
   "execution_count": 18,
   "metadata": {},
   "outputs": [],
   "source": [
    "result = s.results\n",
    "result_df = pd.DataFrame(result)"
   ]
  },
  {
   "cell_type": "code",
   "execution_count": 19,
   "metadata": {},
   "outputs": [
    {
     "name": "stderr",
     "output_type": "stream",
     "text": [
      "<>:2: DeprecationWarning: invalid escape sequence '\\D'\n",
      "<>:2: DeprecationWarning: invalid escape sequence '\\D'\n",
      "C:\\Users\\jacob\\AppData\\Local\\Temp\\ipykernel_28880\\1671014430.py:2: DeprecationWarning: invalid escape sequence '\\D'\n",
      "  result_df.to_csv(\"C:\\\\Users\\\\jacob\\\\OneDrive - Université Laval\\\\biophilo\\Data\\\\EUROPEAN_JOURNAL_FOR_PHILOSOPHY_OF_SCIENCE.csv\")\n"
     ]
    }
   ],
   "source": [
    "result_df\n",
    "result_df.to_csv(\"C:\\\\Users\\\\jacob\\\\OneDrive - Université Laval\\\\biophilo\\Data\\\\EUROPEAN_JOURNAL_FOR_PHILOSOPHY_OF_SCIENCE.csv\")"
   ]
  },
  {
   "cell_type": "code",
   "execution_count": 16,
   "metadata": {},
   "outputs": [
    {
     "name": "stderr",
     "output_type": "stream",
     "text": [
      "<>:10: DeprecationWarning: invalid escape sequence '\\D'\n",
      "<>:10: DeprecationWarning: invalid escape sequence '\\D'\n",
      "C:\\Users\\jacob\\AppData\\Local\\Temp\\ipykernel_28880\\4279419555.py:10: DeprecationWarning: invalid escape sequence '\\D'\n",
      "  citation_list.to_csv(\"C:\\\\Users\\\\jacob\\\\OneDrive - Université Laval\\\\biophilo\\Data\\\\EUROPEAN_JOURNAL_OF_PHILOSOPHY_refs.csv\")\n",
      "C:\\Users\\jacob\\AppData\\Local\\Temp\\ipykernel_28880\\4279419555.py:10: DeprecationWarning: invalid escape sequence '\\D'\n",
      "  citation_list.to_csv(\"C:\\\\Users\\\\jacob\\\\OneDrive - Université Laval\\\\biophilo\\Data\\\\EUROPEAN_JOURNAL_OF_PHILOSOPHY_refs.csv\")\n"
     ]
    },
    {
     "ename": "KeyboardInterrupt",
     "evalue": "",
     "output_type": "error",
     "traceback": [
      "\u001b[1;31m---------------------------------------------------------------------------\u001b[0m",
      "\u001b[1;31mKeyboardInterrupt\u001b[0m                         Traceback (most recent call last)",
      "Cell \u001b[1;32mIn[16], line 2\u001b[0m\n\u001b[0;32m      1\u001b[0m \u001b[38;5;28;01mfor\u001b[39;00m eid \u001b[38;5;129;01min\u001b[39;00m result_df\u001b[38;5;241m.\u001b[39meid:  \n\u001b[1;32m----> 2\u001b[0m         ref_query \u001b[38;5;241m=\u001b[39m s \u001b[38;5;241m=\u001b[39m \u001b[43mAbstractRetrieval\u001b[49m\u001b[43m(\u001b[49m\u001b[43meid\u001b[49m\u001b[43m,\u001b[49m\u001b[43m \u001b[49m\u001b[43mid_type\u001b[49m\u001b[38;5;241;43m=\u001b[39;49m\u001b[38;5;124;43m\"\u001b[39;49m\u001b[38;5;124;43meid\u001b[39;49m\u001b[38;5;124;43m\"\u001b[39;49m\u001b[43m,\u001b[49m\u001b[43m \u001b[49m\u001b[43mview\u001b[49m\u001b[38;5;241;43m=\u001b[39;49m\u001b[38;5;124;43m\"\u001b[39;49m\u001b[38;5;124;43mFULL\u001b[39;49m\u001b[38;5;124;43m\"\u001b[39;49m\u001b[43m)\u001b[49m\n\u001b[0;32m      4\u001b[0m         \u001b[38;5;66;03m# Convert references to DataFrame and add the EID column\u001b[39;00m\n\u001b[0;32m      5\u001b[0m         ref_df \u001b[38;5;241m=\u001b[39m pd\u001b[38;5;241m.\u001b[39mDataFrame(ref_query\u001b[38;5;241m.\u001b[39mreferences)\n",
      "File \u001b[1;32mc:\\Users\\jacob\\anaconda3\\envs\\test\\Lib\\site-packages\\pybliometrics\\scopus\\abstract_retrieval.py:736\u001b[0m, in \u001b[0;36mAbstractRetrieval.__init__\u001b[1;34m(self, identifier, refresh, view, id_type, **kwds)\u001b[0m\n\u001b[0;32m    734\u001b[0m \u001b[38;5;28mself\u001b[39m\u001b[38;5;241m.\u001b[39m_view \u001b[38;5;241m=\u001b[39m view\n\u001b[0;32m    735\u001b[0m \u001b[38;5;28mself\u001b[39m\u001b[38;5;241m.\u001b[39m_refresh \u001b[38;5;241m=\u001b[39m refresh\n\u001b[1;32m--> 736\u001b[0m \u001b[43mRetrieval\u001b[49m\u001b[38;5;241;43m.\u001b[39;49m\u001b[38;5;21;43m__init__\u001b[39;49m\u001b[43m(\u001b[49m\u001b[38;5;28;43mself\u001b[39;49m\u001b[43m,\u001b[49m\u001b[43m \u001b[49m\u001b[43midentifier\u001b[49m\u001b[38;5;241;43m=\u001b[39;49m\u001b[43midentifier\u001b[49m\u001b[43m,\u001b[49m\u001b[43m \u001b[49m\u001b[43mid_type\u001b[49m\u001b[38;5;241;43m=\u001b[39;49m\u001b[43mid_type\u001b[49m\u001b[43m,\u001b[49m\n\u001b[0;32m    737\u001b[0m \u001b[43m                   \u001b[49m\u001b[43mapi\u001b[49m\u001b[38;5;241;43m=\u001b[39;49m\u001b[38;5;124;43m'\u001b[39;49m\u001b[38;5;124;43mAbstractRetrieval\u001b[39;49m\u001b[38;5;124;43m'\u001b[39;49m\u001b[43m,\u001b[49m\u001b[43m \u001b[49m\u001b[38;5;241;43m*\u001b[39;49m\u001b[38;5;241;43m*\u001b[39;49m\u001b[43mkwds\u001b[49m\u001b[43m)\u001b[49m\n\u001b[0;32m    738\u001b[0m \u001b[38;5;28;01mif\u001b[39;00m \u001b[38;5;28mself\u001b[39m\u001b[38;5;241m.\u001b[39m_view \u001b[38;5;129;01min\u001b[39;00m (\u001b[38;5;124m'\u001b[39m\u001b[38;5;124mMETA\u001b[39m\u001b[38;5;124m'\u001b[39m, \u001b[38;5;124m'\u001b[39m\u001b[38;5;124mMETA_ABS\u001b[39m\u001b[38;5;124m'\u001b[39m, \u001b[38;5;124m'\u001b[39m\u001b[38;5;124mREF\u001b[39m\u001b[38;5;124m'\u001b[39m, \u001b[38;5;124m'\u001b[39m\u001b[38;5;124mFULL\u001b[39m\u001b[38;5;124m'\u001b[39m):\n\u001b[0;32m    739\u001b[0m     \u001b[38;5;28mself\u001b[39m\u001b[38;5;241m.\u001b[39m_json \u001b[38;5;241m=\u001b[39m \u001b[38;5;28mself\u001b[39m\u001b[38;5;241m.\u001b[39m_json[\u001b[38;5;124m'\u001b[39m\u001b[38;5;124mabstracts-retrieval-response\u001b[39m\u001b[38;5;124m'\u001b[39m]\n",
      "File \u001b[1;32mc:\\Users\\jacob\\anaconda3\\envs\\test\\Lib\\site-packages\\pybliometrics\\scopus\\superclasses\\retrieval.py:54\u001b[0m, in \u001b[0;36mRetrieval.__init__\u001b[1;34m(self, identifier, api, id_type, **kwds)\u001b[0m\n\u001b[0;32m     52\u001b[0m \u001b[38;5;66;03m# Parse file contents\u001b[39;00m\n\u001b[0;32m     53\u001b[0m params \u001b[38;5;241m=\u001b[39m {\u001b[38;5;124m'\u001b[39m\u001b[38;5;124mview\u001b[39m\u001b[38;5;124m'\u001b[39m: \u001b[38;5;28mself\u001b[39m\u001b[38;5;241m.\u001b[39m_view, \u001b[38;5;241m*\u001b[39m\u001b[38;5;241m*\u001b[39mkwds}\n\u001b[1;32m---> 54\u001b[0m \u001b[43mBase\u001b[49m\u001b[38;5;241;43m.\u001b[39;49m\u001b[38;5;21;43m__init__\u001b[39;49m\u001b[43m(\u001b[49m\u001b[38;5;28;43mself\u001b[39;49m\u001b[43m,\u001b[49m\u001b[43m \u001b[49m\u001b[43mparams\u001b[49m\u001b[38;5;241;43m=\u001b[39;49m\u001b[43mparams\u001b[49m\u001b[43m,\u001b[49m\u001b[43m \u001b[49m\u001b[43murl\u001b[49m\u001b[38;5;241;43m=\u001b[39;49m\u001b[43murl\u001b[49m\u001b[43m,\u001b[49m\u001b[43m \u001b[49m\u001b[43mapi\u001b[49m\u001b[38;5;241;43m=\u001b[39;49m\u001b[43mapi\u001b[49m\u001b[43m)\u001b[49m\n",
      "File \u001b[1;32mc:\\Users\\jacob\\anaconda3\\envs\\test\\Lib\\site-packages\\pybliometrics\\scopus\\superclasses\\base.py:66\u001b[0m, in \u001b[0;36mBase.__init__\u001b[1;34m(self, params, url, api, download, verbose, *args, **kwds)\u001b[0m\n\u001b[0;32m     64\u001b[0m         \u001b[38;5;28mself\u001b[39m\u001b[38;5;241m.\u001b[39m_json \u001b[38;5;241m=\u001b[39m loads(fname\u001b[38;5;241m.\u001b[39mread_text())\n\u001b[0;32m     65\u001b[0m \u001b[38;5;28;01melse\u001b[39;00m:\n\u001b[1;32m---> 66\u001b[0m     resp \u001b[38;5;241m=\u001b[39m \u001b[43mget_content\u001b[49m\u001b[43m(\u001b[49m\u001b[43murl\u001b[49m\u001b[43m,\u001b[49m\u001b[43m \u001b[49m\u001b[43mapi\u001b[49m\u001b[43m,\u001b[49m\u001b[43m \u001b[49m\u001b[43mparams\u001b[49m\u001b[43m,\u001b[49m\u001b[43m \u001b[49m\u001b[38;5;241;43m*\u001b[39;49m\u001b[43margs\u001b[49m\u001b[43m,\u001b[49m\u001b[43m \u001b[49m\u001b[38;5;241;43m*\u001b[39;49m\u001b[38;5;241;43m*\u001b[39;49m\u001b[43mkwds\u001b[49m\u001b[43m)\u001b[49m\n\u001b[0;32m     67\u001b[0m     header \u001b[38;5;241m=\u001b[39m resp\u001b[38;5;241m.\u001b[39mheaders\n\u001b[0;32m     69\u001b[0m     \u001b[38;5;28;01mif\u001b[39;00m ab_ref_retrieval:\n",
      "File \u001b[1;32mc:\\Users\\jacob\\anaconda3\\envs\\test\\Lib\\site-packages\\pybliometrics\\scopus\\utils\\get_content.py:102\u001b[0m, in \u001b[0;36mget_content\u001b[1;34m(url, api, params, **kwds)\u001b[0m\n\u001b[0;32m    100\u001b[0m \u001b[38;5;66;03m# Perform request, eventually replacing the current key\u001b[39;00m\n\u001b[0;32m    101\u001b[0m timeout \u001b[38;5;241m=\u001b[39m config\u001b[38;5;241m.\u001b[39mgetint(\u001b[38;5;124m\"\u001b[39m\u001b[38;5;124mRequests\u001b[39m\u001b[38;5;124m\"\u001b[39m, \u001b[38;5;124m\"\u001b[39m\u001b[38;5;124mTimeout\u001b[39m\u001b[38;5;124m\"\u001b[39m, fallback\u001b[38;5;241m=\u001b[39m\u001b[38;5;241m20\u001b[39m)\n\u001b[1;32m--> 102\u001b[0m resp \u001b[38;5;241m=\u001b[39m \u001b[43msession\u001b[49m\u001b[38;5;241;43m.\u001b[39;49m\u001b[43mget\u001b[49m\u001b[43m(\u001b[49m\u001b[43murl\u001b[49m\u001b[43m,\u001b[49m\u001b[43m \u001b[49m\u001b[43mheaders\u001b[49m\u001b[38;5;241;43m=\u001b[39;49m\u001b[43mheader\u001b[49m\u001b[43m,\u001b[49m\u001b[43m \u001b[49m\u001b[43mproxies\u001b[49m\u001b[38;5;241;43m=\u001b[39;49m\u001b[43mproxies\u001b[49m\u001b[43m,\u001b[49m\u001b[43m \u001b[49m\u001b[43mparams\u001b[49m\u001b[38;5;241;43m=\u001b[39;49m\u001b[43mparams\u001b[49m\u001b[43m,\u001b[49m\n\u001b[0;32m    103\u001b[0m \u001b[43m                  \u001b[49m\u001b[43mtimeout\u001b[49m\u001b[38;5;241;43m=\u001b[39;49m\u001b[43mtimeout\u001b[49m\u001b[43m)\u001b[49m\n\u001b[0;32m    104\u001b[0m \u001b[38;5;28;01mwhile\u001b[39;00m resp\u001b[38;5;241m.\u001b[39mstatus_code \u001b[38;5;241m==\u001b[39m \u001b[38;5;241m429\u001b[39m:\n\u001b[0;32m    105\u001b[0m     \u001b[38;5;28;01mtry\u001b[39;00m:\n",
      "File \u001b[1;32mc:\\Users\\jacob\\anaconda3\\envs\\test\\Lib\\site-packages\\requests\\sessions.py:602\u001b[0m, in \u001b[0;36mSession.get\u001b[1;34m(self, url, **kwargs)\u001b[0m\n\u001b[0;32m    594\u001b[0m \u001b[38;5;250m\u001b[39m\u001b[38;5;124mr\u001b[39m\u001b[38;5;124;03m\"\"\"Sends a GET request. Returns :class:`Response` object.\u001b[39;00m\n\u001b[0;32m    595\u001b[0m \n\u001b[0;32m    596\u001b[0m \u001b[38;5;124;03m:param url: URL for the new :class:`Request` object.\u001b[39;00m\n\u001b[0;32m    597\u001b[0m \u001b[38;5;124;03m:param \\*\\*kwargs: Optional arguments that ``request`` takes.\u001b[39;00m\n\u001b[0;32m    598\u001b[0m \u001b[38;5;124;03m:rtype: requests.Response\u001b[39;00m\n\u001b[0;32m    599\u001b[0m \u001b[38;5;124;03m\"\"\"\u001b[39;00m\n\u001b[0;32m    601\u001b[0m kwargs\u001b[38;5;241m.\u001b[39msetdefault(\u001b[38;5;124m\"\u001b[39m\u001b[38;5;124mallow_redirects\u001b[39m\u001b[38;5;124m\"\u001b[39m, \u001b[38;5;28;01mTrue\u001b[39;00m)\n\u001b[1;32m--> 602\u001b[0m \u001b[38;5;28;01mreturn\u001b[39;00m \u001b[38;5;28;43mself\u001b[39;49m\u001b[38;5;241;43m.\u001b[39;49m\u001b[43mrequest\u001b[49m\u001b[43m(\u001b[49m\u001b[38;5;124;43m\"\u001b[39;49m\u001b[38;5;124;43mGET\u001b[39;49m\u001b[38;5;124;43m\"\u001b[39;49m\u001b[43m,\u001b[49m\u001b[43m \u001b[49m\u001b[43murl\u001b[49m\u001b[43m,\u001b[49m\u001b[43m \u001b[49m\u001b[38;5;241;43m*\u001b[39;49m\u001b[38;5;241;43m*\u001b[39;49m\u001b[43mkwargs\u001b[49m\u001b[43m)\u001b[49m\n",
      "File \u001b[1;32mc:\\Users\\jacob\\anaconda3\\envs\\test\\Lib\\site-packages\\requests\\sessions.py:589\u001b[0m, in \u001b[0;36mSession.request\u001b[1;34m(self, method, url, params, data, headers, cookies, files, auth, timeout, allow_redirects, proxies, hooks, stream, verify, cert, json)\u001b[0m\n\u001b[0;32m    584\u001b[0m send_kwargs \u001b[38;5;241m=\u001b[39m {\n\u001b[0;32m    585\u001b[0m     \u001b[38;5;124m\"\u001b[39m\u001b[38;5;124mtimeout\u001b[39m\u001b[38;5;124m\"\u001b[39m: timeout,\n\u001b[0;32m    586\u001b[0m     \u001b[38;5;124m\"\u001b[39m\u001b[38;5;124mallow_redirects\u001b[39m\u001b[38;5;124m\"\u001b[39m: allow_redirects,\n\u001b[0;32m    587\u001b[0m }\n\u001b[0;32m    588\u001b[0m send_kwargs\u001b[38;5;241m.\u001b[39mupdate(settings)\n\u001b[1;32m--> 589\u001b[0m resp \u001b[38;5;241m=\u001b[39m \u001b[38;5;28;43mself\u001b[39;49m\u001b[38;5;241;43m.\u001b[39;49m\u001b[43msend\u001b[49m\u001b[43m(\u001b[49m\u001b[43mprep\u001b[49m\u001b[43m,\u001b[49m\u001b[43m \u001b[49m\u001b[38;5;241;43m*\u001b[39;49m\u001b[38;5;241;43m*\u001b[39;49m\u001b[43msend_kwargs\u001b[49m\u001b[43m)\u001b[49m\n\u001b[0;32m    591\u001b[0m \u001b[38;5;28;01mreturn\u001b[39;00m resp\n",
      "File \u001b[1;32mc:\\Users\\jacob\\anaconda3\\envs\\test\\Lib\\site-packages\\requests\\sessions.py:703\u001b[0m, in \u001b[0;36mSession.send\u001b[1;34m(self, request, **kwargs)\u001b[0m\n\u001b[0;32m    700\u001b[0m start \u001b[38;5;241m=\u001b[39m preferred_clock()\n\u001b[0;32m    702\u001b[0m \u001b[38;5;66;03m# Send the request\u001b[39;00m\n\u001b[1;32m--> 703\u001b[0m r \u001b[38;5;241m=\u001b[39m \u001b[43madapter\u001b[49m\u001b[38;5;241;43m.\u001b[39;49m\u001b[43msend\u001b[49m\u001b[43m(\u001b[49m\u001b[43mrequest\u001b[49m\u001b[43m,\u001b[49m\u001b[43m \u001b[49m\u001b[38;5;241;43m*\u001b[39;49m\u001b[38;5;241;43m*\u001b[39;49m\u001b[43mkwargs\u001b[49m\u001b[43m)\u001b[49m\n\u001b[0;32m    705\u001b[0m \u001b[38;5;66;03m# Total elapsed time of the request (approximately)\u001b[39;00m\n\u001b[0;32m    706\u001b[0m elapsed \u001b[38;5;241m=\u001b[39m preferred_clock() \u001b[38;5;241m-\u001b[39m start\n",
      "File \u001b[1;32mc:\\Users\\jacob\\anaconda3\\envs\\test\\Lib\\site-packages\\requests\\adapters.py:667\u001b[0m, in \u001b[0;36mHTTPAdapter.send\u001b[1;34m(self, request, stream, timeout, verify, cert, proxies)\u001b[0m\n\u001b[0;32m    664\u001b[0m     timeout \u001b[38;5;241m=\u001b[39m TimeoutSauce(connect\u001b[38;5;241m=\u001b[39mtimeout, read\u001b[38;5;241m=\u001b[39mtimeout)\n\u001b[0;32m    666\u001b[0m \u001b[38;5;28;01mtry\u001b[39;00m:\n\u001b[1;32m--> 667\u001b[0m     resp \u001b[38;5;241m=\u001b[39m \u001b[43mconn\u001b[49m\u001b[38;5;241;43m.\u001b[39;49m\u001b[43murlopen\u001b[49m\u001b[43m(\u001b[49m\n\u001b[0;32m    668\u001b[0m \u001b[43m        \u001b[49m\u001b[43mmethod\u001b[49m\u001b[38;5;241;43m=\u001b[39;49m\u001b[43mrequest\u001b[49m\u001b[38;5;241;43m.\u001b[39;49m\u001b[43mmethod\u001b[49m\u001b[43m,\u001b[49m\n\u001b[0;32m    669\u001b[0m \u001b[43m        \u001b[49m\u001b[43murl\u001b[49m\u001b[38;5;241;43m=\u001b[39;49m\u001b[43murl\u001b[49m\u001b[43m,\u001b[49m\n\u001b[0;32m    670\u001b[0m \u001b[43m        \u001b[49m\u001b[43mbody\u001b[49m\u001b[38;5;241;43m=\u001b[39;49m\u001b[43mrequest\u001b[49m\u001b[38;5;241;43m.\u001b[39;49m\u001b[43mbody\u001b[49m\u001b[43m,\u001b[49m\n\u001b[0;32m    671\u001b[0m \u001b[43m        \u001b[49m\u001b[43mheaders\u001b[49m\u001b[38;5;241;43m=\u001b[39;49m\u001b[43mrequest\u001b[49m\u001b[38;5;241;43m.\u001b[39;49m\u001b[43mheaders\u001b[49m\u001b[43m,\u001b[49m\n\u001b[0;32m    672\u001b[0m \u001b[43m        \u001b[49m\u001b[43mredirect\u001b[49m\u001b[38;5;241;43m=\u001b[39;49m\u001b[38;5;28;43;01mFalse\u001b[39;49;00m\u001b[43m,\u001b[49m\n\u001b[0;32m    673\u001b[0m \u001b[43m        \u001b[49m\u001b[43massert_same_host\u001b[49m\u001b[38;5;241;43m=\u001b[39;49m\u001b[38;5;28;43;01mFalse\u001b[39;49;00m\u001b[43m,\u001b[49m\n\u001b[0;32m    674\u001b[0m \u001b[43m        \u001b[49m\u001b[43mpreload_content\u001b[49m\u001b[38;5;241;43m=\u001b[39;49m\u001b[38;5;28;43;01mFalse\u001b[39;49;00m\u001b[43m,\u001b[49m\n\u001b[0;32m    675\u001b[0m \u001b[43m        \u001b[49m\u001b[43mdecode_content\u001b[49m\u001b[38;5;241;43m=\u001b[39;49m\u001b[38;5;28;43;01mFalse\u001b[39;49;00m\u001b[43m,\u001b[49m\n\u001b[0;32m    676\u001b[0m \u001b[43m        \u001b[49m\u001b[43mretries\u001b[49m\u001b[38;5;241;43m=\u001b[39;49m\u001b[38;5;28;43mself\u001b[39;49m\u001b[38;5;241;43m.\u001b[39;49m\u001b[43mmax_retries\u001b[49m\u001b[43m,\u001b[49m\n\u001b[0;32m    677\u001b[0m \u001b[43m        \u001b[49m\u001b[43mtimeout\u001b[49m\u001b[38;5;241;43m=\u001b[39;49m\u001b[43mtimeout\u001b[49m\u001b[43m,\u001b[49m\n\u001b[0;32m    678\u001b[0m \u001b[43m        \u001b[49m\u001b[43mchunked\u001b[49m\u001b[38;5;241;43m=\u001b[39;49m\u001b[43mchunked\u001b[49m\u001b[43m,\u001b[49m\n\u001b[0;32m    679\u001b[0m \u001b[43m    \u001b[49m\u001b[43m)\u001b[49m\n\u001b[0;32m    681\u001b[0m \u001b[38;5;28;01mexcept\u001b[39;00m (ProtocolError, \u001b[38;5;167;01mOSError\u001b[39;00m) \u001b[38;5;28;01mas\u001b[39;00m err:\n\u001b[0;32m    682\u001b[0m     \u001b[38;5;28;01mraise\u001b[39;00m \u001b[38;5;167;01mConnectionError\u001b[39;00m(err, request\u001b[38;5;241m=\u001b[39mrequest)\n",
      "File \u001b[1;32mc:\\Users\\jacob\\anaconda3\\envs\\test\\Lib\\site-packages\\urllib3\\connectionpool.py:716\u001b[0m, in \u001b[0;36mHTTPConnectionPool.urlopen\u001b[1;34m(self, method, url, body, headers, retries, redirect, assert_same_host, timeout, pool_timeout, release_conn, chunked, body_pos, **response_kw)\u001b[0m\n\u001b[0;32m    713\u001b[0m     \u001b[38;5;28mself\u001b[39m\u001b[38;5;241m.\u001b[39m_prepare_proxy(conn)\n\u001b[0;32m    715\u001b[0m \u001b[38;5;66;03m# Make the request on the httplib connection object.\u001b[39;00m\n\u001b[1;32m--> 716\u001b[0m httplib_response \u001b[38;5;241m=\u001b[39m \u001b[38;5;28;43mself\u001b[39;49m\u001b[38;5;241;43m.\u001b[39;49m\u001b[43m_make_request\u001b[49m\u001b[43m(\u001b[49m\n\u001b[0;32m    717\u001b[0m \u001b[43m    \u001b[49m\u001b[43mconn\u001b[49m\u001b[43m,\u001b[49m\n\u001b[0;32m    718\u001b[0m \u001b[43m    \u001b[49m\u001b[43mmethod\u001b[49m\u001b[43m,\u001b[49m\n\u001b[0;32m    719\u001b[0m \u001b[43m    \u001b[49m\u001b[43murl\u001b[49m\u001b[43m,\u001b[49m\n\u001b[0;32m    720\u001b[0m \u001b[43m    \u001b[49m\u001b[43mtimeout\u001b[49m\u001b[38;5;241;43m=\u001b[39;49m\u001b[43mtimeout_obj\u001b[49m\u001b[43m,\u001b[49m\n\u001b[0;32m    721\u001b[0m \u001b[43m    \u001b[49m\u001b[43mbody\u001b[49m\u001b[38;5;241;43m=\u001b[39;49m\u001b[43mbody\u001b[49m\u001b[43m,\u001b[49m\n\u001b[0;32m    722\u001b[0m \u001b[43m    \u001b[49m\u001b[43mheaders\u001b[49m\u001b[38;5;241;43m=\u001b[39;49m\u001b[43mheaders\u001b[49m\u001b[43m,\u001b[49m\n\u001b[0;32m    723\u001b[0m \u001b[43m    \u001b[49m\u001b[43mchunked\u001b[49m\u001b[38;5;241;43m=\u001b[39;49m\u001b[43mchunked\u001b[49m\u001b[43m,\u001b[49m\n\u001b[0;32m    724\u001b[0m \u001b[43m\u001b[49m\u001b[43m)\u001b[49m\n\u001b[0;32m    726\u001b[0m \u001b[38;5;66;03m# If we're going to release the connection in ``finally:``, then\u001b[39;00m\n\u001b[0;32m    727\u001b[0m \u001b[38;5;66;03m# the response doesn't need to know about the connection. Otherwise\u001b[39;00m\n\u001b[0;32m    728\u001b[0m \u001b[38;5;66;03m# it will also try to release it and we'll have a double-release\u001b[39;00m\n\u001b[0;32m    729\u001b[0m \u001b[38;5;66;03m# mess.\u001b[39;00m\n\u001b[0;32m    730\u001b[0m response_conn \u001b[38;5;241m=\u001b[39m conn \u001b[38;5;28;01mif\u001b[39;00m \u001b[38;5;129;01mnot\u001b[39;00m release_conn \u001b[38;5;28;01melse\u001b[39;00m \u001b[38;5;28;01mNone\u001b[39;00m\n",
      "File \u001b[1;32mc:\\Users\\jacob\\anaconda3\\envs\\test\\Lib\\site-packages\\urllib3\\connectionpool.py:468\u001b[0m, in \u001b[0;36mHTTPConnectionPool._make_request\u001b[1;34m(self, conn, method, url, timeout, chunked, **httplib_request_kw)\u001b[0m\n\u001b[0;32m    463\u001b[0m             httplib_response \u001b[38;5;241m=\u001b[39m conn\u001b[38;5;241m.\u001b[39mgetresponse()\n\u001b[0;32m    464\u001b[0m         \u001b[38;5;28;01mexcept\u001b[39;00m \u001b[38;5;167;01mBaseException\u001b[39;00m \u001b[38;5;28;01mas\u001b[39;00m e:\n\u001b[0;32m    465\u001b[0m             \u001b[38;5;66;03m# Remove the TypeError from the exception chain in\u001b[39;00m\n\u001b[0;32m    466\u001b[0m             \u001b[38;5;66;03m# Python 3 (including for exceptions like SystemExit).\u001b[39;00m\n\u001b[0;32m    467\u001b[0m             \u001b[38;5;66;03m# Otherwise it looks like a bug in the code.\u001b[39;00m\n\u001b[1;32m--> 468\u001b[0m             \u001b[43msix\u001b[49m\u001b[38;5;241;43m.\u001b[39;49m\u001b[43mraise_from\u001b[49m\u001b[43m(\u001b[49m\u001b[43me\u001b[49m\u001b[43m,\u001b[49m\u001b[43m \u001b[49m\u001b[38;5;28;43;01mNone\u001b[39;49;00m\u001b[43m)\u001b[49m\n\u001b[0;32m    469\u001b[0m \u001b[38;5;28;01mexcept\u001b[39;00m (SocketTimeout, BaseSSLError, SocketError) \u001b[38;5;28;01mas\u001b[39;00m e:\n\u001b[0;32m    470\u001b[0m     \u001b[38;5;28mself\u001b[39m\u001b[38;5;241m.\u001b[39m_raise_timeout(err\u001b[38;5;241m=\u001b[39me, url\u001b[38;5;241m=\u001b[39murl, timeout_value\u001b[38;5;241m=\u001b[39mread_timeout)\n",
      "File \u001b[1;32m<string>:3\u001b[0m, in \u001b[0;36mraise_from\u001b[1;34m(value, from_value)\u001b[0m\n",
      "File \u001b[1;32mc:\\Users\\jacob\\anaconda3\\envs\\test\\Lib\\site-packages\\urllib3\\connectionpool.py:463\u001b[0m, in \u001b[0;36mHTTPConnectionPool._make_request\u001b[1;34m(self, conn, method, url, timeout, chunked, **httplib_request_kw)\u001b[0m\n\u001b[0;32m    460\u001b[0m \u001b[38;5;28;01mexcept\u001b[39;00m \u001b[38;5;167;01mTypeError\u001b[39;00m:\n\u001b[0;32m    461\u001b[0m     \u001b[38;5;66;03m# Python 3\u001b[39;00m\n\u001b[0;32m    462\u001b[0m     \u001b[38;5;28;01mtry\u001b[39;00m:\n\u001b[1;32m--> 463\u001b[0m         httplib_response \u001b[38;5;241m=\u001b[39m \u001b[43mconn\u001b[49m\u001b[38;5;241;43m.\u001b[39;49m\u001b[43mgetresponse\u001b[49m\u001b[43m(\u001b[49m\u001b[43m)\u001b[49m\n\u001b[0;32m    464\u001b[0m     \u001b[38;5;28;01mexcept\u001b[39;00m \u001b[38;5;167;01mBaseException\u001b[39;00m \u001b[38;5;28;01mas\u001b[39;00m e:\n\u001b[0;32m    465\u001b[0m         \u001b[38;5;66;03m# Remove the TypeError from the exception chain in\u001b[39;00m\n\u001b[0;32m    466\u001b[0m         \u001b[38;5;66;03m# Python 3 (including for exceptions like SystemExit).\u001b[39;00m\n\u001b[0;32m    467\u001b[0m         \u001b[38;5;66;03m# Otherwise it looks like a bug in the code.\u001b[39;00m\n\u001b[0;32m    468\u001b[0m         six\u001b[38;5;241m.\u001b[39mraise_from(e, \u001b[38;5;28;01mNone\u001b[39;00m)\n",
      "File \u001b[1;32mc:\\Users\\jacob\\anaconda3\\envs\\test\\Lib\\http\\client.py:1395\u001b[0m, in \u001b[0;36mHTTPConnection.getresponse\u001b[1;34m(self)\u001b[0m\n\u001b[0;32m   1393\u001b[0m \u001b[38;5;28;01mtry\u001b[39;00m:\n\u001b[0;32m   1394\u001b[0m     \u001b[38;5;28;01mtry\u001b[39;00m:\n\u001b[1;32m-> 1395\u001b[0m         \u001b[43mresponse\u001b[49m\u001b[38;5;241;43m.\u001b[39;49m\u001b[43mbegin\u001b[49m\u001b[43m(\u001b[49m\u001b[43m)\u001b[49m\n\u001b[0;32m   1396\u001b[0m     \u001b[38;5;28;01mexcept\u001b[39;00m \u001b[38;5;167;01mConnectionError\u001b[39;00m:\n\u001b[0;32m   1397\u001b[0m         \u001b[38;5;28mself\u001b[39m\u001b[38;5;241m.\u001b[39mclose()\n",
      "File \u001b[1;32mc:\\Users\\jacob\\anaconda3\\envs\\test\\Lib\\http\\client.py:325\u001b[0m, in \u001b[0;36mHTTPResponse.begin\u001b[1;34m(self)\u001b[0m\n\u001b[0;32m    323\u001b[0m \u001b[38;5;66;03m# read until we get a non-100 response\u001b[39;00m\n\u001b[0;32m    324\u001b[0m \u001b[38;5;28;01mwhile\u001b[39;00m \u001b[38;5;28;01mTrue\u001b[39;00m:\n\u001b[1;32m--> 325\u001b[0m     version, status, reason \u001b[38;5;241m=\u001b[39m \u001b[38;5;28;43mself\u001b[39;49m\u001b[38;5;241;43m.\u001b[39;49m\u001b[43m_read_status\u001b[49m\u001b[43m(\u001b[49m\u001b[43m)\u001b[49m\n\u001b[0;32m    326\u001b[0m     \u001b[38;5;28;01mif\u001b[39;00m status \u001b[38;5;241m!=\u001b[39m CONTINUE:\n\u001b[0;32m    327\u001b[0m         \u001b[38;5;28;01mbreak\u001b[39;00m\n",
      "File \u001b[1;32mc:\\Users\\jacob\\anaconda3\\envs\\test\\Lib\\http\\client.py:286\u001b[0m, in \u001b[0;36mHTTPResponse._read_status\u001b[1;34m(self)\u001b[0m\n\u001b[0;32m    285\u001b[0m \u001b[38;5;28;01mdef\u001b[39;00m\u001b[38;5;250m \u001b[39m\u001b[38;5;21m_read_status\u001b[39m(\u001b[38;5;28mself\u001b[39m):\n\u001b[1;32m--> 286\u001b[0m     line \u001b[38;5;241m=\u001b[39m \u001b[38;5;28mstr\u001b[39m(\u001b[38;5;28mself\u001b[39m\u001b[38;5;241m.\u001b[39mfp\u001b[38;5;241m.\u001b[39mreadline(_MAXLINE \u001b[38;5;241m+\u001b[39m \u001b[38;5;241m1\u001b[39m), \u001b[38;5;124m\"\u001b[39m\u001b[38;5;124miso-8859-1\u001b[39m\u001b[38;5;124m\"\u001b[39m)\n\u001b[0;32m    287\u001b[0m     \u001b[38;5;28;01mif\u001b[39;00m \u001b[38;5;28mlen\u001b[39m(line) \u001b[38;5;241m>\u001b[39m _MAXLINE:\n\u001b[0;32m    288\u001b[0m         \u001b[38;5;28;01mraise\u001b[39;00m LineTooLong(\u001b[38;5;124m\"\u001b[39m\u001b[38;5;124mstatus line\u001b[39m\u001b[38;5;124m\"\u001b[39m)\n",
      "File \u001b[1;32mc:\\Users\\jacob\\anaconda3\\envs\\test\\Lib\\socket.py:718\u001b[0m, in \u001b[0;36mSocketIO.readinto\u001b[1;34m(self, b)\u001b[0m\n\u001b[0;32m    716\u001b[0m \u001b[38;5;28;01mwhile\u001b[39;00m \u001b[38;5;28;01mTrue\u001b[39;00m:\n\u001b[0;32m    717\u001b[0m     \u001b[38;5;28;01mtry\u001b[39;00m:\n\u001b[1;32m--> 718\u001b[0m         \u001b[38;5;28;01mreturn\u001b[39;00m \u001b[38;5;28;43mself\u001b[39;49m\u001b[38;5;241;43m.\u001b[39;49m\u001b[43m_sock\u001b[49m\u001b[38;5;241;43m.\u001b[39;49m\u001b[43mrecv_into\u001b[49m\u001b[43m(\u001b[49m\u001b[43mb\u001b[49m\u001b[43m)\u001b[49m\n\u001b[0;32m    719\u001b[0m     \u001b[38;5;28;01mexcept\u001b[39;00m timeout:\n\u001b[0;32m    720\u001b[0m         \u001b[38;5;28mself\u001b[39m\u001b[38;5;241m.\u001b[39m_timeout_occurred \u001b[38;5;241m=\u001b[39m \u001b[38;5;28;01mTrue\u001b[39;00m\n",
      "File \u001b[1;32mc:\\Users\\jacob\\anaconda3\\envs\\test\\Lib\\ssl.py:1314\u001b[0m, in \u001b[0;36mSSLSocket.recv_into\u001b[1;34m(self, buffer, nbytes, flags)\u001b[0m\n\u001b[0;32m   1310\u001b[0m     \u001b[38;5;28;01mif\u001b[39;00m flags \u001b[38;5;241m!=\u001b[39m \u001b[38;5;241m0\u001b[39m:\n\u001b[0;32m   1311\u001b[0m         \u001b[38;5;28;01mraise\u001b[39;00m \u001b[38;5;167;01mValueError\u001b[39;00m(\n\u001b[0;32m   1312\u001b[0m           \u001b[38;5;124m\"\u001b[39m\u001b[38;5;124mnon-zero flags not allowed in calls to recv_into() on \u001b[39m\u001b[38;5;132;01m%s\u001b[39;00m\u001b[38;5;124m\"\u001b[39m \u001b[38;5;241m%\u001b[39m\n\u001b[0;32m   1313\u001b[0m           \u001b[38;5;28mself\u001b[39m\u001b[38;5;241m.\u001b[39m\u001b[38;5;18m__class__\u001b[39m)\n\u001b[1;32m-> 1314\u001b[0m     \u001b[38;5;28;01mreturn\u001b[39;00m \u001b[38;5;28;43mself\u001b[39;49m\u001b[38;5;241;43m.\u001b[39;49m\u001b[43mread\u001b[49m\u001b[43m(\u001b[49m\u001b[43mnbytes\u001b[49m\u001b[43m,\u001b[49m\u001b[43m \u001b[49m\u001b[43mbuffer\u001b[49m\u001b[43m)\u001b[49m\n\u001b[0;32m   1315\u001b[0m \u001b[38;5;28;01melse\u001b[39;00m:\n\u001b[0;32m   1316\u001b[0m     \u001b[38;5;28;01mreturn\u001b[39;00m \u001b[38;5;28msuper\u001b[39m()\u001b[38;5;241m.\u001b[39mrecv_into(buffer, nbytes, flags)\n",
      "File \u001b[1;32mc:\\Users\\jacob\\anaconda3\\envs\\test\\Lib\\ssl.py:1166\u001b[0m, in \u001b[0;36mSSLSocket.read\u001b[1;34m(self, len, buffer)\u001b[0m\n\u001b[0;32m   1164\u001b[0m \u001b[38;5;28;01mtry\u001b[39;00m:\n\u001b[0;32m   1165\u001b[0m     \u001b[38;5;28;01mif\u001b[39;00m buffer \u001b[38;5;129;01mis\u001b[39;00m \u001b[38;5;129;01mnot\u001b[39;00m \u001b[38;5;28;01mNone\u001b[39;00m:\n\u001b[1;32m-> 1166\u001b[0m         \u001b[38;5;28;01mreturn\u001b[39;00m \u001b[38;5;28;43mself\u001b[39;49m\u001b[38;5;241;43m.\u001b[39;49m\u001b[43m_sslobj\u001b[49m\u001b[38;5;241;43m.\u001b[39;49m\u001b[43mread\u001b[49m\u001b[43m(\u001b[49m\u001b[38;5;28;43mlen\u001b[39;49m\u001b[43m,\u001b[49m\u001b[43m \u001b[49m\u001b[43mbuffer\u001b[49m\u001b[43m)\u001b[49m\n\u001b[0;32m   1167\u001b[0m     \u001b[38;5;28;01melse\u001b[39;00m:\n\u001b[0;32m   1168\u001b[0m         \u001b[38;5;28;01mreturn\u001b[39;00m \u001b[38;5;28mself\u001b[39m\u001b[38;5;241m.\u001b[39m_sslobj\u001b[38;5;241m.\u001b[39mread(\u001b[38;5;28mlen\u001b[39m)\n",
      "\u001b[1;31mKeyboardInterrupt\u001b[0m: "
     ]
    }
   ],
   "source": [
    "\n",
    "for eid in result_df.eid:  \n",
    "        ref_query = s = AbstractRetrieval(eid, id_type=\"eid\", view=\"FULL\")\n",
    "        \n",
    "        # Convert references to DataFrame and add the EID column\n",
    "        ref_df = pd.DataFrame(ref_query.references)\n",
    "        ref_df['citing_eid'] = result_df.eid  # Add the source EID column\n",
    "        \n",
    "        # Concatenate the current DataFrame to the citation list\n",
    "        citation_list = pd.concat([citation_list, ref_df], ignore_index=True)\n",
    "        citation_list.to_csv(\"C:\\\\Users\\\\jacob\\\\OneDrive - Université Laval\\\\biophilo\\Data\\\\EUROPEAN_JOURNAL_OF_PHILOSOPHY_refs.csv\")"
   ]
  },
  {
   "cell_type": "markdown",
   "metadata": {},
   "source": [
    "## Function for multiple queries"
   ]
  },
  {
   "cell_type": "markdown",
   "metadata": {},
   "source": [
    "First, define your query input. Here we will go with journal name."
   ]
  },
  {
   "cell_type": "code",
   "execution_count": 107,
   "metadata": {},
   "outputs": [
    {
     "data": {
      "text/plain": [
       "'\"BIOLOGY & PHILOSOPHY\"'"
      ]
     },
     "execution_count": 107,
     "metadata": {},
     "output_type": "execute_result"
    }
   ],
   "source": [
    "philo_of_bio_journals = [\n",
    "#  r\"\\\"BIOLOGY & PHILOSOPHY\\\"\", \n",
    "#  r\"\\\"BIOLOGY AND PHILOSOPHY\\\"\",\n",
    "#  r\"\\\"BIOLOGICAL THEORY\\\"\",\n",
    "#  r\"\\\"STUDIES IN HISTORY AND PHILOSOPHY OF SCIENCE PART C :STUDIES IN HISTORY AND PHILOSOPHY OF BIOLOGICAL AND BIOMEDICAL SCIENCES\\\"\",\n",
    "#  r\"\\\"HISTORY AND PHILOSOPHY OF THE LIFE SCIENCES\\\"\"\n",
    "]\n",
    "\n"
   ]
  },
  {
   "cell_type": "code",
   "execution_count": 110,
   "metadata": {},
   "outputs": [
    {
     "data": {
      "text/plain": [
       "['BIOLOGY_&_PHILOSOPHY',\n",
       " 'BIOLOGY_AND_PHILOSOPHY',\n",
       " 'BIOLOGICAL_THEORY',\n",
       " 'STUDIES_IN_HISTORY_AND_PHILOSOPHY_OF_SCIENCE_PART_C__STUDIES_IN_HISTORY_AND_PHILOSOPHY_OF_BIOLOGICAL_AND_BIOMEDICAL_SCIENCES',\n",
       " 'HISTORY_AND_PHILOSOPHY_OF_THE_LIFE_SCIENCES']"
      ]
     },
     "execution_count": 110,
     "metadata": {},
     "output_type": "execute_result"
    }
   ],
   "source": [
    "for_name_philo_of_bio_journals = [\n",
    "\"BIOLOGY_&_PHILOSOPHY\",\n",
    "\"BIOLOGY_AND_PHILOSOPHY\",\n",
    "\"BIOLOGICAL_THEORY\",\n",
    "\"STUDIES_IN_HISTORY_AND_PHILOSOPHY_OF_SCIENCE_PART_C__STUDIES_IN_HISTORY_AND_PHILOSOPHY_OF_BIOLOGICAL_AND_BIOMEDICAL_SCIENCES\",\n",
    "\"HISTORY_AND_PHILOSOPHY_OF_THE_LIFE_SCIENCES\"]\n",
    "\n",
    "for_name_philo_of_bio_journals"
   ]
  },
  {
   "cell_type": "code",
   "execution_count": 124,
   "metadata": {},
   "outputs": [
    {
     "name": "stderr",
     "output_type": "stream",
     "text": [
      "<>:13: DeprecationWarning: invalid escape sequence '\\D'\n",
      "<>:13: DeprecationWarning: invalid escape sequence '\\D'\n",
      "C:\\Users\\jacob\\AppData\\Local\\Temp\\ipykernel_20140\\1725660355.py:13: DeprecationWarning: invalid escape sequence '\\D'\n",
      "  result_df.to_csv(\"C:\\\\Users\\\\jacob\\\\OneDrive - Université Laval\\\\biophilo\\Data\\\\\"+ for_name_philo_of_bio_journals[i] + \".csv\")\n"
     ]
    },
    {
     "name": "stdout",
     "output_type": "stream",
     "text": [
      "EXACTSRCTITLE(\"BIOLOGY & PHILOSOPHY\")\n",
      "EXACTSRCTITLE(\\\"BIOLOGY AND PHILOSOPHY\\\")\n",
      "EXACTSRCTITLE(\\\"BIOLOGICAL THEORY\\\")\n",
      "Downloading results for query \"EXACTSRCTITLE(\\\"BIOLOGICAL THEORY\\\")\":\n"
     ]
    },
    {
     "name": "stderr",
     "output_type": "stream",
     "text": [
      "100%|██████████| 29/29 [00:21<00:00,  1.29it/s]\n"
     ]
    },
    {
     "name": "stdout",
     "output_type": "stream",
     "text": [
      "EXACTSRCTITLE(\\\"STUDIES IN HISTORY AND PHILOSOPHY OF SCIENCE PART C :STUDIES IN HISTORY AND PHILOSOPHY OF BIOLOGICAL AND BIOMEDICAL SCIENCES\\\")\n",
      "Downloading results for query \"EXACTSRCTITLE(\\\"STUDIES IN HISTORY AND PHILOSOPHY OF SCIENCE PART C :STUDIES IN HISTORY AND PHILOSOPHY OF BIOLOGICAL AND BIOMEDICAL SCIENCES\\\")\":\n"
     ]
    },
    {
     "name": "stderr",
     "output_type": "stream",
     "text": [
      "100%|██████████| 42/42 [00:28<00:00,  1.44it/s]\n"
     ]
    },
    {
     "name": "stdout",
     "output_type": "stream",
     "text": [
      "EXACTSRCTITLE(\\\"HISTORY AND PHILOSOPHY OF THE LIFE SCIENCES\\\")\n",
      "Downloading results for query \"EXACTSRCTITLE(\\\"HISTORY AND PHILOSOPHY OF THE LIFE SCIENCES\\\")\":\n"
     ]
    },
    {
     "name": "stderr",
     "output_type": "stream",
     "text": [
      "100%|██████████| 42/42 [00:30<00:00,  1.35it/s]\n"
     ]
    }
   ],
   "source": [
    "pybliometrics.scopus.init()\n",
    "\n",
    "from pybliometrics.scopus import ScopusSearch\n",
    "article_list = pd.DataFrame()  # Initialize an empty DataFrame to store results\n",
    "\n",
    "for i in range(len(philo_of_bio_journals)):  \n",
    "    pybliometrics.scopus.init()\n",
    "    query = \"EXACTSRCTITLE(\" + philo_of_bio_journals[i] + \")\" \n",
    "    print(query)\n",
    "    s = ScopusSearch(query, verbose=True, subscriber = True, view = \"COMPLETE\")\n",
    "    result = s.results\n",
    "    result_df = pd.DataFrame(result)\n",
    "    result_df.to_csv(\"C:\\\\Users\\\\jacob\\\\OneDrive - Université Laval\\\\biophilo\\Data\\\\\"+ for_name_philo_of_bio_journals[i] + \".csv\")\n",
    "    \n"
   ]
  },
  {
   "cell_type": "markdown",
   "metadata": {},
   "source": [
    "# References informations"
   ]
  },
  {
   "cell_type": "code",
   "execution_count": 163,
   "metadata": {},
   "outputs": [
    {
     "name": "stderr",
     "output_type": "stream",
     "text": [
      "<>:7: DeprecationWarning: invalid escape sequence '\\D'\n",
      "<>:17: DeprecationWarning: invalid escape sequence '\\D'\n",
      "<>:7: DeprecationWarning: invalid escape sequence '\\D'\n",
      "<>:17: DeprecationWarning: invalid escape sequence '\\D'\n",
      "C:\\Users\\jacob\\AppData\\Local\\Temp\\ipykernel_20140\\624268411.py:7: DeprecationWarning: invalid escape sequence '\\D'\n",
      "  result_df = pd.read_csv(\"C:\\\\Users\\\\jacob\\\\OneDrive - Université Laval\\\\biophilo\\Data\\\\\"+ for_name_philo_of_bio_journals[i] + \".csv\")\n",
      "C:\\Users\\jacob\\AppData\\Local\\Temp\\ipykernel_20140\\624268411.py:17: DeprecationWarning: invalid escape sequence '\\D'\n",
      "  citation_list.to_csv(\"C:\\\\Users\\\\jacob\\\\OneDrive - Université Laval\\\\biophilo\\Data\\\\\"+ for_name_philo_of_bio_journals[i] + \"_references.csv\")\n"
     ]
    },
    {
     "name": "stdout",
     "output_type": "stream",
     "text": [
      "                source_eid position           id  \\\n",
      "0        2-s2.0-0010726742        1  85050417424   \n",
      "1        2-s2.0-0010726742        2  77949540109   \n",
      "2        2-s2.0-0010726742        3   0038882957   \n",
      "3        2-s2.0-0010726742        4   2342643968   \n",
      "4        2-s2.0-0010726742        5   0003397032   \n",
      "...                    ...      ...          ...   \n",
      "205086  2-s2.0-33747626043       50   4243582634   \n",
      "205087  2-s2.0-33747626043       51   8844257136   \n",
      "205088  2-s2.0-33747626043       52  79957200316   \n",
      "205089  2-s2.0-33747626043       53   0003771448   \n",
      "205090  2-s2.0-33747626043       54   0141918296   \n",
      "\n",
      "                                 doi  \\\n",
      "0                               None   \n",
      "1                               None   \n",
      "2       10.1016/0039-3681(81)90015-7   \n",
      "3                               None   \n",
      "4                               None   \n",
      "...                              ...   \n",
      "205086                          None   \n",
      "205087                          None   \n",
      "205088                          None   \n",
      "205089                          None   \n",
      "205090                          None   \n",
      "\n",
      "                                                    title             authors  \\\n",
      "0       Teleological Explanations in Evolutionary Biology               Ayala   \n",
      "1       Teleology and the Relationship Between Biology...        Beatty, John   \n",
      "2        Biological teleology: Questions and explanations  Brandon, Robert N.   \n",
      "3       Adaptation Explanations: Are Adaptations for t...     Brandon, Robert   \n",
      "4                                                    None     Brandon, Robert   \n",
      "...                                                   ...                 ...   \n",
      "205086  Medicina y epidemias. De la racionalización de...           Rodríguez   \n",
      "205087  Peste Negra, crisis y comportamientos sociales...               Rubio   \n",
      "205088  Las epidemias de peste en la ciudad de Valenci...               Rubio   \n",
      "205089                                               None               Slack   \n",
      "205090  The scientific approach to disease: Specific e...              Temkin   \n",
      "\n",
      "       authors_auid authors_affiliationid  \\\n",
      "0              None                  None   \n",
      "1              None                  None   \n",
      "2        7006220610              60008724   \n",
      "3              None                  None   \n",
      "4              None                  None   \n",
      "...             ...                   ...   \n",
      "205086         None                  None   \n",
      "205087         None                  None   \n",
      "205088         None                  None   \n",
      "205089         None                  None   \n",
      "205090         None                  None   \n",
      "\n",
      "                                              sourcetitle publicationyear  \\\n",
      "0                                   Philosophy of Science            None   \n",
      "1       Some Truer Method: Reflections on the Heritage...            None   \n",
      "2            Studies in History and Philosophy of Science            None   \n",
      "3       Evolution at a Crossroads: The New Biology and...            None   \n",
      "4                              Adaptation and Environment            None   \n",
      "...                                                   ...             ...   \n",
      "205086                                 Malaltia I cultura            None   \n",
      "205087                              La Ciudad De Valencia            None   \n",
      "205088                              Estudis Castellonencs            None   \n",
      "205089   The Impact of Plague in Tudor and Stuart England            None   \n",
      "205090  The Double Face of Janus and Other Essays in t...            None   \n",
      "\n",
      "         coverDate volume issue first  last citedbycount  \\\n",
      "0             None     37  None  None  None         None   \n",
      "1             None   None  None  None  None         None   \n",
      "2       1981-01-01     12     2    91   105           68   \n",
      "3             None   None  None  None  None         None   \n",
      "4             None   None  None  None  None         None   \n",
      "...            ...    ...   ...   ...   ...          ...   \n",
      "205086        None   None  None  None  None         None   \n",
      "205087        None   None  None  None  None         None   \n",
      "205088        None      6  None  None  None         None   \n",
      "205089        None   None  None  None  None         None   \n",
      "205090        None   None  None  None  None         None   \n",
      "\n",
      "                           type  text fulltext  \n",
      "0       originalReference/other  None     None  \n",
      "1       originalReference/other  None     None  \n",
      "2             resolvedReference  None     None  \n",
      "3       originalReference/other  None     None  \n",
      "4       originalReference/other  None     None  \n",
      "...                         ...   ...      ...  \n",
      "205086  originalReference/other  None     None  \n",
      "205087  originalReference/other  None     None  \n",
      "205088  originalReference/other  None     None  \n",
      "205089  originalReference/other  None     None  \n",
      "205090  originalReference/other  None     None  \n",
      "\n",
      "[205091 rows x 19 columns]\n"
     ]
    }
   ],
   "source": [
    "from pybliometrics.scopus import AbstractRetrieval\n",
    "import pandas as pd\n",
    "\n",
    "citation_list = pd.DataFrame()  # Initialize an empty DataFrame to store results\n",
    "for i in range(len(philo_of_bio_journals)):\n",
    "    pybliometrics.scopus.init()\n",
    "    result_df = pd.read_csv(\"C:\\\\Users\\\\jacob\\\\OneDrive - Université Laval\\\\biophilo\\Data\\\\\"+ for_name_philo_of_bio_journals[i] + \".csv\")\n",
    "    for j in range(len(result_df.eid)):  \n",
    "        ref_query = AbstractRetrieval(result_df.eid[j], id_type=\"eid\", view=\"REF\")\n",
    "        \n",
    "        # Convert references to DataFrame and add the EID column\n",
    "        ref_df = pd.DataFrame(ref_query.references)\n",
    "        ref_df['source_eid'] = result_df.eid[j]  # Add the source EID column\n",
    "        \n",
    "        # Concatenate the current DataFrame to the citation list\n",
    "        citation_list = pd.concat([citation_list, ref_df], ignore_index=True)\n",
    "        citation_list.to_csv(\"C:\\\\Users\\\\jacob\\\\OneDrive - Université Laval\\\\biophilo\\Data\\\\\"+ for_name_philo_of_bio_journals[i] + \"_references.csv\")\n",
    "\n",
    "# Display the resulting citation list\n",
    "print(citation_list)"
   ]
  },
  {
   "cell_type": "markdown",
   "metadata": {},
   "source": [
    "# General Philosophy of Science"
   ]
  },
  {
   "cell_type": "code",
   "execution_count": 22,
   "metadata": {},
   "outputs": [],
   "source": [
    "general_philo_of_science =[\n",
    "# GENERAL PHILOSOPHY OF SCIENCE JOURNALS \n",
    "  #r\"\\\"PHILOSOPHY_OF_SCIENCE\\\"\",\n",
    "  #r\"\\\"BRITISH_JOURNAL_FOR_THE_PHILOSOPHY_OF_SCIENCE\\\"\", \n",
    "  #r\"\\\"SYNTHESE\\\"\", \n",
    "  #r\"\\\"ERKENNTNIS\\\"\", \n",
    "  #r\"\\\"EUROPEAN JOURNAL FOR THE PHILOSOPHY OF SCIENCE\\\"\", \n",
    "  #r\"\\\"INTERNATIONAL_STUDIES_IN_THE_PHILOSOPHY_OF_SCIENCE\\\"\", \n",
    "  #r\"\\\"JOURNAL_FOR_GENERAL_PHILOSOPHY_OF_SCIENCE\\\"\", \n",
    "  #r\"\\\"FOUNDATIONS_OF_SCIENCE\\\"\",\n",
    "\n",
    "# SPECIALIZED PHILOSOPHY OF BIOLOGY JOURNALS\n",
    "  #r\"\\\"BIOLOGY AND PHILOSOPHY\\\"\",\n",
    "  #r\"\\\"BIOLOGICAL THEORY\\\"\",\n",
    "  #r\"\\\"STUDIES IN HISTORY AND PHILOSOPHY OF SCIENCE PART C\\\"\",\n",
    "  #r\"\\\"HISTORY AND PHILOSOPHY OF THE LIFE SCIENCES\\\"\",\n",
    "  r\"\\\"ACTA BIOTHEORETICA\\\"\",\n",
    "  r\"\\\"BEHAVIORAL AND BRAIN SCIENCES\\\"\",\n",
    "  r\"\\\"BIOESSAYS\\\"\",\n",
    "  r\"\\\"BIOSEMIOTICS\\\"\",\n",
    "]"
   ]
  },
  {
   "cell_type": "code",
   "execution_count": 23,
   "metadata": {},
   "outputs": [],
   "source": [
    "for_name_general_philo_of_science =[\n",
    "    \n",
    "# GENERAL PHILOSOPHY OF SCIENCE JOURNALS    \n",
    "  #\"PHILOSOPHY_OF_SCIENCE\",\n",
    "  #\"BRITISH_JOURNAL_FOR_THE_PHILOSOPHY_OF_SCIENCE\", \n",
    "  #\"SYNTHESE\", \n",
    "  #\"ERKENNTNIS\", \n",
    "  #\"EUROPEAN_JOURNAL_FOR_THE_PHILOSOPHY_OF_SCIENCE\", \n",
    "  #\"INTERNATIONAL_STUDIES_IN_THE_PHILOSOPHY_OF_SCIENCE\", \n",
    "  #\"JOURNAL_FOR_GENERAL_PHILOSOPHY_OF_SCIENCE\", \n",
    "  #\"FOUNDATIONS_OF_SCIENCE\"\n",
    "\n",
    "# SPECIALIZED PHILOSOPHY OF BIOLOGY JOURNALS\n",
    "  #\"BIOLOGY AND PHILOSOPHY\",\n",
    "  #\"BIOLOGICAL THEORY\",\n",
    "  #\"STUDIES IN HISTORY AND PHILOSOPHY OF SCIENCE PART C\",\n",
    "  #\"HISTORY AND PHILOSOPHY OF THE LIFE SCIENCES\"\n",
    "  \"ACTA_BIOTHEORETICA\",\n",
    "  \"BEHAVIORAL_AND_BRAIN_SCIENCES\",\n",
    "  \"BIOESSAYS\",\n",
    "  \"BIOSEMIOTICS\",\n",
    "]\n"
   ]
  },
  {
   "cell_type": "code",
   "execution_count": null,
   "metadata": {},
   "outputs": [
    {
     "name": "stderr",
     "output_type": "stream",
     "text": [
      "<>:13: DeprecationWarning: invalid escape sequence '\\D'\n",
      "<>:13: DeprecationWarning: invalid escape sequence '\\D'\n",
      "C:\\Users\\jacob\\AppData\\Local\\Temp\\ipykernel_28880\\3511689.py:13: DeprecationWarning: invalid escape sequence '\\D'\n",
      "  result_df.to_csv(\"C:\\\\Users\\\\jacob\\\\OneDrive - Université Laval\\\\biophilo\\Data\\\\\"+ for_name_general_philo_of_science[i] + \".csv\")\n"
     ]
    },
    {
     "name": "stdout",
     "output_type": "stream",
     "text": [
      "EXACTSRCTITLE(\\\"ACTA BIOTHEORETICA\\\")\n",
      "Downloading results for query \"EXACTSRCTITLE(\\\"ACTA BIOTHEORETICA\\\")\":\n"
     ]
    },
    {
     "name": "stderr",
     "output_type": "stream",
     "text": [
      "100%|██████████| 53/53 [00:36<00:00,  1.41it/s]\n"
     ]
    },
    {
     "name": "stdout",
     "output_type": "stream",
     "text": [
      "EXACTSRCTITLE(\\\"BEHAVIORAL AND BRAIN SCIENCES\\\")\n",
      "Downloading results for query \"EXACTSRCTITLE(\\\"BEHAVIORAL AND BRAIN SCIENCES\\\")\":\n"
     ]
    },
    {
     "name": "stderr",
     "output_type": "stream",
     "text": [
      "100%|██████████| 576/576 [07:02<00:00,  1.36it/s]\n"
     ]
    },
    {
     "name": "stdout",
     "output_type": "stream",
     "text": [
      "EXACTSRCTITLE(\\\"BIOESSAYS\\\")\n",
      "Downloading results for query \"EXACTSRCTITLE(\\\"BIOESSAYS\\\")\":\n"
     ]
    },
    {
     "name": "stderr",
     "output_type": "stream",
     "text": [
      " 92%|█████████▏| 223/243 [03:15<00:12,  1.61it/s]"
     ]
    }
   ],
   "source": [
    "pybliometrics.scopus.init()\n",
    "\n",
    "from pybliometrics.scopus import ScopusSearch\n",
    "article_list = pd.DataFrame()  # Initialize an empty DataFrame to store results\n",
    "\n",
    "for i in range(len(general_philo_of_science)):  \n",
    "    pybliometrics.scopus.init()\n",
    "    query = \"EXACTSRCTITLE(\" + general_philo_of_science[i] + \")\" \n",
    "    print(query)\n",
    "    s = ScopusSearch(query, verbose=True, subscriber = True, view = \"COMPLETE\")\n",
    "    result = s.results\n",
    "    result_df = pd.DataFrame(result)\n",
    "    result_df.to_csv(\"C:\\\\Users\\\\jacob\\\\OneDrive - Université Laval\\\\biophilo\\Data\\\\\"+ for_name_general_philo_of_science[i] + \".csv\")"
   ]
  },
  {
   "cell_type": "code",
   "execution_count": 6,
   "metadata": {},
   "outputs": [
    {
     "name": "stderr",
     "output_type": "stream",
     "text": [
      "<>:7: DeprecationWarning: invalid escape sequence '\\D'\n",
      "<>:17: DeprecationWarning: invalid escape sequence '\\D'\n",
      "<>:7: DeprecationWarning: invalid escape sequence '\\D'\n",
      "<>:17: DeprecationWarning: invalid escape sequence '\\D'\n",
      "C:\\Users\\jacob\\AppData\\Local\\Temp\\ipykernel_28880\\2180614324.py:7: DeprecationWarning: invalid escape sequence '\\D'\n",
      "  result_df = pd.read_csv(\"C:\\\\Users\\\\jacob\\\\OneDrive - Université Laval\\\\biophilo\\Data\\\\\"+ for_name_general_philo_of_science[i] + \".csv\")\n",
      "C:\\Users\\jacob\\AppData\\Local\\Temp\\ipykernel_28880\\2180614324.py:17: DeprecationWarning: invalid escape sequence '\\D'\n",
      "  citation_list.to_csv(\"C:\\\\Users\\\\jacob\\\\OneDrive - Université Laval\\\\biophilo\\Data\\\\\"+ for_name_general_philo_of_science[i] + \"_references.csv\")\n",
      "C:\\Users\\jacob\\AppData\\Local\\Temp\\ipykernel_28880\\2180614324.py:7: DeprecationWarning: invalid escape sequence '\\D'\n",
      "  result_df = pd.read_csv(\"C:\\\\Users\\\\jacob\\\\OneDrive - Université Laval\\\\biophilo\\Data\\\\\"+ for_name_general_philo_of_science[i] + \".csv\")\n",
      "C:\\Users\\jacob\\AppData\\Local\\Temp\\ipykernel_28880\\2180614324.py:17: DeprecationWarning: invalid escape sequence '\\D'\n",
      "  citation_list.to_csv(\"C:\\\\Users\\\\jacob\\\\OneDrive - Université Laval\\\\biophilo\\Data\\\\\"+ for_name_general_philo_of_science[i] + \"_references.csv\")\n"
     ]
    },
    {
     "ename": "NameError",
     "evalue": "name 'philo_of_bio_journals' is not defined",
     "output_type": "error",
     "traceback": [
      "\u001b[1;31m---------------------------------------------------------------------------\u001b[0m",
      "\u001b[1;31mNameError\u001b[0m                                 Traceback (most recent call last)",
      "Cell \u001b[1;32mIn[6], line 5\u001b[0m\n\u001b[0;32m      2\u001b[0m \u001b[38;5;28;01mimport\u001b[39;00m\u001b[38;5;250m \u001b[39m\u001b[38;5;21;01mpandas\u001b[39;00m\u001b[38;5;250m \u001b[39m\u001b[38;5;28;01mas\u001b[39;00m\u001b[38;5;250m \u001b[39m\u001b[38;5;21;01mpd\u001b[39;00m\n\u001b[0;32m      4\u001b[0m citation_list \u001b[38;5;241m=\u001b[39m pd\u001b[38;5;241m.\u001b[39mDataFrame()  \u001b[38;5;66;03m# Initialize an empty DataFrame to store results\u001b[39;00m\n\u001b[1;32m----> 5\u001b[0m \u001b[38;5;28;01mfor\u001b[39;00m i \u001b[38;5;129;01min\u001b[39;00m \u001b[38;5;28mrange\u001b[39m(\u001b[38;5;28mlen\u001b[39m(\u001b[43mphilo_of_bio_journals\u001b[49m)):\n\u001b[0;32m      6\u001b[0m     pybliometrics\u001b[38;5;241m.\u001b[39mscopus\u001b[38;5;241m.\u001b[39minit()\n\u001b[0;32m      7\u001b[0m     result_df \u001b[38;5;241m=\u001b[39m pd\u001b[38;5;241m.\u001b[39mread_csv(\u001b[38;5;124m\"\u001b[39m\u001b[38;5;124mC:\u001b[39m\u001b[38;5;130;01m\\\\\u001b[39;00m\u001b[38;5;124mUsers\u001b[39m\u001b[38;5;130;01m\\\\\u001b[39;00m\u001b[38;5;124mjacob\u001b[39m\u001b[38;5;130;01m\\\\\u001b[39;00m\u001b[38;5;124mOneDrive - Université Laval\u001b[39m\u001b[38;5;130;01m\\\\\u001b[39;00m\u001b[38;5;124mbiophilo\u001b[39m\u001b[38;5;124m\\\u001b[39m\u001b[38;5;124mData\u001b[39m\u001b[38;5;130;01m\\\\\u001b[39;00m\u001b[38;5;124m\"\u001b[39m\u001b[38;5;241m+\u001b[39m for_name_general_philo_of_science[i] \u001b[38;5;241m+\u001b[39m \u001b[38;5;124m\"\u001b[39m\u001b[38;5;124m.csv\u001b[39m\u001b[38;5;124m\"\u001b[39m)\n",
      "\u001b[1;31mNameError\u001b[0m: name 'philo_of_bio_journals' is not defined"
     ]
    }
   ],
   "source": [
    "from pybliometrics.scopus import AbstractRetrieval\n",
    "import pandas as pd\n",
    "\n",
    "citation_list = pd.DataFrame()  # Initialize an empty DataFrame to store results\n",
    "for i in range(len(philo_of_bio_journals)):\n",
    "    pybliometrics.scopus.init()\n",
    "    result_df = pd.read_csv(\"C:\\\\Users\\\\jacob\\\\OneDrive - Université Laval\\\\biophilo\\Data\\\\\"+ for_name_general_philo_of_science[i] + \".csv\")\n",
    "    for j in range(len(result_df.eid)):  \n",
    "        ref_query = AbstractRetrieval(result_df.eid[j], id_type=\"eid\", view=\"REF\")\n",
    "        \n",
    "        # Convert references to DataFrame and add the EID column\n",
    "        ref_df = pd.DataFrame(ref_query.references)\n",
    "        ref_df['source_eid'] = result_df.eid[j]  # Add the source EID column\n",
    "        \n",
    "        # Concatenate the current DataFrame to the citation list\n",
    "        citation_list = pd.concat([citation_list, ref_df], ignore_index=True)\n",
    "        citation_list.to_csv(\"C:\\\\Users\\\\jacob\\\\OneDrive - Université Laval\\\\biophilo\\Data\\\\\"+ for_name_general_philo_of_science[i] + \"_references.csv\")\n",
    "\n",
    "# Display the resulting citation list\n",
    "print(citation_list)"
   ]
  },
  {
   "cell_type": "code",
   "execution_count": 140,
   "metadata": {},
   "outputs": [
    {
     "name": "stdout",
     "output_type": "stream",
     "text": [
      "       Unnamed: 0                 eid                          doi  \\\n",
      "0               0  2-s2.0-85214385293   10.1007/s13194-024-00631-3   \n",
      "1               1  2-s2.0-85213719065   10.1007/s13194-024-00630-4   \n",
      "2               2  2-s2.0-85212689131   10.1007/s13194-024-00627-z   \n",
      "3               3  2-s2.0-85212070800   10.1007/s13194-024-00628-y   \n",
      "4               4  2-s2.0-85214468909  10.1016/j.shpsa.2024.12.013   \n",
      "...           ...                 ...                          ...   \n",
      "13161       13161  2-s2.0-73149086369         10.1093/bjps/I.2.134   \n",
      "13162       13162   2-s2.0-0009044701         10.1093/bjps/I.2.117   \n",
      "13163       13163  2-s2.0-84958115445               10.1086/287041   \n",
      "13164       13164  2-s2.0-78651025270               10.1086/287035   \n",
      "13165       13165  2-s2.0-66249134722               10.1086/287042   \n",
      "\n",
      "                     pii   pubmed_id  \\\n",
      "0                    NaN         NaN   \n",
      "1                    NaN         NaN   \n",
      "2                    NaN         NaN   \n",
      "3                    NaN         NaN   \n",
      "4      S0039368124001687         NaN   \n",
      "...                  ...         ...   \n",
      "13161                NaN         NaN   \n",
      "13162                NaN         NaN   \n",
      "13163                NaN  18134700.0   \n",
      "13164                NaN  18134699.0   \n",
      "13165                NaN  18146852.0   \n",
      "\n",
      "                                                   title subtype  \\\n",
      "0      Correction to: Between theory and experiment: ...      er   \n",
      "1         Stopping rule and Bayesian confirmation theory      ar   \n",
      "2           Another philosophical look at twistor theory      ar   \n",
      "3      What you can do for evolutionary developmental...      ar   \n",
      "4      Measurement, decomposition and level-switching...      ar   \n",
      "...                                                  ...     ...   \n",
      "13161                An outline of general system theory      ar   \n",
      "13162  Indeterminism in quantum physics and in classi...      ar   \n",
      "13163                   General mensurational gestaltism      ar   \n",
      "13164                  Natural science and value-policy.      ar   \n",
      "13165                 Sound communication with the deaf.      ar   \n",
      "\n",
      "      subtypeDescription         creator                        afid  ...  \\\n",
      "0                Erratum       Jreige R.                    60000179  ...   \n",
      "1                Article           Li Y.                    60021182  ...   \n",
      "2                Article        Gajic G.  60026851;60006824;60000934  ...   \n",
      "3                Article    Bausman W.C.           60012614;60004718  ...   \n",
      "4                Article         Borg G.                    60006297  ...   \n",
      "...                  ...             ...                         ...  ...   \n",
      "13161            Article  Bertalanffy L.                         NaN  ...   \n",
      "13162            Article       Popper K.                         NaN  ...   \n",
      "13163            Article         RUSK G.                         NaN  ...   \n",
      "13164            Article         BAIN R.                         NaN  ...   \n",
      "13165            Article       WIENER N.                         NaN  ...   \n",
      "\n",
      "      pageRange                                        description  \\\n",
      "0           NaN  This article unfortunately contained a mistake...   \n",
      "1           NaN  This article mainly investigates whether commo...   \n",
      "2           NaN  Despite its being one of Roger Penrose’s great...   \n",
      "3           NaN  A growing number of linguistic attempts to exp...   \n",
      "4       123-131  Philosophers of the historical sciences have f...   \n",
      "...         ...                                                ...   \n",
      "13161   134-165                                                NaN   \n",
      "13162   117-133                                                NaN   \n",
      "13163   250-259                                                NaN   \n",
      "13164   182-192                                                NaN   \n",
      "13165   260-262                                                NaN   \n",
      "\n",
      "                                            authkeywords  citedby_count  \\\n",
      "0                                                    NaN              0   \n",
      "1      Confirmation measure | Degree of confirmation ...              0   \n",
      "2      General relativity | Geometrisation | Spacetim...              0   \n",
      "3      Cultural evolution | Developmental bias | Deve...              0   \n",
      "4                                                    NaN              0   \n",
      "...                                                  ...            ...   \n",
      "13161                                                NaN           1147   \n",
      "13162                                                NaN             97   \n",
      "13163                                 PSYCHOLOGY/gestalt              0   \n",
      "13164                                                NaN              2   \n",
      "13165                                                NaN              5   \n",
      "\n",
      "      openaccess           freetoread freetoreadLabel fund_acr  \\\n",
      "0              0                  NaN             NaN      NaN   \n",
      "1              0                  NaN             NaN   NPOPSS   \n",
      "2              1                  NaN             NaN      NaN   \n",
      "3              1  publisherhybridgold     Hybrid Gold    UNIGE   \n",
      "4              0                  NaN             NaN      NSF   \n",
      "...          ...                  ...             ...      ...   \n",
      "13161          0                  NaN             NaN      NaN   \n",
      "13162          0                  NaN             NaN      NaN   \n",
      "13163          0                  NaN             NaN      NaN   \n",
      "13164          0                  NaN             NaN      NaN   \n",
      "13165          0                  NaN             NaN      NaN   \n",
      "\n",
      "              fund_no                                       fund_sponsor  \n",
      "0           undefined                                                NaN  \n",
      "1               ZD240  National Office for Philosophy and Social Scie...  \n",
      "2      11010-274/2020                                                NaN  \n",
      "3       51NF40_180888                               Université de Genève  \n",
      "4           undefined                        National Science Foundation  \n",
      "...               ...                                                ...  \n",
      "13161       undefined                                                NaN  \n",
      "13162       undefined                                                NaN  \n",
      "13163       undefined                                                NaN  \n",
      "13164       undefined                                                NaN  \n",
      "13165       undefined                                                NaN  \n",
      "\n",
      "[13166 rows x 37 columns]\n"
     ]
    },
    {
     "ename": "Scopus429Error",
     "evalue": "Quota Exceeded",
     "output_type": "error",
     "traceback": [
      "\u001b[1;31m---------------------------------------------------------------------------\u001b[0m",
      "\u001b[1;31mScopus429Error\u001b[0m                            Traceback (most recent call last)",
      "Cell \u001b[1;32mIn[140], line 23\u001b[0m\n\u001b[0;32m     20\u001b[0m \u001b[38;5;66;03m# Iterate over EIDs in the DataFrame\u001b[39;00m\n\u001b[0;32m     21\u001b[0m \u001b[38;5;28;01mfor\u001b[39;00m eid \u001b[38;5;129;01min\u001b[39;00m result_df\u001b[38;5;241m.\u001b[39meid:\n\u001b[0;32m     22\u001b[0m     \u001b[38;5;66;03m# Retrieve references using AbstractRetrieval\u001b[39;00m\n\u001b[1;32m---> 23\u001b[0m     ref_query \u001b[38;5;241m=\u001b[39m \u001b[43mAbstractRetrieval\u001b[49m\u001b[43m(\u001b[49m\u001b[43meid\u001b[49m\u001b[43m,\u001b[49m\u001b[43m \u001b[49m\u001b[43mid_type\u001b[49m\u001b[38;5;241;43m=\u001b[39;49m\u001b[38;5;124;43m\"\u001b[39;49m\u001b[38;5;124;43meid\u001b[39;49m\u001b[38;5;124;43m\"\u001b[39;49m\u001b[43m,\u001b[49m\u001b[43m \u001b[49m\u001b[43mview\u001b[49m\u001b[38;5;241;43m=\u001b[39;49m\u001b[38;5;124;43m\"\u001b[39;49m\u001b[38;5;124;43mREF\u001b[39;49m\u001b[38;5;124;43m\"\u001b[39;49m\u001b[43m)\u001b[49m\n\u001b[0;32m     25\u001b[0m     \u001b[38;5;66;03m# Convert references to DataFrame and add the source EID\u001b[39;00m\n\u001b[0;32m     26\u001b[0m     ref_df \u001b[38;5;241m=\u001b[39m pd\u001b[38;5;241m.\u001b[39mDataFrame(ref_query\u001b[38;5;241m.\u001b[39mreferences)\n",
      "File \u001b[1;32mc:\\Users\\jacob\\anaconda3\\envs\\test\\Lib\\site-packages\\pybliometrics\\scopus\\abstract_retrieval.py:736\u001b[0m, in \u001b[0;36mAbstractRetrieval.__init__\u001b[1;34m(self, identifier, refresh, view, id_type, **kwds)\u001b[0m\n\u001b[0;32m    734\u001b[0m \u001b[38;5;28mself\u001b[39m\u001b[38;5;241m.\u001b[39m_view \u001b[38;5;241m=\u001b[39m view\n\u001b[0;32m    735\u001b[0m \u001b[38;5;28mself\u001b[39m\u001b[38;5;241m.\u001b[39m_refresh \u001b[38;5;241m=\u001b[39m refresh\n\u001b[1;32m--> 736\u001b[0m \u001b[43mRetrieval\u001b[49m\u001b[38;5;241;43m.\u001b[39;49m\u001b[38;5;21;43m__init__\u001b[39;49m\u001b[43m(\u001b[49m\u001b[38;5;28;43mself\u001b[39;49m\u001b[43m,\u001b[49m\u001b[43m \u001b[49m\u001b[43midentifier\u001b[49m\u001b[38;5;241;43m=\u001b[39;49m\u001b[43midentifier\u001b[49m\u001b[43m,\u001b[49m\u001b[43m \u001b[49m\u001b[43mid_type\u001b[49m\u001b[38;5;241;43m=\u001b[39;49m\u001b[43mid_type\u001b[49m\u001b[43m,\u001b[49m\n\u001b[0;32m    737\u001b[0m \u001b[43m                   \u001b[49m\u001b[43mapi\u001b[49m\u001b[38;5;241;43m=\u001b[39;49m\u001b[38;5;124;43m'\u001b[39;49m\u001b[38;5;124;43mAbstractRetrieval\u001b[39;49m\u001b[38;5;124;43m'\u001b[39;49m\u001b[43m,\u001b[49m\u001b[43m \u001b[49m\u001b[38;5;241;43m*\u001b[39;49m\u001b[38;5;241;43m*\u001b[39;49m\u001b[43mkwds\u001b[49m\u001b[43m)\u001b[49m\n\u001b[0;32m    738\u001b[0m \u001b[38;5;28;01mif\u001b[39;00m \u001b[38;5;28mself\u001b[39m\u001b[38;5;241m.\u001b[39m_view \u001b[38;5;129;01min\u001b[39;00m (\u001b[38;5;124m'\u001b[39m\u001b[38;5;124mMETA\u001b[39m\u001b[38;5;124m'\u001b[39m, \u001b[38;5;124m'\u001b[39m\u001b[38;5;124mMETA_ABS\u001b[39m\u001b[38;5;124m'\u001b[39m, \u001b[38;5;124m'\u001b[39m\u001b[38;5;124mREF\u001b[39m\u001b[38;5;124m'\u001b[39m, \u001b[38;5;124m'\u001b[39m\u001b[38;5;124mFULL\u001b[39m\u001b[38;5;124m'\u001b[39m):\n\u001b[0;32m    739\u001b[0m     \u001b[38;5;28mself\u001b[39m\u001b[38;5;241m.\u001b[39m_json \u001b[38;5;241m=\u001b[39m \u001b[38;5;28mself\u001b[39m\u001b[38;5;241m.\u001b[39m_json[\u001b[38;5;124m'\u001b[39m\u001b[38;5;124mabstracts-retrieval-response\u001b[39m\u001b[38;5;124m'\u001b[39m]\n",
      "File \u001b[1;32mc:\\Users\\jacob\\anaconda3\\envs\\test\\Lib\\site-packages\\pybliometrics\\scopus\\superclasses\\retrieval.py:54\u001b[0m, in \u001b[0;36mRetrieval.__init__\u001b[1;34m(self, identifier, api, id_type, **kwds)\u001b[0m\n\u001b[0;32m     52\u001b[0m \u001b[38;5;66;03m# Parse file contents\u001b[39;00m\n\u001b[0;32m     53\u001b[0m params \u001b[38;5;241m=\u001b[39m {\u001b[38;5;124m'\u001b[39m\u001b[38;5;124mview\u001b[39m\u001b[38;5;124m'\u001b[39m: \u001b[38;5;28mself\u001b[39m\u001b[38;5;241m.\u001b[39m_view, \u001b[38;5;241m*\u001b[39m\u001b[38;5;241m*\u001b[39mkwds}\n\u001b[1;32m---> 54\u001b[0m \u001b[43mBase\u001b[49m\u001b[38;5;241;43m.\u001b[39;49m\u001b[38;5;21;43m__init__\u001b[39;49m\u001b[43m(\u001b[49m\u001b[38;5;28;43mself\u001b[39;49m\u001b[43m,\u001b[49m\u001b[43m \u001b[49m\u001b[43mparams\u001b[49m\u001b[38;5;241;43m=\u001b[39;49m\u001b[43mparams\u001b[49m\u001b[43m,\u001b[49m\u001b[43m \u001b[49m\u001b[43murl\u001b[49m\u001b[38;5;241;43m=\u001b[39;49m\u001b[43murl\u001b[49m\u001b[43m,\u001b[49m\u001b[43m \u001b[49m\u001b[43mapi\u001b[49m\u001b[38;5;241;43m=\u001b[39;49m\u001b[43mapi\u001b[49m\u001b[43m)\u001b[49m\n",
      "File \u001b[1;32mc:\\Users\\jacob\\anaconda3\\envs\\test\\Lib\\site-packages\\pybliometrics\\scopus\\superclasses\\base.py:71\u001b[0m, in \u001b[0;36mBase.__init__\u001b[1;34m(self, params, url, api, download, verbose, *args, **kwds)\u001b[0m\n\u001b[0;32m     69\u001b[0m \u001b[38;5;28;01mif\u001b[39;00m ab_ref_retrieval:\n\u001b[0;32m     70\u001b[0m     kwds[\u001b[38;5;124m'\u001b[39m\u001b[38;5;124mstartref\u001b[39m\u001b[38;5;124m'\u001b[39m] \u001b[38;5;241m=\u001b[39m \u001b[38;5;124m'\u001b[39m\u001b[38;5;124m1\u001b[39m\u001b[38;5;124m'\u001b[39m\n\u001b[1;32m---> 71\u001b[0m     data \u001b[38;5;241m=\u001b[39m \u001b[43m_get_all_refs\u001b[49m\u001b[43m(\u001b[49m\u001b[43murl\u001b[49m\u001b[43m,\u001b[49m\u001b[43m \u001b[49m\u001b[43mparams\u001b[49m\u001b[43m,\u001b[49m\u001b[43m \u001b[49m\u001b[43mverbose\u001b[49m\u001b[43m,\u001b[49m\u001b[43m \u001b[49m\u001b[43mresp\u001b[49m\u001b[43m,\u001b[49m\u001b[43m \u001b[49m\u001b[38;5;241;43m*\u001b[39;49m\u001b[43margs\u001b[49m\u001b[43m,\u001b[49m\u001b[43m \u001b[49m\u001b[38;5;241;43m*\u001b[39;49m\u001b[38;5;241;43m*\u001b[39;49m\u001b[43mkwds\u001b[49m\u001b[43m)\u001b[49m\n\u001b[0;32m     72\u001b[0m     \u001b[38;5;28mself\u001b[39m\u001b[38;5;241m.\u001b[39m_json \u001b[38;5;241m=\u001b[39m data\n\u001b[0;32m     73\u001b[0m     data \u001b[38;5;241m=\u001b[39m [data]\n",
      "File \u001b[1;32mc:\\Users\\jacob\\anaconda3\\envs\\test\\Lib\\site-packages\\pybliometrics\\scopus\\superclasses\\base.py:194\u001b[0m, in \u001b[0;36m_get_all_refs\u001b[1;34m(url, params, verbose, resp, *args, **kwds)\u001b[0m\n\u001b[0;32m    192\u001b[0m kwds[\u001b[38;5;124m'\u001b[39m\u001b[38;5;124mstartref\u001b[39m\u001b[38;5;124m'\u001b[39m] \u001b[38;5;241m=\u001b[39m \u001b[38;5;28mstr\u001b[39m(\u001b[38;5;28mint\u001b[39m(kwds[\u001b[38;5;124m'\u001b[39m\u001b[38;5;124mstartref\u001b[39m\u001b[38;5;124m'\u001b[39m]) \u001b[38;5;241m+\u001b[39m ref_len)\n\u001b[0;32m    193\u001b[0m \u001b[38;5;66;03m# Get\u001b[39;00m\n\u001b[1;32m--> 194\u001b[0m resp \u001b[38;5;241m=\u001b[39m \u001b[43mget_content\u001b[49m\u001b[43m(\u001b[49m\u001b[43murl\u001b[49m\u001b[43m,\u001b[49m\u001b[43m \u001b[49m\u001b[38;5;124;43m'\u001b[39;49m\u001b[38;5;124;43mAbstractRetrieval\u001b[39;49m\u001b[38;5;124;43m'\u001b[39;49m\u001b[43m,\u001b[49m\u001b[43m \u001b[49m\u001b[43mparams\u001b[49m\u001b[43m,\u001b[49m\u001b[43m \u001b[49m\u001b[38;5;241;43m*\u001b[39;49m\u001b[43margs\u001b[49m\u001b[43m,\u001b[49m\u001b[43m \u001b[49m\u001b[38;5;241;43m*\u001b[39;49m\u001b[38;5;241;43m*\u001b[39;49m\u001b[43mkwds\u001b[49m\u001b[43m)\u001b[49m\n\u001b[0;32m    195\u001b[0m res \u001b[38;5;241m=\u001b[39m resp\u001b[38;5;241m.\u001b[39mjson()\n\u001b[0;32m    196\u001b[0m res \u001b[38;5;241m=\u001b[39m parse_content\u001b[38;5;241m.\u001b[39mchained_get(res, path_reference)\n",
      "File \u001b[1;32mc:\\Users\\jacob\\anaconda3\\envs\\test\\Lib\\site-packages\\pybliometrics\\scopus\\utils\\get_content.py:125\u001b[0m, in \u001b[0;36mget_content\u001b[1;34m(url, api, params, **kwds)\u001b[0m\n\u001b[0;32m    123\u001b[0m         \u001b[38;5;28;01mexcept\u001b[39;00m:\n\u001b[0;32m    124\u001b[0m             reason \u001b[38;5;241m=\u001b[39m \u001b[38;5;124m\"\u001b[39m\u001b[38;5;124m\"\u001b[39m\n\u001b[1;32m--> 125\u001b[0m     \u001b[38;5;28;01mraise\u001b[39;00m errors[resp\u001b[38;5;241m.\u001b[39mstatus_code](reason)\n\u001b[0;32m    126\u001b[0m \u001b[38;5;28;01mexcept\u001b[39;00m \u001b[38;5;167;01mKeyError\u001b[39;00m:\n\u001b[0;32m    127\u001b[0m     resp\u001b[38;5;241m.\u001b[39mraise_for_status()\n",
      "\u001b[1;31mScopus429Error\u001b[0m: Quota Exceeded"
     ]
    }
   ],
   "source": [
    "import os\n",
    "import pandas as pd\n",
    "from pybliometrics.scopus import AbstractRetrieval\n",
    "\n",
    "# Initialize Pybliometrics once\n",
    "pybliometrics.scopus.init()\n",
    "\n",
    "# Define base directory\n",
    "base_dir = \"C:\\\\Users\\\\jacob\\\\OneDrive - Université Laval\\\\biophilo\\\\Data\\\\\"\n",
    "\n",
    "# Initialize an empty list to collect DataFrames\n",
    "citation_data = []\n",
    "\n",
    "# Iterate over journal names\n",
    "for i in range(len(general_philo_of_science)):\n",
    "    # Read the CSV file\n",
    "    file_path = os.path.join(base_dir, f\"{for_name_general_philo_of_science[i]}.csv\")\n",
    "    result_df = pd.read_csv(file_path)\n",
    "    print(result_df)\n",
    "    # Iterate over EIDs in the DataFrame\n",
    "    for eid in result_df.eid:\n",
    "        # Retrieve references using AbstractRetrieval\n",
    "        ref_query = AbstractRetrieval(eid, id_type=\"eid\", view=\"REF\")\n",
    "        \n",
    "        # Convert references to DataFrame and add the source EID\n",
    "        ref_df = pd.DataFrame(ref_query.references)\n",
    "        if not ref_df.empty:\n",
    "            ref_df['source_eid'] = eid\n",
    "            citation_data.append(ref_df)\n",
    "\n",
    "    # Combine all collected DataFrames for the current journal\n",
    "    if citation_data:\n",
    "        combined_df = pd.concat(citation_data, ignore_index=True)\n",
    "        output_path = os.path.join(base_dir, f\"{for_name_general_philo_of_science[i]}_references.csv\")\n",
    "        combined_df.to_csv(output_path, index=False)\n",
    "\n",
    "        # Clear the list for the next journal\n",
    "        citation_data.clear()\n"
   ]
  },
  {
   "cell_type": "code",
   "execution_count": 7,
   "metadata": {},
   "outputs": [
    {
     "name": "stderr",
     "output_type": "stream",
     "text": [
      "<>:7: DeprecationWarning: invalid escape sequence '\\D'\n",
      "<>:17: DeprecationWarning: invalid escape sequence '\\D'\n",
      "<>:7: DeprecationWarning: invalid escape sequence '\\D'\n",
      "<>:17: DeprecationWarning: invalid escape sequence '\\D'\n",
      "C:\\Users\\jacob\\AppData\\Local\\Temp\\ipykernel_28880\\3792194508.py:7: DeprecationWarning: invalid escape sequence '\\D'\n",
      "  result_df = pd.read_csv(\"C:\\\\Users\\\\jacob\\\\OneDrive - Université Laval\\\\biophilo\\Data\\\\\"+ for_name_general_philo_of_science[i] + \".csv\")\n",
      "C:\\Users\\jacob\\AppData\\Local\\Temp\\ipykernel_28880\\3792194508.py:17: DeprecationWarning: invalid escape sequence '\\D'\n",
      "  citation_list.to_csv(\"C:\\\\Users\\\\jacob\\\\OneDrive - Université Laval\\\\biophilo\\Data\\\\\"+ for_name_general_philo_of_science[i] + \"_references.csv\")\n"
     ]
    },
    {
     "ename": "AttributeError",
     "evalue": "'DataFrame' object has no attribute 'eid'",
     "output_type": "error",
     "traceback": [
      "\u001b[1;31m---------------------------------------------------------------------------\u001b[0m",
      "\u001b[1;31mAttributeError\u001b[0m                            Traceback (most recent call last)",
      "\u001b[1;32m~\\AppData\\Local\\Temp\\ipykernel_28880\\3792194508.py\u001b[0m in \u001b[0;36m?\u001b[1;34m()\u001b[0m\n\u001b[0;32m      4\u001b[0m \u001b[0mcitation_list\u001b[0m \u001b[1;33m=\u001b[0m \u001b[0mpd\u001b[0m\u001b[1;33m.\u001b[0m\u001b[0mDataFrame\u001b[0m\u001b[1;33m(\u001b[0m\u001b[1;33m)\u001b[0m  \u001b[1;31m# Initialize an empty DataFrame to store results\u001b[0m\u001b[1;33m\u001b[0m\u001b[1;33m\u001b[0m\u001b[0m\n\u001b[0;32m      5\u001b[0m \u001b[1;32mfor\u001b[0m \u001b[0mi\u001b[0m \u001b[1;32min\u001b[0m \u001b[0mrange\u001b[0m\u001b[1;33m(\u001b[0m\u001b[0mlen\u001b[0m\u001b[1;33m(\u001b[0m\u001b[0mgeneral_philo_of_science\u001b[0m\u001b[1;33m)\u001b[0m\u001b[1;33m)\u001b[0m\u001b[1;33m:\u001b[0m\u001b[1;33m\u001b[0m\u001b[1;33m\u001b[0m\u001b[0m\n\u001b[0;32m      6\u001b[0m     \u001b[0mpybliometrics\u001b[0m\u001b[1;33m.\u001b[0m\u001b[0mscopus\u001b[0m\u001b[1;33m.\u001b[0m\u001b[0minit\u001b[0m\u001b[1;33m(\u001b[0m\u001b[1;33m)\u001b[0m\u001b[1;33m\u001b[0m\u001b[1;33m\u001b[0m\u001b[0m\n\u001b[0;32m      7\u001b[0m     \u001b[0mresult_df\u001b[0m \u001b[1;33m=\u001b[0m \u001b[0mpd\u001b[0m\u001b[1;33m.\u001b[0m\u001b[0mread_csv\u001b[0m\u001b[1;33m(\u001b[0m\u001b[1;34m\"C:\\\\Users\\\\jacob\\\\OneDrive - Université Laval\\\\biophilo\\Data\\\\\"\u001b[0m\u001b[1;33m+\u001b[0m \u001b[0mfor_name_general_philo_of_science\u001b[0m\u001b[1;33m[\u001b[0m\u001b[0mi\u001b[0m\u001b[1;33m]\u001b[0m \u001b[1;33m+\u001b[0m \u001b[1;34m\".csv\"\u001b[0m\u001b[1;33m)\u001b[0m\u001b[1;33m\u001b[0m\u001b[1;33m\u001b[0m\u001b[0m\n\u001b[1;32m----> 8\u001b[1;33m     \u001b[1;32mfor\u001b[0m \u001b[0mj\u001b[0m \u001b[1;32min\u001b[0m \u001b[0mrange\u001b[0m\u001b[1;33m(\u001b[0m\u001b[0mlen\u001b[0m\u001b[1;33m(\u001b[0m\u001b[0mresult_df\u001b[0m\u001b[1;33m.\u001b[0m\u001b[0meid\u001b[0m\u001b[1;33m)\u001b[0m\u001b[1;33m)\u001b[0m\u001b[1;33m:\u001b[0m\u001b[1;33m\u001b[0m\u001b[1;33m\u001b[0m\u001b[0m\n\u001b[0m\u001b[0;32m      9\u001b[0m         \u001b[0mref_query\u001b[0m \u001b[1;33m=\u001b[0m \u001b[0mAbstractRetrieval\u001b[0m\u001b[1;33m(\u001b[0m\u001b[0mresult_df\u001b[0m\u001b[1;33m.\u001b[0m\u001b[0meid\u001b[0m\u001b[1;33m[\u001b[0m\u001b[0mj\u001b[0m\u001b[1;33m]\u001b[0m\u001b[1;33m,\u001b[0m \u001b[0mid_type\u001b[0m\u001b[1;33m=\u001b[0m\u001b[1;34m\"eid\"\u001b[0m\u001b[1;33m,\u001b[0m \u001b[0mview\u001b[0m\u001b[1;33m=\u001b[0m\u001b[1;34m\"REF\"\u001b[0m\u001b[1;33m)\u001b[0m\u001b[1;33m\u001b[0m\u001b[1;33m\u001b[0m\u001b[0m\n\u001b[0;32m     10\u001b[0m \u001b[1;33m\u001b[0m\u001b[0m\n\u001b[0;32m     11\u001b[0m         \u001b[1;31m# Convert references to DataFrame and add the EID column\u001b[0m\u001b[1;33m\u001b[0m\u001b[1;33m\u001b[0m\u001b[0m\n",
      "\u001b[1;32mc:\\Users\\jacob\\anaconda3\\envs\\test\\Lib\\site-packages\\pandas\\core\\generic.py\u001b[0m in \u001b[0;36m?\u001b[1;34m(self, name)\u001b[0m\n\u001b[0;32m   6295\u001b[0m             \u001b[1;32mand\u001b[0m \u001b[0mname\u001b[0m \u001b[1;32mnot\u001b[0m \u001b[1;32min\u001b[0m \u001b[0mself\u001b[0m\u001b[1;33m.\u001b[0m\u001b[0m_accessors\u001b[0m\u001b[1;33m\u001b[0m\u001b[1;33m\u001b[0m\u001b[0m\n\u001b[0;32m   6296\u001b[0m             \u001b[1;32mand\u001b[0m \u001b[0mself\u001b[0m\u001b[1;33m.\u001b[0m\u001b[0m_info_axis\u001b[0m\u001b[1;33m.\u001b[0m\u001b[0m_can_hold_identifiers_and_holds_name\u001b[0m\u001b[1;33m(\u001b[0m\u001b[0mname\u001b[0m\u001b[1;33m)\u001b[0m\u001b[1;33m\u001b[0m\u001b[1;33m\u001b[0m\u001b[0m\n\u001b[0;32m   6297\u001b[0m         ):\n\u001b[0;32m   6298\u001b[0m             \u001b[1;32mreturn\u001b[0m \u001b[0mself\u001b[0m\u001b[1;33m[\u001b[0m\u001b[0mname\u001b[0m\u001b[1;33m]\u001b[0m\u001b[1;33m\u001b[0m\u001b[1;33m\u001b[0m\u001b[0m\n\u001b[1;32m-> 6299\u001b[1;33m         \u001b[1;32mreturn\u001b[0m \u001b[0mobject\u001b[0m\u001b[1;33m.\u001b[0m\u001b[0m__getattribute__\u001b[0m\u001b[1;33m(\u001b[0m\u001b[0mself\u001b[0m\u001b[1;33m,\u001b[0m \u001b[0mname\u001b[0m\u001b[1;33m)\u001b[0m\u001b[1;33m\u001b[0m\u001b[1;33m\u001b[0m\u001b[0m\n\u001b[0m",
      "\u001b[1;31mAttributeError\u001b[0m: 'DataFrame' object has no attribute 'eid'"
     ]
    }
   ],
   "source": [
    "from pybliometrics.scopus import AbstractRetrieval\n",
    "import pandas as pd\n",
    "\n",
    "citation_list = pd.DataFrame()  # Initialize an empty DataFrame to store results\n",
    "for i in range(len(general_philo_of_science)):\n",
    "    pybliometrics.scopus.init()\n",
    "    result_df = pd.read_csv(\"C:\\\\Users\\\\jacob\\\\OneDrive - Université Laval\\\\biophilo\\Data\\\\\"+ for_name_general_philo_of_science[i] + \".csv\")\n",
    "    for j in range(len(result_df.eid)):  \n",
    "        ref_query = AbstractRetrieval(result_df.eid[j], id_type=\"eid\", view=\"REF\")\n",
    "        \n",
    "        # Convert references to DataFrame and add the EID column\n",
    "        ref_df = pd.DataFrame(ref_query.references)\n",
    "        ref_df['source_eid'] = result_df.eid[j]  # Add the source EID column\n",
    "        \n",
    "        # Concatenate the current DataFrame to the citation list\n",
    "        citation_list = pd.concat([citation_list, ref_df], ignore_index=True)\n",
    "        citation_list.to_csv(\"C:\\\\Users\\\\jacob\\\\OneDrive - Université Laval\\\\biophilo\\Data\\\\\"+ for_name_general_philo_of_science[i] + \"_references.csv\")\n",
    "\n",
    "# Display the resulting citation list\n",
    "print(citation_list)"
   ]
  }
 ],
 "metadata": {
  "kernelspec": {
   "display_name": "test",
   "language": "python",
   "name": "python3"
  },
  "language_info": {
   "codemirror_mode": {
    "name": "ipython",
    "version": 3
   },
   "file_extension": ".py",
   "mimetype": "text/x-python",
   "name": "python",
   "nbconvert_exporter": "python",
   "pygments_lexer": "ipython3",
   "version": "3.11.10"
  }
 },
 "nbformat": 4,
 "nbformat_minor": 2
}
