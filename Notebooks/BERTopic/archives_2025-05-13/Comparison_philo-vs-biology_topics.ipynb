{
 "cells": [
  {
   "cell_type": "markdown",
   "metadata": {},
   "source": [
    "# Simple case"
   ]
  },
  {
   "cell_type": "code",
   "execution_count": 1,
   "metadata": {},
   "outputs": [
    {
     "data": {
      "application/vnd.plotly.v1+json": {
       "config": {
        "plotlyServerURL": "https://plot.ly"
       },
       "data": [
        {
         "coloraxis": "coloraxis",
         "hovertemplate": "Keywords: %{x}<br>Documents: %{y}<br>Similarity: %{z}<extra></extra>",
         "name": "0",
         "texttemplate": "%{z:.2f}",
         "type": "heatmap",
         "x": [
          "Keyword 1",
          "Keyword 2"
         ],
         "xaxis": "x",
         "y": [
          "Doc 1",
          "Doc 2",
          "Doc 3"
         ],
         "yaxis": "y",
         "z": [
          [
           0.9102187449249186,
           0.6821392871602578
          ],
          [
           0.9199695518482561,
           0.7750626479057354
          ],
          [
           0.8201302456187537,
           0.46529033660467345
          ]
         ]
        }
       ],
       "layout": {
        "coloraxis": {
         "colorbar": {
          "title": {
           "text": "Similarity"
          }
         },
         "colorscale": [
          [
           0,
           "rgb(247,251,255)"
          ],
          [
           0.125,
           "rgb(222,235,247)"
          ],
          [
           0.25,
           "rgb(198,219,239)"
          ],
          [
           0.375,
           "rgb(158,202,225)"
          ],
          [
           0.5,
           "rgb(107,174,214)"
          ],
          [
           0.625,
           "rgb(66,146,198)"
          ],
          [
           0.75,
           "rgb(33,113,181)"
          ],
          [
           0.875,
           "rgb(8,81,156)"
          ],
          [
           1,
           "rgb(8,48,107)"
          ]
         ]
        },
        "margin": {
         "t": 60
        },
        "template": {
         "data": {
          "bar": [
           {
            "error_x": {
             "color": "#2a3f5f"
            },
            "error_y": {
             "color": "#2a3f5f"
            },
            "marker": {
             "line": {
              "color": "#E5ECF6",
              "width": 0.5
             },
             "pattern": {
              "fillmode": "overlay",
              "size": 10,
              "solidity": 0.2
             }
            },
            "type": "bar"
           }
          ],
          "barpolar": [
           {
            "marker": {
             "line": {
              "color": "#E5ECF6",
              "width": 0.5
             },
             "pattern": {
              "fillmode": "overlay",
              "size": 10,
              "solidity": 0.2
             }
            },
            "type": "barpolar"
           }
          ],
          "carpet": [
           {
            "aaxis": {
             "endlinecolor": "#2a3f5f",
             "gridcolor": "white",
             "linecolor": "white",
             "minorgridcolor": "white",
             "startlinecolor": "#2a3f5f"
            },
            "baxis": {
             "endlinecolor": "#2a3f5f",
             "gridcolor": "white",
             "linecolor": "white",
             "minorgridcolor": "white",
             "startlinecolor": "#2a3f5f"
            },
            "type": "carpet"
           }
          ],
          "choropleth": [
           {
            "colorbar": {
             "outlinewidth": 0,
             "ticks": ""
            },
            "type": "choropleth"
           }
          ],
          "contour": [
           {
            "colorbar": {
             "outlinewidth": 0,
             "ticks": ""
            },
            "colorscale": [
             [
              0,
              "#0d0887"
             ],
             [
              0.1111111111111111,
              "#46039f"
             ],
             [
              0.2222222222222222,
              "#7201a8"
             ],
             [
              0.3333333333333333,
              "#9c179e"
             ],
             [
              0.4444444444444444,
              "#bd3786"
             ],
             [
              0.5555555555555556,
              "#d8576b"
             ],
             [
              0.6666666666666666,
              "#ed7953"
             ],
             [
              0.7777777777777778,
              "#fb9f3a"
             ],
             [
              0.8888888888888888,
              "#fdca26"
             ],
             [
              1,
              "#f0f921"
             ]
            ],
            "type": "contour"
           }
          ],
          "contourcarpet": [
           {
            "colorbar": {
             "outlinewidth": 0,
             "ticks": ""
            },
            "type": "contourcarpet"
           }
          ],
          "heatmap": [
           {
            "colorbar": {
             "outlinewidth": 0,
             "ticks": ""
            },
            "colorscale": [
             [
              0,
              "#0d0887"
             ],
             [
              0.1111111111111111,
              "#46039f"
             ],
             [
              0.2222222222222222,
              "#7201a8"
             ],
             [
              0.3333333333333333,
              "#9c179e"
             ],
             [
              0.4444444444444444,
              "#bd3786"
             ],
             [
              0.5555555555555556,
              "#d8576b"
             ],
             [
              0.6666666666666666,
              "#ed7953"
             ],
             [
              0.7777777777777778,
              "#fb9f3a"
             ],
             [
              0.8888888888888888,
              "#fdca26"
             ],
             [
              1,
              "#f0f921"
             ]
            ],
            "type": "heatmap"
           }
          ],
          "heatmapgl": [
           {
            "colorbar": {
             "outlinewidth": 0,
             "ticks": ""
            },
            "colorscale": [
             [
              0,
              "#0d0887"
             ],
             [
              0.1111111111111111,
              "#46039f"
             ],
             [
              0.2222222222222222,
              "#7201a8"
             ],
             [
              0.3333333333333333,
              "#9c179e"
             ],
             [
              0.4444444444444444,
              "#bd3786"
             ],
             [
              0.5555555555555556,
              "#d8576b"
             ],
             [
              0.6666666666666666,
              "#ed7953"
             ],
             [
              0.7777777777777778,
              "#fb9f3a"
             ],
             [
              0.8888888888888888,
              "#fdca26"
             ],
             [
              1,
              "#f0f921"
             ]
            ],
            "type": "heatmapgl"
           }
          ],
          "histogram": [
           {
            "marker": {
             "pattern": {
              "fillmode": "overlay",
              "size": 10,
              "solidity": 0.2
             }
            },
            "type": "histogram"
           }
          ],
          "histogram2d": [
           {
            "colorbar": {
             "outlinewidth": 0,
             "ticks": ""
            },
            "colorscale": [
             [
              0,
              "#0d0887"
             ],
             [
              0.1111111111111111,
              "#46039f"
             ],
             [
              0.2222222222222222,
              "#7201a8"
             ],
             [
              0.3333333333333333,
              "#9c179e"
             ],
             [
              0.4444444444444444,
              "#bd3786"
             ],
             [
              0.5555555555555556,
              "#d8576b"
             ],
             [
              0.6666666666666666,
              "#ed7953"
             ],
             [
              0.7777777777777778,
              "#fb9f3a"
             ],
             [
              0.8888888888888888,
              "#fdca26"
             ],
             [
              1,
              "#f0f921"
             ]
            ],
            "type": "histogram2d"
           }
          ],
          "histogram2dcontour": [
           {
            "colorbar": {
             "outlinewidth": 0,
             "ticks": ""
            },
            "colorscale": [
             [
              0,
              "#0d0887"
             ],
             [
              0.1111111111111111,
              "#46039f"
             ],
             [
              0.2222222222222222,
              "#7201a8"
             ],
             [
              0.3333333333333333,
              "#9c179e"
             ],
             [
              0.4444444444444444,
              "#bd3786"
             ],
             [
              0.5555555555555556,
              "#d8576b"
             ],
             [
              0.6666666666666666,
              "#ed7953"
             ],
             [
              0.7777777777777778,
              "#fb9f3a"
             ],
             [
              0.8888888888888888,
              "#fdca26"
             ],
             [
              1,
              "#f0f921"
             ]
            ],
            "type": "histogram2dcontour"
           }
          ],
          "mesh3d": [
           {
            "colorbar": {
             "outlinewidth": 0,
             "ticks": ""
            },
            "type": "mesh3d"
           }
          ],
          "parcoords": [
           {
            "line": {
             "colorbar": {
              "outlinewidth": 0,
              "ticks": ""
             }
            },
            "type": "parcoords"
           }
          ],
          "pie": [
           {
            "automargin": true,
            "type": "pie"
           }
          ],
          "scatter": [
           {
            "fillpattern": {
             "fillmode": "overlay",
             "size": 10,
             "solidity": 0.2
            },
            "type": "scatter"
           }
          ],
          "scatter3d": [
           {
            "line": {
             "colorbar": {
              "outlinewidth": 0,
              "ticks": ""
             }
            },
            "marker": {
             "colorbar": {
              "outlinewidth": 0,
              "ticks": ""
             }
            },
            "type": "scatter3d"
           }
          ],
          "scattercarpet": [
           {
            "marker": {
             "colorbar": {
              "outlinewidth": 0,
              "ticks": ""
             }
            },
            "type": "scattercarpet"
           }
          ],
          "scattergeo": [
           {
            "marker": {
             "colorbar": {
              "outlinewidth": 0,
              "ticks": ""
             }
            },
            "type": "scattergeo"
           }
          ],
          "scattergl": [
           {
            "marker": {
             "colorbar": {
              "outlinewidth": 0,
              "ticks": ""
             }
            },
            "type": "scattergl"
           }
          ],
          "scattermapbox": [
           {
            "marker": {
             "colorbar": {
              "outlinewidth": 0,
              "ticks": ""
             }
            },
            "type": "scattermapbox"
           }
          ],
          "scatterpolar": [
           {
            "marker": {
             "colorbar": {
              "outlinewidth": 0,
              "ticks": ""
             }
            },
            "type": "scatterpolar"
           }
          ],
          "scatterpolargl": [
           {
            "marker": {
             "colorbar": {
              "outlinewidth": 0,
              "ticks": ""
             }
            },
            "type": "scatterpolargl"
           }
          ],
          "scatterternary": [
           {
            "marker": {
             "colorbar": {
              "outlinewidth": 0,
              "ticks": ""
             }
            },
            "type": "scatterternary"
           }
          ],
          "surface": [
           {
            "colorbar": {
             "outlinewidth": 0,
             "ticks": ""
            },
            "colorscale": [
             [
              0,
              "#0d0887"
             ],
             [
              0.1111111111111111,
              "#46039f"
             ],
             [
              0.2222222222222222,
              "#7201a8"
             ],
             [
              0.3333333333333333,
              "#9c179e"
             ],
             [
              0.4444444444444444,
              "#bd3786"
             ],
             [
              0.5555555555555556,
              "#d8576b"
             ],
             [
              0.6666666666666666,
              "#ed7953"
             ],
             [
              0.7777777777777778,
              "#fb9f3a"
             ],
             [
              0.8888888888888888,
              "#fdca26"
             ],
             [
              1,
              "#f0f921"
             ]
            ],
            "type": "surface"
           }
          ],
          "table": [
           {
            "cells": {
             "fill": {
              "color": "#EBF0F8"
             },
             "line": {
              "color": "white"
             }
            },
            "header": {
             "fill": {
              "color": "#C8D4E3"
             },
             "line": {
              "color": "white"
             }
            },
            "type": "table"
           }
          ]
         },
         "layout": {
          "annotationdefaults": {
           "arrowcolor": "#2a3f5f",
           "arrowhead": 0,
           "arrowwidth": 1
          },
          "autotypenumbers": "strict",
          "coloraxis": {
           "colorbar": {
            "outlinewidth": 0,
            "ticks": ""
           }
          },
          "colorscale": {
           "diverging": [
            [
             0,
             "#8e0152"
            ],
            [
             0.1,
             "#c51b7d"
            ],
            [
             0.2,
             "#de77ae"
            ],
            [
             0.3,
             "#f1b6da"
            ],
            [
             0.4,
             "#fde0ef"
            ],
            [
             0.5,
             "#f7f7f7"
            ],
            [
             0.6,
             "#e6f5d0"
            ],
            [
             0.7,
             "#b8e186"
            ],
            [
             0.8,
             "#7fbc41"
            ],
            [
             0.9,
             "#4d9221"
            ],
            [
             1,
             "#276419"
            ]
           ],
           "sequential": [
            [
             0,
             "#0d0887"
            ],
            [
             0.1111111111111111,
             "#46039f"
            ],
            [
             0.2222222222222222,
             "#7201a8"
            ],
            [
             0.3333333333333333,
             "#9c179e"
            ],
            [
             0.4444444444444444,
             "#bd3786"
            ],
            [
             0.5555555555555556,
             "#d8576b"
            ],
            [
             0.6666666666666666,
             "#ed7953"
            ],
            [
             0.7777777777777778,
             "#fb9f3a"
            ],
            [
             0.8888888888888888,
             "#fdca26"
            ],
            [
             1,
             "#f0f921"
            ]
           ],
           "sequentialminus": [
            [
             0,
             "#0d0887"
            ],
            [
             0.1111111111111111,
             "#46039f"
            ],
            [
             0.2222222222222222,
             "#7201a8"
            ],
            [
             0.3333333333333333,
             "#9c179e"
            ],
            [
             0.4444444444444444,
             "#bd3786"
            ],
            [
             0.5555555555555556,
             "#d8576b"
            ],
            [
             0.6666666666666666,
             "#ed7953"
            ],
            [
             0.7777777777777778,
             "#fb9f3a"
            ],
            [
             0.8888888888888888,
             "#fdca26"
            ],
            [
             1,
             "#f0f921"
            ]
           ]
          },
          "colorway": [
           "#636efa",
           "#EF553B",
           "#00cc96",
           "#ab63fa",
           "#FFA15A",
           "#19d3f3",
           "#FF6692",
           "#B6E880",
           "#FF97FF",
           "#FECB52"
          ],
          "font": {
           "color": "#2a3f5f"
          },
          "geo": {
           "bgcolor": "white",
           "lakecolor": "white",
           "landcolor": "#E5ECF6",
           "showlakes": true,
           "showland": true,
           "subunitcolor": "white"
          },
          "hoverlabel": {
           "align": "left"
          },
          "hovermode": "closest",
          "mapbox": {
           "style": "light"
          },
          "paper_bgcolor": "white",
          "plot_bgcolor": "#E5ECF6",
          "polar": {
           "angularaxis": {
            "gridcolor": "white",
            "linecolor": "white",
            "ticks": ""
           },
           "bgcolor": "#E5ECF6",
           "radialaxis": {
            "gridcolor": "white",
            "linecolor": "white",
            "ticks": ""
           }
          },
          "scene": {
           "xaxis": {
            "backgroundcolor": "#E5ECF6",
            "gridcolor": "white",
            "gridwidth": 2,
            "linecolor": "white",
            "showbackground": true,
            "ticks": "",
            "zerolinecolor": "white"
           },
           "yaxis": {
            "backgroundcolor": "#E5ECF6",
            "gridcolor": "white",
            "gridwidth": 2,
            "linecolor": "white",
            "showbackground": true,
            "ticks": "",
            "zerolinecolor": "white"
           },
           "zaxis": {
            "backgroundcolor": "#E5ECF6",
            "gridcolor": "white",
            "gridwidth": 2,
            "linecolor": "white",
            "showbackground": true,
            "ticks": "",
            "zerolinecolor": "white"
           }
          },
          "shapedefaults": {
           "line": {
            "color": "#2a3f5f"
           }
          },
          "ternary": {
           "aaxis": {
            "gridcolor": "white",
            "linecolor": "white",
            "ticks": ""
           },
           "baxis": {
            "gridcolor": "white",
            "linecolor": "white",
            "ticks": ""
           },
           "bgcolor": "#E5ECF6",
           "caxis": {
            "gridcolor": "white",
            "linecolor": "white",
            "ticks": ""
           }
          },
          "title": {
           "x": 0.05
          },
          "xaxis": {
           "automargin": true,
           "gridcolor": "white",
           "linecolor": "white",
           "ticks": "",
           "title": {
            "standoff": 15
           },
           "zerolinecolor": "white",
           "zerolinewidth": 2
          },
          "yaxis": {
           "automargin": true,
           "gridcolor": "white",
           "linecolor": "white",
           "ticks": "",
           "title": {
            "standoff": 15
           },
           "zerolinecolor": "white",
           "zerolinewidth": 2
          }
         }
        },
        "xaxis": {
         "anchor": "y",
         "constrain": "domain",
         "domain": [
          0,
          1
         ],
         "scaleanchor": "y",
         "title": {
          "text": "Keywords"
         }
        },
        "yaxis": {
         "anchor": "x",
         "autorange": "reversed",
         "constrain": "domain",
         "domain": [
          0,
          1
         ],
         "title": {
          "text": "Documents"
         }
        }
       }
      }
     },
     "metadata": {},
     "output_type": "display_data"
    }
   ],
   "source": [
    "import numpy as np\n",
    "import plotly.express as px\n",
    "from sklearn.metrics.pairwise import cosine_similarity\n",
    "\n",
    "# Generate random feature vectors\n",
    "np.random.seed(42)\n",
    "A = np.random.rand(3, 5)  # 3 documents, 5 features\n",
    "B = np.random.rand(2, 5)  # 2 keywords, 5 features\n",
    "\n",
    "# Compute cosine similarity (3×2 matrix)\n",
    "sim_matrix = cosine_similarity(A, B)\n",
    "\n",
    "# Convert matrix to a DataFrame for Plotly\n",
    "import pandas as pd\n",
    "df = pd.DataFrame(sim_matrix, \n",
    "                  index=[f\"Doc {i+1}\" for i in range(A.shape[0])], \n",
    "                  columns=[f\"Keyword {i+1}\" for i in range(B.shape[0])])\n",
    "\n",
    "# Create heatmap with Plotly\n",
    "fig = px.imshow(df, text_auto=\".2f\", color_continuous_scale=\"Blues\",\n",
    "                labels={\"x\": \"Keywords\", \"y\": \"Documents\", \"color\": \"Similarity\"})\n",
    "\n",
    "# Show the plot\n",
    "fig.show()\n"
   ]
  },
  {
   "cell_type": "markdown",
   "metadata": {},
   "source": [
    "## Real case \n"
   ]
  },
  {
   "cell_type": "code",
   "execution_count": 3,
   "metadata": {},
   "outputs": [
    {
     "name": "stdout",
     "output_type": "stream",
     "text": [
      "Model 1 - Number of Topics: 33, Shape of Embeddings: (33, 384)\n",
      "Model 2 - Number of Topics: 14, Shape of Embeddings: (14, 384)\n"
     ]
    },
    {
     "data": {
      "application/vnd.plotly.v1+json": {
       "config": {
        "plotlyServerURL": "https://plot.ly"
       },
       "data": [
        {
         "coloraxis": "coloraxis",
         "hovertemplate": "Biology Topics: %{x}<br>Philosophy Topics: %{y}<br>Cosine Similarity: %{z}<extra></extra>",
         "name": "0",
         "texttemplate": "%{z:.2f}",
         "type": "heatmap",
         "x": [
          "0_brain_neurons_neural_activity",
          "1_protein_proteins_binding_dna",
          "2_cell_cells_cancer_tumor",
          "3_species_population_populations_selection",
          "4_mice_muscle_cells_cell",
          "5_plant_plants_root_genes",
          "6_cov_sars_covid_19",
          "7_virus_mosquito_species_host",
          "8_microbiota_gut_microbiome_intestinal",
          "9_resistance_aeruginosa_host_drug",
          "10_resistance_args_bacterial_bacteria",
          "11_microbial_marine_community_ocean",
          "12_sequence_reads_alignment_genome",
          "13_clp1_design_synthetic_sequences"
         ],
         "xaxis": "x",
         "y": [
          "0_ecological_species_ecology_we",
          "1_selection_fitness_natural_evolutionary",
          "2_god_evolution_design_theology",
          "3_biology_molecular_systems_biological",
          "4_dna_rna_chromatin_transcription",
          "5_genetic_research_ethical_gene",
          "6_cultural_culture_evolution_transmission",
          "7_cell_mitochondrial_proteins_cells",
          "8_cognitive_brain_consciousness_as",
          "9_altruism_cooperation_game_altruistic",
          "10_moral_argument_evolutionary_debunking",
          "11_darwin_his_he_theory",
          "12_agriculture_agricultural_food_production",
          "13_species_biological_taxa_concept",
          "14_evolutionary_evolution_synthesis_complexity",
          "15_language_linguistic_communication_evolution",
          "16_mendel_his_was_vries",
          "17_cells_cell_tissue_stem",
          "18_genetic_mental_psychiatric_disorders",
          "19_developmental_evo_devo_evolutionary",
          "20_ethical_organizational_ethics_organizations",
          "21_medicine_disease_medical_health",
          "22_heritability_genetic_traits_trait",
          "23_human_learning_cognition_social",
          "24_selection_kettlewell_evolution_fitness",
          "25_cancer_tumor_cells_tumour",
          "26_microbiome_microbial_immune_microbiomes",
          "27_eukaryotic_peroxisomes_archaeal_host",
          "28_sex_female_inheritance_variation",
          "29_development_developmental_regeneration_animals",
          "30_dst_developmental_systems_replicator",
          "31_covid_19_pandemic_we",
          "32_communication_signaling_context_yerkes"
         ],
         "yaxis": "y",
         "z": [
          [
           0.96681225,
           0.9600045,
           0.94977975,
           0.9541691,
           0.9769732,
           0.9472928,
           0.9526627,
           0.93197894,
           0.9583125,
           0.95715094,
           0.9460608,
           0.95132107,
           0.95266706,
           0.9521949
          ],
          [
           0.94406545,
           0.933272,
           0.9226552,
           0.926865,
           0.9715395,
           0.92086285,
           0.93863356,
           0.9123814,
           0.9498626,
           0.9364273,
           0.9257877,
           0.9358293,
           0.9506523,
           0.9279067
          ],
          [
           0.94058204,
           0.93006724,
           0.9203136,
           0.92643815,
           0.96610755,
           0.9171051,
           0.9318962,
           0.9055909,
           0.9399955,
           0.9297255,
           0.9199891,
           0.92742807,
           0.92835665,
           0.9305394
          ],
          [
           0.91192746,
           0.9051734,
           0.89679337,
           0.89909685,
           0.92157674,
           0.8924094,
           0.8968145,
           0.8858415,
           0.90595865,
           0.9040203,
           0.8952476,
           0.9004822,
           0.8998704,
           0.9010209
          ],
          [
           0.97371435,
           0.9511122,
           0.9633757,
           0.9615493,
           0.96873045,
           0.9490552,
           0.9596956,
           0.93531907,
           0.9581777,
           0.9588017,
           0.9580105,
           0.96125984,
           0.95813274,
           0.9622097
          ],
          [
           0.9883292,
           0.95928156,
           0.9868448,
           0.98352784,
           0.96105915,
           0.97175765,
           0.9684608,
           0.9533028,
           0.9606129,
           0.9705211,
           0.9714736,
           0.9676367,
           0.9567917,
           0.97999895
          ],
          [
           0.94567084,
           0.9317906,
           0.92454886,
           0.9427899,
           0.9343543,
           0.93627083,
           0.92443585,
           0.9247994,
           0.9411383,
           0.94744265,
           0.9291012,
           0.93604785,
           0.9199083,
           0.93171346
          ],
          [
           0.9299797,
           0.93180954,
           0.9056767,
           0.9149444,
           0.95553213,
           0.9075509,
           0.91778374,
           0.896482,
           0.93208456,
           0.9245648,
           0.9065912,
           0.91897386,
           0.92154986,
           0.9189912
          ],
          [
           0.9911616,
           0.9716494,
           0.9905254,
           0.98482275,
           0.9608023,
           0.9849063,
           0.9688114,
           0.95651734,
           0.95901954,
           0.97865605,
           0.9788523,
           0.96592,
           0.9612181,
           0.9658061
          ],
          [
           0.94773686,
           0.9705094,
           0.9295664,
           0.936072,
           0.96025646,
           0.93214136,
           0.927743,
           0.91375583,
           0.93528426,
           0.9400746,
           0.92141986,
           0.92505085,
           0.92878926,
           0.926532
          ],
          [
           0.9235506,
           0.93100566,
           0.90293384,
           0.9121399,
           0.9477671,
           0.90480965,
           0.90694237,
           0.8944142,
           0.9237865,
           0.9196291,
           0.9023111,
           0.9081317,
           0.9069253,
           0.9077718
          ],
          [
           0.91985506,
           0.923765,
           0.90228605,
           0.9080714,
           0.9338945,
           0.90199816,
           0.90171784,
           0.8934096,
           0.9145833,
           0.91366065,
           0.90007025,
           0.905738,
           0.9068111,
           0.9048732
          ],
          [
           0.92495316,
           0.9155234,
           0.9067788,
           0.90846467,
           0.94878215,
           0.9032215,
           0.9150051,
           0.89243495,
           0.9236518,
           0.9144958,
           0.9037549,
           0.91131777,
           0.9171082,
           0.9143599
          ],
          [
           0.94093376,
           0.9210621,
           0.91781706,
           0.9230541,
           0.9548073,
           0.9210415,
           0.9534811,
           0.9076896,
           0.94331145,
           0.9412338,
           0.9281523,
           0.9361239,
           0.94692,
           0.92381
          ],
          [
           0.94084656,
           0.92641294,
           0.92036647,
           0.9257387,
           0.9642787,
           0.9172565,
           0.93138564,
           0.90383947,
           0.94107705,
           0.9312606,
           0.91898566,
           0.9321175,
           0.93543357,
           0.93363184
          ],
          [
           0.94912285,
           0.9364118,
           0.9311593,
           0.93334085,
           0.9712965,
           0.92292845,
           0.9402182,
           0.9084334,
           0.9426702,
           0.93481493,
           0.9289844,
           0.9364106,
           0.94058836,
           0.93948025
          ],
          [
           0.9298501,
           0.94228935,
           0.9093709,
           0.917444,
           0.94779867,
           0.90786695,
           0.91415167,
           0.89471084,
           0.9216286,
           0.9191892,
           0.90196824,
           0.913478,
           0.9129299,
           0.9225943
          ],
          [
           0.94905794,
           0.93401724,
           0.9337845,
           0.9357059,
           0.95228565,
           0.93162084,
           0.9381812,
           0.91201127,
           0.9393951,
           0.9389986,
           0.92779887,
           0.9332073,
           0.93252885,
           0.934708
          ],
          [
           0.97959113,
           0.9647964,
           0.97365445,
           0.97062206,
           0.96696043,
           0.97078437,
           0.96268684,
           0.9382744,
           0.9510628,
           0.95982957,
           0.9573287,
           0.95118284,
           0.95437974,
           0.95753515
          ],
          [
           0.94543374,
           0.9583403,
           0.9235369,
           0.9373026,
           0.95203876,
           0.9330048,
           0.9274788,
           0.9180969,
           0.9386674,
           0.94553256,
           0.923381,
           0.9283549,
           0.9214328,
           0.92721367
          ],
          [
           0.9577218,
           0.9420115,
           0.9392996,
           0.94112486,
           0.97809947,
           0.9343828,
           0.9533415,
           0.914217,
           0.9489927,
           0.9422757,
           0.9349772,
           0.94180715,
           0.9464687,
           0.94585466
          ],
          [
           0.9269637,
           0.9251296,
           0.9081509,
           0.91885144,
           0.9346673,
           0.9091945,
           0.9105884,
           0.9015026,
           0.9202323,
           0.92241645,
           0.9114265,
           0.9184202,
           0.91667426,
           0.9100995
          ],
          [
           0.94745886,
           0.9390539,
           0.9241984,
           0.9418523,
           0.94374734,
           0.93979096,
           0.92357993,
           0.9345177,
           0.95199865,
           0.9535988,
           0.9358367,
           0.9415171,
           0.9308418,
           0.9272231
          ],
          [
           0.96143293,
           0.95098734,
           0.9371619,
           0.95092106,
           0.9731976,
           0.9465823,
           0.9555498,
           0.9280392,
           0.96054536,
           0.96090364,
           0.9386187,
           0.94889724,
           0.9431901,
           0.94857216
          ],
          [
           0.92857116,
           0.9466492,
           0.9069123,
           0.9153274,
           0.9531382,
           0.9102338,
           0.91075677,
           0.8947144,
           0.924734,
           0.9223273,
           0.9005083,
           0.9098487,
           0.9149419,
           0.9129768
          ],
          [
           0.9528898,
           0.93846434,
           0.9319469,
           0.9363966,
           0.98024213,
           0.9283101,
           0.9504088,
           0.91187584,
           0.94889474,
           0.9415407,
           0.932793,
           0.938002,
           0.94569933,
           0.9387326
          ],
          [
           0.97495186,
           0.9516027,
           0.9599887,
           0.98399484,
           0.954372,
           0.96776783,
           0.9480193,
           0.9563242,
           0.9554777,
           0.9718753,
           0.9604515,
           0.9596103,
           0.944448,
           0.95940614
          ],
          [
           0.96305805,
           0.93785954,
           0.94147885,
           0.9512867,
           0.9619591,
           0.9415226,
           0.9503033,
           0.9366121,
           0.9614367,
           0.96709687,
           0.9553798,
           0.9664345,
           0.9670258,
           0.9483386
          ],
          [
           0.97610164,
           0.94378966,
           0.9691268,
           0.95924807,
           0.9659871,
           0.95204294,
           0.96459556,
           0.9349359,
           0.9539552,
           0.95925915,
           0.9671408,
           0.9637368,
           0.96826833,
           0.96205246
          ],
          [
           0.96979666,
           0.9499831,
           0.95307314,
           0.9538721,
           0.9827843,
           0.9483699,
           0.96235996,
           0.92613477,
           0.9618983,
           0.9562149,
           0.94612145,
           0.95126593,
           0.9541012,
           0.95628154
          ],
          [
           0.96662724,
           0.94763625,
           0.94915926,
           0.953188,
           0.97307813,
           0.95259213,
           0.95671386,
           0.92158335,
           0.9518827,
           0.9544101,
           0.94404495,
           0.94368255,
           0.9510796,
           0.9469286
          ],
          [
           0.94123614,
           0.93427145,
           0.9213062,
           0.92808276,
           0.9541372,
           0.92213523,
           0.9330588,
           0.90676373,
           0.934576,
           0.9330829,
           0.919243,
           0.9253405,
           0.9263146,
           0.9274777
          ],
          [
           0.9273083,
           0.9221251,
           0.90586877,
           0.9281657,
           0.9169929,
           0.91960275,
           0.89928734,
           0.94887674,
           0.93571556,
           0.930547,
           0.916929,
           0.9225805,
           0.9124533,
           0.9065784
          ]
         ]
        }
       ],
       "layout": {
        "coloraxis": {
         "colorbar": {
          "title": {
           "text": "Cosine Similarity"
          }
         },
         "colorscale": [
          [
           0,
           "rgb(247,251,255)"
          ],
          [
           0.125,
           "rgb(222,235,247)"
          ],
          [
           0.25,
           "rgb(198,219,239)"
          ],
          [
           0.375,
           "rgb(158,202,225)"
          ],
          [
           0.5,
           "rgb(107,174,214)"
          ],
          [
           0.625,
           "rgb(66,146,198)"
          ],
          [
           0.75,
           "rgb(33,113,181)"
          ],
          [
           0.875,
           "rgb(8,81,156)"
          ],
          [
           1,
           "rgb(8,48,107)"
          ]
         ]
        },
        "template": {
         "data": {
          "bar": [
           {
            "error_x": {
             "color": "#2a3f5f"
            },
            "error_y": {
             "color": "#2a3f5f"
            },
            "marker": {
             "line": {
              "color": "#E5ECF6",
              "width": 0.5
             },
             "pattern": {
              "fillmode": "overlay",
              "size": 10,
              "solidity": 0.2
             }
            },
            "type": "bar"
           }
          ],
          "barpolar": [
           {
            "marker": {
             "line": {
              "color": "#E5ECF6",
              "width": 0.5
             },
             "pattern": {
              "fillmode": "overlay",
              "size": 10,
              "solidity": 0.2
             }
            },
            "type": "barpolar"
           }
          ],
          "carpet": [
           {
            "aaxis": {
             "endlinecolor": "#2a3f5f",
             "gridcolor": "white",
             "linecolor": "white",
             "minorgridcolor": "white",
             "startlinecolor": "#2a3f5f"
            },
            "baxis": {
             "endlinecolor": "#2a3f5f",
             "gridcolor": "white",
             "linecolor": "white",
             "minorgridcolor": "white",
             "startlinecolor": "#2a3f5f"
            },
            "type": "carpet"
           }
          ],
          "choropleth": [
           {
            "colorbar": {
             "outlinewidth": 0,
             "ticks": ""
            },
            "type": "choropleth"
           }
          ],
          "contour": [
           {
            "colorbar": {
             "outlinewidth": 0,
             "ticks": ""
            },
            "colorscale": [
             [
              0,
              "#0d0887"
             ],
             [
              0.1111111111111111,
              "#46039f"
             ],
             [
              0.2222222222222222,
              "#7201a8"
             ],
             [
              0.3333333333333333,
              "#9c179e"
             ],
             [
              0.4444444444444444,
              "#bd3786"
             ],
             [
              0.5555555555555556,
              "#d8576b"
             ],
             [
              0.6666666666666666,
              "#ed7953"
             ],
             [
              0.7777777777777778,
              "#fb9f3a"
             ],
             [
              0.8888888888888888,
              "#fdca26"
             ],
             [
              1,
              "#f0f921"
             ]
            ],
            "type": "contour"
           }
          ],
          "contourcarpet": [
           {
            "colorbar": {
             "outlinewidth": 0,
             "ticks": ""
            },
            "type": "contourcarpet"
           }
          ],
          "heatmap": [
           {
            "colorbar": {
             "outlinewidth": 0,
             "ticks": ""
            },
            "colorscale": [
             [
              0,
              "#0d0887"
             ],
             [
              0.1111111111111111,
              "#46039f"
             ],
             [
              0.2222222222222222,
              "#7201a8"
             ],
             [
              0.3333333333333333,
              "#9c179e"
             ],
             [
              0.4444444444444444,
              "#bd3786"
             ],
             [
              0.5555555555555556,
              "#d8576b"
             ],
             [
              0.6666666666666666,
              "#ed7953"
             ],
             [
              0.7777777777777778,
              "#fb9f3a"
             ],
             [
              0.8888888888888888,
              "#fdca26"
             ],
             [
              1,
              "#f0f921"
             ]
            ],
            "type": "heatmap"
           }
          ],
          "heatmapgl": [
           {
            "colorbar": {
             "outlinewidth": 0,
             "ticks": ""
            },
            "colorscale": [
             [
              0,
              "#0d0887"
             ],
             [
              0.1111111111111111,
              "#46039f"
             ],
             [
              0.2222222222222222,
              "#7201a8"
             ],
             [
              0.3333333333333333,
              "#9c179e"
             ],
             [
              0.4444444444444444,
              "#bd3786"
             ],
             [
              0.5555555555555556,
              "#d8576b"
             ],
             [
              0.6666666666666666,
              "#ed7953"
             ],
             [
              0.7777777777777778,
              "#fb9f3a"
             ],
             [
              0.8888888888888888,
              "#fdca26"
             ],
             [
              1,
              "#f0f921"
             ]
            ],
            "type": "heatmapgl"
           }
          ],
          "histogram": [
           {
            "marker": {
             "pattern": {
              "fillmode": "overlay",
              "size": 10,
              "solidity": 0.2
             }
            },
            "type": "histogram"
           }
          ],
          "histogram2d": [
           {
            "colorbar": {
             "outlinewidth": 0,
             "ticks": ""
            },
            "colorscale": [
             [
              0,
              "#0d0887"
             ],
             [
              0.1111111111111111,
              "#46039f"
             ],
             [
              0.2222222222222222,
              "#7201a8"
             ],
             [
              0.3333333333333333,
              "#9c179e"
             ],
             [
              0.4444444444444444,
              "#bd3786"
             ],
             [
              0.5555555555555556,
              "#d8576b"
             ],
             [
              0.6666666666666666,
              "#ed7953"
             ],
             [
              0.7777777777777778,
              "#fb9f3a"
             ],
             [
              0.8888888888888888,
              "#fdca26"
             ],
             [
              1,
              "#f0f921"
             ]
            ],
            "type": "histogram2d"
           }
          ],
          "histogram2dcontour": [
           {
            "colorbar": {
             "outlinewidth": 0,
             "ticks": ""
            },
            "colorscale": [
             [
              0,
              "#0d0887"
             ],
             [
              0.1111111111111111,
              "#46039f"
             ],
             [
              0.2222222222222222,
              "#7201a8"
             ],
             [
              0.3333333333333333,
              "#9c179e"
             ],
             [
              0.4444444444444444,
              "#bd3786"
             ],
             [
              0.5555555555555556,
              "#d8576b"
             ],
             [
              0.6666666666666666,
              "#ed7953"
             ],
             [
              0.7777777777777778,
              "#fb9f3a"
             ],
             [
              0.8888888888888888,
              "#fdca26"
             ],
             [
              1,
              "#f0f921"
             ]
            ],
            "type": "histogram2dcontour"
           }
          ],
          "mesh3d": [
           {
            "colorbar": {
             "outlinewidth": 0,
             "ticks": ""
            },
            "type": "mesh3d"
           }
          ],
          "parcoords": [
           {
            "line": {
             "colorbar": {
              "outlinewidth": 0,
              "ticks": ""
             }
            },
            "type": "parcoords"
           }
          ],
          "pie": [
           {
            "automargin": true,
            "type": "pie"
           }
          ],
          "scatter": [
           {
            "fillpattern": {
             "fillmode": "overlay",
             "size": 10,
             "solidity": 0.2
            },
            "type": "scatter"
           }
          ],
          "scatter3d": [
           {
            "line": {
             "colorbar": {
              "outlinewidth": 0,
              "ticks": ""
             }
            },
            "marker": {
             "colorbar": {
              "outlinewidth": 0,
              "ticks": ""
             }
            },
            "type": "scatter3d"
           }
          ],
          "scattercarpet": [
           {
            "marker": {
             "colorbar": {
              "outlinewidth": 0,
              "ticks": ""
             }
            },
            "type": "scattercarpet"
           }
          ],
          "scattergeo": [
           {
            "marker": {
             "colorbar": {
              "outlinewidth": 0,
              "ticks": ""
             }
            },
            "type": "scattergeo"
           }
          ],
          "scattergl": [
           {
            "marker": {
             "colorbar": {
              "outlinewidth": 0,
              "ticks": ""
             }
            },
            "type": "scattergl"
           }
          ],
          "scattermapbox": [
           {
            "marker": {
             "colorbar": {
              "outlinewidth": 0,
              "ticks": ""
             }
            },
            "type": "scattermapbox"
           }
          ],
          "scatterpolar": [
           {
            "marker": {
             "colorbar": {
              "outlinewidth": 0,
              "ticks": ""
             }
            },
            "type": "scatterpolar"
           }
          ],
          "scatterpolargl": [
           {
            "marker": {
             "colorbar": {
              "outlinewidth": 0,
              "ticks": ""
             }
            },
            "type": "scatterpolargl"
           }
          ],
          "scatterternary": [
           {
            "marker": {
             "colorbar": {
              "outlinewidth": 0,
              "ticks": ""
             }
            },
            "type": "scatterternary"
           }
          ],
          "surface": [
           {
            "colorbar": {
             "outlinewidth": 0,
             "ticks": ""
            },
            "colorscale": [
             [
              0,
              "#0d0887"
             ],
             [
              0.1111111111111111,
              "#46039f"
             ],
             [
              0.2222222222222222,
              "#7201a8"
             ],
             [
              0.3333333333333333,
              "#9c179e"
             ],
             [
              0.4444444444444444,
              "#bd3786"
             ],
             [
              0.5555555555555556,
              "#d8576b"
             ],
             [
              0.6666666666666666,
              "#ed7953"
             ],
             [
              0.7777777777777778,
              "#fb9f3a"
             ],
             [
              0.8888888888888888,
              "#fdca26"
             ],
             [
              1,
              "#f0f921"
             ]
            ],
            "type": "surface"
           }
          ],
          "table": [
           {
            "cells": {
             "fill": {
              "color": "#EBF0F8"
             },
             "line": {
              "color": "white"
             }
            },
            "header": {
             "fill": {
              "color": "#C8D4E3"
             },
             "line": {
              "color": "white"
             }
            },
            "type": "table"
           }
          ]
         },
         "layout": {
          "annotationdefaults": {
           "arrowcolor": "#2a3f5f",
           "arrowhead": 0,
           "arrowwidth": 1
          },
          "autotypenumbers": "strict",
          "coloraxis": {
           "colorbar": {
            "outlinewidth": 0,
            "ticks": ""
           }
          },
          "colorscale": {
           "diverging": [
            [
             0,
             "#8e0152"
            ],
            [
             0.1,
             "#c51b7d"
            ],
            [
             0.2,
             "#de77ae"
            ],
            [
             0.3,
             "#f1b6da"
            ],
            [
             0.4,
             "#fde0ef"
            ],
            [
             0.5,
             "#f7f7f7"
            ],
            [
             0.6,
             "#e6f5d0"
            ],
            [
             0.7,
             "#b8e186"
            ],
            [
             0.8,
             "#7fbc41"
            ],
            [
             0.9,
             "#4d9221"
            ],
            [
             1,
             "#276419"
            ]
           ],
           "sequential": [
            [
             0,
             "#0d0887"
            ],
            [
             0.1111111111111111,
             "#46039f"
            ],
            [
             0.2222222222222222,
             "#7201a8"
            ],
            [
             0.3333333333333333,
             "#9c179e"
            ],
            [
             0.4444444444444444,
             "#bd3786"
            ],
            [
             0.5555555555555556,
             "#d8576b"
            ],
            [
             0.6666666666666666,
             "#ed7953"
            ],
            [
             0.7777777777777778,
             "#fb9f3a"
            ],
            [
             0.8888888888888888,
             "#fdca26"
            ],
            [
             1,
             "#f0f921"
            ]
           ],
           "sequentialminus": [
            [
             0,
             "#0d0887"
            ],
            [
             0.1111111111111111,
             "#46039f"
            ],
            [
             0.2222222222222222,
             "#7201a8"
            ],
            [
             0.3333333333333333,
             "#9c179e"
            ],
            [
             0.4444444444444444,
             "#bd3786"
            ],
            [
             0.5555555555555556,
             "#d8576b"
            ],
            [
             0.6666666666666666,
             "#ed7953"
            ],
            [
             0.7777777777777778,
             "#fb9f3a"
            ],
            [
             0.8888888888888888,
             "#fdca26"
            ],
            [
             1,
             "#f0f921"
            ]
           ]
          },
          "colorway": [
           "#636efa",
           "#EF553B",
           "#00cc96",
           "#ab63fa",
           "#FFA15A",
           "#19d3f3",
           "#FF6692",
           "#B6E880",
           "#FF97FF",
           "#FECB52"
          ],
          "font": {
           "color": "#2a3f5f"
          },
          "geo": {
           "bgcolor": "white",
           "lakecolor": "white",
           "landcolor": "#E5ECF6",
           "showlakes": true,
           "showland": true,
           "subunitcolor": "white"
          },
          "hoverlabel": {
           "align": "left"
          },
          "hovermode": "closest",
          "mapbox": {
           "style": "light"
          },
          "paper_bgcolor": "white",
          "plot_bgcolor": "#E5ECF6",
          "polar": {
           "angularaxis": {
            "gridcolor": "white",
            "linecolor": "white",
            "ticks": ""
           },
           "bgcolor": "#E5ECF6",
           "radialaxis": {
            "gridcolor": "white",
            "linecolor": "white",
            "ticks": ""
           }
          },
          "scene": {
           "xaxis": {
            "backgroundcolor": "#E5ECF6",
            "gridcolor": "white",
            "gridwidth": 2,
            "linecolor": "white",
            "showbackground": true,
            "ticks": "",
            "zerolinecolor": "white"
           },
           "yaxis": {
            "backgroundcolor": "#E5ECF6",
            "gridcolor": "white",
            "gridwidth": 2,
            "linecolor": "white",
            "showbackground": true,
            "ticks": "",
            "zerolinecolor": "white"
           },
           "zaxis": {
            "backgroundcolor": "#E5ECF6",
            "gridcolor": "white",
            "gridwidth": 2,
            "linecolor": "white",
            "showbackground": true,
            "ticks": "",
            "zerolinecolor": "white"
           }
          },
          "shapedefaults": {
           "line": {
            "color": "#2a3f5f"
           }
          },
          "ternary": {
           "aaxis": {
            "gridcolor": "white",
            "linecolor": "white",
            "ticks": ""
           },
           "baxis": {
            "gridcolor": "white",
            "linecolor": "white",
            "ticks": ""
           },
           "bgcolor": "#E5ECF6",
           "caxis": {
            "gridcolor": "white",
            "linecolor": "white",
            "ticks": ""
           }
          },
          "title": {
           "x": 0.05
          },
          "xaxis": {
           "automargin": true,
           "gridcolor": "white",
           "linecolor": "white",
           "ticks": "",
           "title": {
            "standoff": 15
           },
           "zerolinecolor": "white",
           "zerolinewidth": 2
          },
          "yaxis": {
           "automargin": true,
           "gridcolor": "white",
           "linecolor": "white",
           "ticks": "",
           "title": {
            "standoff": 15
           },
           "zerolinecolor": "white",
           "zerolinewidth": 2
          }
         }
        },
        "title": {
         "text": "Topic Similarity Between Two BERTopic Models"
        },
        "xaxis": {
         "anchor": "y",
         "constrain": "domain",
         "domain": [
          0,
          1
         ],
         "scaleanchor": "y",
         "title": {
          "text": "Biology Topics"
         }
        },
        "yaxis": {
         "anchor": "x",
         "autorange": "reversed",
         "constrain": "domain",
         "domain": [
          0,
          1
         ],
         "title": {
          "text": "Philosophy Topics"
         }
        }
       }
      }
     },
     "metadata": {},
     "output_type": "display_data"
    }
   ],
   "source": [
    "\n",
    "import numpy as np\n",
    "import pandas as pd\n",
    "import plotly.express as px\n",
    "from sklearn.metrics.pairwise import cosine_similarity\n",
    "from bertopic import BERTopic\n",
    "\n",
    "# Load or train two different BERTopic models\n",
    "model_1 = BERTopic.load(\"C:\\\\Users\\\\jacob\\\\OneDrive - Université Laval\\\\biophilo\\\\model_1\")  # First topic model  # Load first model\n",
    "model_2 = BERTopic.load(\"C:\\\\Users\\\\jacob\\\\OneDrive - Université Laval\\\\biophilo\\\\model_2\")  # Load second model\n",
    "\n",
    "# Get topic info and filter out outlier topics (-1)\n",
    "topic_info_1 = model_1.get_topic_info().query('Topic != -1')\n",
    "topic_info_2 = model_2.get_topic_info().query('Topic != -1')\n",
    "\n",
    "# Extract topic embeddings for valid topics (excluding outlier -1)\n",
    "embeddings_1 = model_1.topic_embeddings_[topic_info_1['Topic'].values]\n",
    "embeddings_2 = model_2.topic_embeddings_[topic_info_2['Topic'].values]\n",
    "\n",
    "# Extract topic names\n",
    "topic_names_1 = topic_info_1['Name'].values\n",
    "topic_names_2 = topic_info_2['Name'].values\n",
    "\n",
    "# Check shapes\n",
    "print(f\"Model 1 - Number of Topics: {len(topic_names_1)}, Shape of Embeddings: {embeddings_1.shape}\")\n",
    "print(f\"Model 2 - Number of Topics: {len(topic_names_2)}, Shape of Embeddings: {embeddings_2.shape}\")\n",
    "\n",
    "# Ensure the shapes match before computing cosine similarity\n",
    "if len(topic_names_1) != embeddings_1.shape[0] or len(topic_names_2) != embeddings_2.shape[0]:\n",
    "    raise ValueError(\"Mismatch between number of topics and embeddings.\")\n",
    "\n",
    "# Compute cosine similarity matrix (topics from model_1 vs. model_2)\n",
    "similarity_matrix = cosine_similarity(embeddings_1, embeddings_2)\n",
    "\n",
    "# Convert to a DataFrame for visualization\n",
    "df = pd.DataFrame(similarity_matrix, \n",
    "                  index=topic_names_1,  # Use topic names from model 1\n",
    "                  columns=topic_names_2)  # Use topic names from model 2\n",
    "\n",
    "# Plot heatmap using Plotly\n",
    "fig = px.imshow(df, text_auto=\".2f\", color_continuous_scale=\"Blues\",\n",
    "                labels={\"x\": \"Biology Topics\", \"y\": \"Philosophy Topics\", \"color\": \"Cosine Similarity\"},\n",
    "                title=\"Topic Similarity Between Two BERTopic Models\")\n",
    "\n",
    "# Show plot\n",
    "fig.show()\n",
    "fig.show(renderer='browser')"
   ]
  },
  {
   "cell_type": "code",
   "execution_count": 4,
   "metadata": {},
   "outputs": [
    {
     "ename": "ValueError",
     "evalue": "Make sure to either pass a valid directory or HF model.",
     "output_type": "error",
     "traceback": [
      "\u001b[1;31m---------------------------------------------------------------------------\u001b[0m",
      "\u001b[1;31mValueError\u001b[0m                                Traceback (most recent call last)",
      "Cell \u001b[1;32mIn[4], line 1\u001b[0m\n\u001b[1;32m----> 1\u001b[0m model_2 \u001b[38;5;241m=\u001b[39m \u001b[43mBERTopic\u001b[49m\u001b[38;5;241;43m.\u001b[39;49m\u001b[43mload\u001b[49m\u001b[43m(\u001b[49m\u001b[38;5;124;43m\"\u001b[39;49m\u001b[38;5;124;43mmodel_2\u001b[39;49m\u001b[38;5;124;43m\"\u001b[39;49m\u001b[43m)\u001b[49m  \u001b[38;5;66;03m# Second topic model\u001b[39;00m\n\u001b[0;32m      3\u001b[0m \u001b[38;5;66;03m# Extract topic embeddings (ignoring the outlier topic -1)\u001b[39;00m\n\u001b[0;32m      4\u001b[0m embeddings_1 \u001b[38;5;241m=\u001b[39m np\u001b[38;5;241m.\u001b[39marray([emb \u001b[38;5;28;01mfor\u001b[39;00m i, emb \u001b[38;5;129;01min\u001b[39;00m \u001b[38;5;28menumerate\u001b[39m(topic_embeddings_) \u001b[38;5;28;01mif\u001b[39;00m i \u001b[38;5;241m!=\u001b[39m \u001b[38;5;241m-\u001b[39m\u001b[38;5;241m1\u001b[39m])\n",
      "File \u001b[1;32mc:\\Users\\jacob\\anaconda3\\envs\\test\\Lib\\site-packages\\bertopic\\_bertopic.py:3396\u001b[0m, in \u001b[0;36mBERTopic.load\u001b[1;34m(cls, path, embedding_model)\u001b[0m\n\u001b[0;32m   3394\u001b[0m     topics, params, tensors, ctfidf_tensors, ctfidf_config, images \u001b[38;5;241m=\u001b[39m save_utils\u001b[38;5;241m.\u001b[39mload_files_from_hf(path)\n\u001b[0;32m   3395\u001b[0m \u001b[38;5;28;01melse\u001b[39;00m:\n\u001b[1;32m-> 3396\u001b[0m     \u001b[38;5;28;01mraise\u001b[39;00m \u001b[38;5;167;01mValueError\u001b[39;00m(\u001b[38;5;124m\"\u001b[39m\u001b[38;5;124mMake sure to either pass a valid directory or HF model.\u001b[39m\u001b[38;5;124m\"\u001b[39m)\n\u001b[0;32m   3397\u001b[0m topic_model \u001b[38;5;241m=\u001b[39m _create_model_from_files(\n\u001b[0;32m   3398\u001b[0m     topics,\n\u001b[0;32m   3399\u001b[0m     params,\n\u001b[1;32m   (...)\u001b[0m\n\u001b[0;32m   3404\u001b[0m     warn_no_backend\u001b[38;5;241m=\u001b[39m(embedding_model \u001b[38;5;129;01mis\u001b[39;00m \u001b[38;5;28;01mNone\u001b[39;00m),\n\u001b[0;32m   3405\u001b[0m )\n\u001b[0;32m   3407\u001b[0m \u001b[38;5;66;03m# Replace embedding model if one is specifically chosen\u001b[39;00m\n",
      "\u001b[1;31mValueError\u001b[0m: Make sure to either pass a valid directory or HF model."
     ]
    }
   ],
   "source": [
    "\n",
    "model_2 = BERTopic.load(\"model_2\")  # Second topic model\n",
    "\n",
    "# Extract topic embeddings (ignoring the outlier topic -1)\n",
    "embeddings_1 = np.array([emb for i, emb in enumerate(topic_embeddings_) if i != -1])\n",
    "embeddings_2 = np.array([emb for i, emb in enumerate(model_2.topic_embeddings_) if i != -1])\n",
    "\n",
    "# Compute cosine similarity matrix (topics from model_1 vs. model_2)\n",
    "similarity_matrix = cosine_similarity(embeddings_1, embeddings_2)\n",
    "\n",
    "# Convert to a DataFrame for visualization\n",
    "import pandas as pd\n",
    "df = pd.DataFrame(similarity_matrix, \n",
    "                  index=[f\"Model1_Topic {i}\" for i in range(len(embeddings_1))], \n",
    "                  columns=[f\"Model2_Topic {i}\" for i in range(len(embeddings_2))])\n",
    "\n",
    "# Plot heatmap using Plotly\n",
    "fig = px.imshow(df, text_auto=\".2f\", color_continuous_scale=\"Blues\",\n",
    "                labels={\"x\": \"Model 2 Topics\", \"y\": \"Model 1 Topics\", \"color\": \"Cosine Similarity\"})\n",
    "\n",
    "# Show plot\n",
    "fig.show()"
   ]
  }
 ],
 "metadata": {
  "kernelspec": {
   "display_name": "test",
   "language": "python",
   "name": "python3"
  },
  "language_info": {
   "codemirror_mode": {
    "name": "ipython",
    "version": 3
   },
   "file_extension": ".py",
   "mimetype": "text/x-python",
   "name": "python",
   "nbconvert_exporter": "python",
   "pygments_lexer": "ipython3",
   "version": "3.11.10"
  }
 },
 "nbformat": 4,
 "nbformat_minor": 2
}
